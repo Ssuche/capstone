{
 "cells": [
  {
   "cell_type": "code",
   "execution_count": 6,
   "metadata": {},
   "outputs": [],
   "source": [
    "import pandas as pd\n",
    "import numpy as np\n",
    "import warnings\n",
    "warnings.filterwarnings(\"ignore\")\n",
    "\n",
    "path = 'data/'"
   ]
  },
  {
   "cell_type": "code",
   "execution_count": 7,
   "metadata": {},
   "outputs": [],
   "source": [
    "# import the redcap data\n",
    "# data\\Deidentified REDCap Survey Data 2024.08.26.csv\n",
    "redcap = pd.read_csv(path + 'Deidentified REDCap Survey Data 2024.08.26.csv')\n",
    "redcap['visit_date'] = pd.to_datetime(redcap['visit_date']).dt.strftime('%Y-%m-%d')\n",
    "temp = redcap.copy()\n",
    "temp['visit_date'] = pd.to_datetime(temp['visit_date'])\n",
    "temp = temp[['encrypt_mrn', 'ed_screened', 'visit_date', 'new_diagnosis', 'pcp_followup']]\n",
    "temp = temp.drop_duplicates(subset='encrypt_mrn', keep='first')"
   ]
  },
  {
   "cell_type": "code",
   "execution_count": null,
   "metadata": {},
   "outputs": [],
   "source": [
    "# import ed diabetes data\n",
    "# data\\Deidentified ED Diabetes Screening File 2024.08.23.csv\n",
    "ed_diabetes = pd.read_csv(path + 'Deidentified ED Diabetes Screening File 2024.08.23.csv')\n",
    "def convert_to_cm(height):\n",
    "    try:\n",
    "        feet, inches = height.split(\"'\")\n",
    "        inches = inches.replace('\"', '').strip() \n",
    "        feet = int(feet.strip()) \n",
    "        inches = float(inches) \n",
    "        return round(feet * 30.48 + inches * 2.54, 2)\n",
    "    except Exception as e:\n",
    "        print(f\"Error converting height: {height}, {e}\")\n",
    "        return None\n",
    "ed_diabetes['height'] = ed_diabetes['height'].apply(convert_to_cm)\n",
    "ed_diabetes['height'] = ed_diabetes['height'].round(2)\n",
    "ed_diabetes['weight'] = ed_diabetes['weight'].round(2)\n",
    "ed_diabetes['bmi'] = ed_diabetes['bmi'][(ed_diabetes['bmi'] >= 15) & (ed_diabetes['bmi'] <= 60)]\n",
    "# not english or spanish will be others\n",
    "ed_diabetes['language'] = ed_diabetes['language'].apply(lambda x: x if x in ['English', 'Spanish'] else 'Other')"
   ]
  },
  {
   "cell_type": "code",
   "execution_count": 9,
   "metadata": {},
   "outputs": [],
   "source": [
    "# Perform the left merge\n",
    "merged = pd.merge(temp, ed_diabetes, on=['encrypt_mrn'], how='left')\n",
    "merged = merged.drop_duplicates(subset='encrypt_mrn', keep='first')\n"
   ]
  },
  {
   "cell_type": "code",
   "execution_count": null,
   "metadata": {},
   "outputs": [],
   "source": [
    "merged"
   ]
  },
  {
   "cell_type": "code",
   "execution_count": 11,
   "metadata": {},
   "outputs": [],
   "source": [
    "merged.to_csv('processed_data/ed_data.csv', index=False)"
   ]
  }
 ],
 "metadata": {
  "kernelspec": {
   "display_name": "capstone",
   "language": "python",
   "name": "python3"
  },
  "language_info": {
   "codemirror_mode": {
    "name": "ipython",
    "version": 3
   },
   "file_extension": ".py",
   "mimetype": "text/x-python",
   "name": "python",
   "nbconvert_exporter": "python",
   "pygments_lexer": "ipython3",
   "version": "3.12.7"
  }
 },
 "nbformat": 4,
 "nbformat_minor": 2
}
