{
 "cells": [
  {
   "cell_type": "code",
   "execution_count": 1,
   "id": "660d222a",
   "metadata": {},
   "outputs": [],
   "source": [
    "import pandas as pd\n",
    "import numpy as np\n",
    "from scipy.stats import ttest_ind,chi2_contingency\n",
    "import seaborn as sns\n",
    "import matplotlib.pyplot as plt\n",
    "\n",
    "import warnings\n",
    "warnings.filterwarnings(\"ignore\")"
   ]
  },
  {
   "cell_type": "code",
   "execution_count": 2,
   "id": "55ce0897",
   "metadata": {},
   "outputs": [
    {
     "data": {
      "text/html": [
       "<div>\n",
       "<style scoped>\n",
       "    .dataframe tbody tr th:only-of-type {\n",
       "        vertical-align: middle;\n",
       "    }\n",
       "\n",
       "    .dataframe tbody tr th {\n",
       "        vertical-align: top;\n",
       "    }\n",
       "\n",
       "    .dataframe thead th {\n",
       "        text-align: right;\n",
       "    }\n",
       "</style>\n",
       "<table border=\"1\" class=\"dataframe\">\n",
       "  <thead>\n",
       "    <tr style=\"text-align: right;\">\n",
       "      <th></th>\n",
       "      <th>encrypt_mrn</th>\n",
       "      <th>ed_screened</th>\n",
       "      <th>visit_date</th>\n",
       "      <th>new_diagnosis</th>\n",
       "      <th>pcp_followup</th>\n",
       "      <th>max_sbp</th>\n",
       "      <th>min_sbp</th>\n",
       "      <th>max_dbp</th>\n",
       "      <th>min_dbp</th>\n",
       "      <th>max_diff</th>\n",
       "      <th>...</th>\n",
       "      <th>max_value_HEMOGLOBIN A1C</th>\n",
       "      <th>max_value_LDL CHOLESTEROL, CALCULATED</th>\n",
       "      <th>min_value_CHOLESTEROL, TOTAL</th>\n",
       "      <th>min_value_CREATININE</th>\n",
       "      <th>min_value_GLUCOSE</th>\n",
       "      <th>min_value_GLUCOSE, POC</th>\n",
       "      <th>min_value_HDL CHOLESTEROL</th>\n",
       "      <th>min_value_HEMOGLOBIN A1C</th>\n",
       "      <th>min_value_LDL CHOLESTEROL, CALCULATED</th>\n",
       "      <th>visit_type</th>\n",
       "    </tr>\n",
       "  </thead>\n",
       "  <tbody>\n",
       "    <tr>\n",
       "      <th>0</th>\n",
       "      <td>2303579</td>\n",
       "      <td>NYU Brooklyn</td>\n",
       "      <td>2023-01-10</td>\n",
       "      <td>Yes</td>\n",
       "      <td>Yes</td>\n",
       "      <td>133.0</td>\n",
       "      <td>114.0</td>\n",
       "      <td>96.0</td>\n",
       "      <td>64.0</td>\n",
       "      <td>52.0</td>\n",
       "      <td>...</td>\n",
       "      <td>9.3</td>\n",
       "      <td>176.0</td>\n",
       "      <td>268.0</td>\n",
       "      <td>0.74</td>\n",
       "      <td>305.0</td>\n",
       "      <td>230.0</td>\n",
       "      <td>31.0</td>\n",
       "      <td>9.3</td>\n",
       "      <td>176.0</td>\n",
       "      <td>Hospitalization</td>\n",
       "    </tr>\n",
       "    <tr>\n",
       "      <th>1</th>\n",
       "      <td>2117042</td>\n",
       "      <td>NYU Long Island</td>\n",
       "      <td>2022-01-13</td>\n",
       "      <td>Yes</td>\n",
       "      <td>Yes</td>\n",
       "      <td>102.0</td>\n",
       "      <td>102.0</td>\n",
       "      <td>69.0</td>\n",
       "      <td>69.0</td>\n",
       "      <td>33.0</td>\n",
       "      <td>...</td>\n",
       "      <td>NaN</td>\n",
       "      <td>NaN</td>\n",
       "      <td>NaN</td>\n",
       "      <td>NaN</td>\n",
       "      <td>NaN</td>\n",
       "      <td>443.0</td>\n",
       "      <td>NaN</td>\n",
       "      <td>NaN</td>\n",
       "      <td>NaN</td>\n",
       "      <td>Hospitalization</td>\n",
       "    </tr>\n",
       "    <tr>\n",
       "      <th>2</th>\n",
       "      <td>2117326</td>\n",
       "      <td>NYU Brooklyn</td>\n",
       "      <td>2022-01-14</td>\n",
       "      <td>Yes</td>\n",
       "      <td>No</td>\n",
       "      <td>158.0</td>\n",
       "      <td>148.0</td>\n",
       "      <td>88.0</td>\n",
       "      <td>82.0</td>\n",
       "      <td>76.0</td>\n",
       "      <td>...</td>\n",
       "      <td>11.2</td>\n",
       "      <td>NaN</td>\n",
       "      <td>NaN</td>\n",
       "      <td>0.70</td>\n",
       "      <td>423.0</td>\n",
       "      <td>404.0</td>\n",
       "      <td>NaN</td>\n",
       "      <td>11.2</td>\n",
       "      <td>NaN</td>\n",
       "      <td>Emergency</td>\n",
       "    </tr>\n",
       "    <tr>\n",
       "      <th>3</th>\n",
       "      <td>2112782</td>\n",
       "      <td>NYU Brooklyn</td>\n",
       "      <td>2022-01-16</td>\n",
       "      <td>Yes</td>\n",
       "      <td>No</td>\n",
       "      <td>181.0</td>\n",
       "      <td>146.0</td>\n",
       "      <td>93.0</td>\n",
       "      <td>87.0</td>\n",
       "      <td>88.0</td>\n",
       "      <td>...</td>\n",
       "      <td>11.6</td>\n",
       "      <td>NaN</td>\n",
       "      <td>NaN</td>\n",
       "      <td>1.03</td>\n",
       "      <td>418.0</td>\n",
       "      <td>491.0</td>\n",
       "      <td>NaN</td>\n",
       "      <td>11.6</td>\n",
       "      <td>NaN</td>\n",
       "      <td>Emergency</td>\n",
       "    </tr>\n",
       "    <tr>\n",
       "      <th>4</th>\n",
       "      <td>2062174</td>\n",
       "      <td>NYU Cobble Hill</td>\n",
       "      <td>2022-01-19</td>\n",
       "      <td>Yes</td>\n",
       "      <td>Yes</td>\n",
       "      <td>177.0</td>\n",
       "      <td>135.0</td>\n",
       "      <td>100.0</td>\n",
       "      <td>68.0</td>\n",
       "      <td>77.0</td>\n",
       "      <td>...</td>\n",
       "      <td>8.3</td>\n",
       "      <td>NaN</td>\n",
       "      <td>NaN</td>\n",
       "      <td>NaN</td>\n",
       "      <td>NaN</td>\n",
       "      <td>181.0</td>\n",
       "      <td>NaN</td>\n",
       "      <td>8.3</td>\n",
       "      <td>NaN</td>\n",
       "      <td>Emergency</td>\n",
       "    </tr>\n",
       "  </tbody>\n",
       "</table>\n",
       "<p>5 rows × 154 columns</p>\n",
       "</div>"
      ],
      "text/plain": [
       "   encrypt_mrn      ed_screened  visit_date new_diagnosis pcp_followup  \\\n",
       "0      2303579     NYU Brooklyn  2023-01-10           Yes          Yes   \n",
       "1      2117042  NYU Long Island  2022-01-13           Yes          Yes   \n",
       "2      2117326     NYU Brooklyn  2022-01-14           Yes           No   \n",
       "3      2112782     NYU Brooklyn  2022-01-16           Yes           No   \n",
       "4      2062174  NYU Cobble Hill  2022-01-19           Yes          Yes   \n",
       "\n",
       "   max_sbp  min_sbp  max_dbp  min_dbp  max_diff  ...  \\\n",
       "0    133.0    114.0     96.0     64.0      52.0  ...   \n",
       "1    102.0    102.0     69.0     69.0      33.0  ...   \n",
       "2    158.0    148.0     88.0     82.0      76.0  ...   \n",
       "3    181.0    146.0     93.0     87.0      88.0  ...   \n",
       "4    177.0    135.0    100.0     68.0      77.0  ...   \n",
       "\n",
       "   max_value_HEMOGLOBIN A1C  max_value_LDL CHOLESTEROL, CALCULATED  \\\n",
       "0                       9.3                                  176.0   \n",
       "1                       NaN                                    NaN   \n",
       "2                      11.2                                    NaN   \n",
       "3                      11.6                                    NaN   \n",
       "4                       8.3                                    NaN   \n",
       "\n",
       "   min_value_CHOLESTEROL, TOTAL  min_value_CREATININE  min_value_GLUCOSE  \\\n",
       "0                         268.0                  0.74              305.0   \n",
       "1                           NaN                   NaN                NaN   \n",
       "2                           NaN                  0.70              423.0   \n",
       "3                           NaN                  1.03              418.0   \n",
       "4                           NaN                   NaN                NaN   \n",
       "\n",
       "   min_value_GLUCOSE, POC min_value_HDL CHOLESTEROL min_value_HEMOGLOBIN A1C  \\\n",
       "0                   230.0                      31.0                      9.3   \n",
       "1                   443.0                       NaN                      NaN   \n",
       "2                   404.0                       NaN                     11.2   \n",
       "3                   491.0                       NaN                     11.6   \n",
       "4                   181.0                       NaN                      8.3   \n",
       "\n",
       "  min_value_LDL CHOLESTEROL, CALCULATED       visit_type  \n",
       "0                                 176.0  Hospitalization  \n",
       "1                                   NaN  Hospitalization  \n",
       "2                                   NaN        Emergency  \n",
       "3                                   NaN        Emergency  \n",
       "4                                   NaN        Emergency  \n",
       "\n",
       "[5 rows x 154 columns]"
      ]
     },
     "execution_count": 2,
     "metadata": {},
     "output_type": "execute_result"
    }
   ],
   "source": [
    "data = pd.read_csv('../processed_data/merged_data.csv')\n",
    "data.head()"
   ]
  },
  {
   "cell_type": "code",
   "execution_count": 3,
   "id": "f851e79d",
   "metadata": {},
   "outputs": [
    {
     "name": "stdout",
     "output_type": "stream",
     "text": [
      "encrypt_mrn\n",
      "ed_screened\n",
      "visit_date\n",
      "new_diagnosis\n",
      "pcp_followup\n",
      "max_sbp\n",
      "min_sbp\n",
      "max_dbp\n",
      "min_dbp\n",
      "max_diff\n",
      "avg_sbp\n",
      "avg_dbp\n",
      "avg_diff\n",
      "test_nums\n",
      "encrypt_csn_x\n",
      "age\n",
      "sex\n",
      "detailed_race\n",
      "language\n",
      "insurance_type\n",
      "bmi\n",
      "height\n",
      "weight\n",
      "dm_on_pl\n",
      "dm_on_pmh\n",
      "htn_on_pl\n",
      "htn_on_pmh\n",
      "hld_on_pl\n",
      "hld_on_pmh\n",
      "gdm_on_pl\n",
      "gdm_on_pmh\n",
      "pcos_on_pl\n",
      "pcos_on_pmh\n",
      "cad_on_pl\n",
      "cad_on_pmh\n",
      "chf_on_pl\n",
      "chf_on_pmh\n",
      "depression_on_pl\n",
      "depression_on_pmh\n",
      "cva_on_pl\n",
      "cva_on_pmh\n",
      "family_dm\n",
      "tobacco_user\n",
      "dm_meds\n",
      "htn_meds\n",
      "statin_meds\n",
      "aspirin_meds\n",
      "plavix_meds\n",
      "lasix_meds\n",
      "arrival_date\n",
      "disposition\n",
      "ed_name\n",
      "chiefcomplaint\n",
      "sbp_1st\n",
      "dbp_1st\n",
      "bpa_response\n",
      "primary_care\n",
      "hba1c\n",
      "poct_gluc\n",
      "chem_gluc\n",
      "chem_creat\n",
      "encrypt_csn_y\n",
      "match_status\n",
      "match_type\n",
      "gisjoin\n",
      "metro_area\n",
      "county\n",
      "state\n",
      "zip_code\n",
      "no_addy\n",
      "unk_addy\n",
      "po_box\n",
      "intl_addy\n",
      "homeless\n",
      "nyc_tract\n",
      "total_pop\n",
      "households\n",
      "housing_units\n",
      "p_children\n",
      "p_elderly\n",
      "p_adults\n",
      "p_female\n",
      "mdn_age\n",
      "p_nhwhite\n",
      "p_nhblack\n",
      "p_hispanic\n",
      "p_nhasian\n",
      "p_other\n",
      "p_moved\n",
      "p_longcommute\n",
      "p_marriednone\n",
      "p_marriedkids\n",
      "p_singlenone\n",
      "p_malekids\n",
      "p_femalekids\n",
      "p_cohabitkids\n",
      "p_nohsdeg\n",
      "p_hsonly\n",
      "p_somecollege\n",
      "p_collegeplus\n",
      "p_onlyenglish\n",
      "p_spanishlimited\n",
      "p_asianlimited\n",
      "p_otherlimited\n",
      "p_limitedall\n",
      "p_notlimited\n",
      "p_popbelow1fpl\n",
      "p_popbelow2fpl\n",
      "p_povmarriedfam\n",
      "p_povmalefam\n",
      "p_povfemalefam\n",
      "hh_mdnincome\n",
      "p_pubassist\n",
      "p_foodstamps\n",
      "p_assistorfood\n",
      "p_unemployed\n",
      "h_vacant\n",
      "h_renter\n",
      "h_occupants\n",
      "h_novehicles\n",
      "h_mdnrent\n",
      "h_rentpercent\n",
      "h_houseprice\n",
      "p_private\n",
      "p_medicare\n",
      "p_medicaid\n",
      "p_otherinsur\n",
      "p_uninsured\n",
      "h_nointernet\n",
      "h_nocomputer\n",
      "p_foreign\n",
      "p_disabled\n",
      "avg_value_CHOLESTEROL, TOTAL\n",
      "avg_value_CREATININE\n",
      "avg_value_GLUCOSE\n",
      "avg_value_GLUCOSE, POC\n",
      "avg_value_HDL CHOLESTEROL\n",
      "avg_value_HEMOGLOBIN A1C\n",
      "avg_value_LDL CHOLESTEROL, CALCULATED\n",
      "max_value_CHOLESTEROL, TOTAL\n",
      "max_value_CREATININE\n",
      "max_value_GLUCOSE\n",
      "max_value_GLUCOSE, POC\n",
      "max_value_HDL CHOLESTEROL\n",
      "max_value_HEMOGLOBIN A1C\n",
      "max_value_LDL CHOLESTEROL, CALCULATED\n",
      "min_value_CHOLESTEROL, TOTAL\n",
      "min_value_CREATININE\n",
      "min_value_GLUCOSE\n",
      "min_value_GLUCOSE, POC\n",
      "min_value_HDL CHOLESTEROL\n",
      "min_value_HEMOGLOBIN A1C\n",
      "min_value_LDL CHOLESTEROL, CALCULATED\n",
      "visit_type\n"
     ]
    }
   ],
   "source": [
    "for i in data.columns:\n",
    "    print(i)"
   ]
  },
  {
   "cell_type": "code",
   "execution_count": 4,
   "id": "8386d3f2",
   "metadata": {},
   "outputs": [
    {
     "data": {
      "text/plain": [
       "pcp_followup\n",
       "Yes    204\n",
       "No      50\n",
       "Name: count, dtype: int64"
      ]
     },
     "execution_count": 4,
     "metadata": {},
     "output_type": "execute_result"
    }
   ],
   "source": [
    "data['pcp_followup'].value_counts()"
   ]
  },
  {
   "cell_type": "code",
   "execution_count": 5,
   "id": "ef56dd84",
   "metadata": {},
   "outputs": [],
   "source": [
    "# follow up / no follow up\n",
    "yes = data[data['pcp_followup'] == 'Yes']\n",
    "no = data[data['pcp_followup'] == 'No']\n"
   ]
  },
  {
   "cell_type": "code",
   "execution_count": 6,
   "id": "9e04ca17",
   "metadata": {},
   "outputs": [
    {
     "name": "stdout",
     "output_type": "stream",
     "text": [
      "follow up mean age: 53.0\n",
      "no follow up mean age: 51.3\n",
      "Age p-value: 0.2808737545923621\n"
     ]
    }
   ],
   "source": [
    "# age\n",
    "\n",
    "yes_age = yes['age'].to_numpy()\n",
    "no_age = no['age'].to_numpy()\n",
    "t_stat, p_value = ttest_ind(yes_age, no_age, equal_var=True) \n",
    "print('follow up mean age:', yes_age.mean().round(1))\n",
    "print('no follow up mean age:', no_age.mean().round(1))\n",
    "print('Age p-value:', p_value)\n"
   ]
  },
  {
   "cell_type": "code",
   "execution_count": 7,
   "id": "29bf88f4",
   "metadata": {},
   "outputs": [
    {
     "name": "stdout",
     "output_type": "stream",
     "text": [
      "follow up male proportion: 0.593\n",
      "no follow up male proportion: 0.66\n",
      "Chi-squared test p-value: 0.4803451287200199\n"
     ]
    }
   ],
   "source": [
    "# sex\n",
    "# sex (1: female, 2: male, 99: unknown, 951: other)\n",
    "\n",
    "# male\n",
    "yes_male = yes[yes['sex'] == 'Male'].shape[0]\n",
    "no_male = no[no['sex'] == 'Male'].shape[0]\n",
    "print('follow up male proportion:', round(yes_male / yes.shape[0], 3))\n",
    "print('no follow up male proportion:', round(no_male / no.shape[0], 3))\n",
    "\n",
    "yes_other = yes.shape[0] - yes_male\n",
    "no_other = no.shape[0] - no_male\n",
    "\n",
    "sex = np.array([[yes_male, yes_other], \n",
    "                 [no_male, no_other]])  \n",
    "\n",
    "chi2, p, dof, expected = chi2_contingency(sex)\n",
    "print('Chi-squared test p-value:', p)"
   ]
  },
  {
   "cell_type": "code",
   "execution_count": 8,
   "id": "dc65995d",
   "metadata": {},
   "outputs": [
    {
     "name": "stdout",
     "output_type": "stream",
     "text": [
      "detailed_race\n",
      "Hispanic    0.318627\n",
      "Other       0.063725\n",
      "Asian       0.058824\n",
      "Black       0.240196\n",
      "White       0.318627\n",
      "Name: count, dtype: float64\n",
      "detailed_race\n",
      "Hispanic    0.42\n",
      "Other       0.12\n",
      "Asian       0.06\n",
      "Black       0.26\n",
      "White       0.14\n",
      "Name: count, dtype: float64\n",
      "Chi-squared test p-value: 0.11150481115755405\n"
     ]
    }
   ],
   "source": [
    "# race\n",
    "\n",
    "yes_detailed_race = yes['detailed_race'].value_counts()\n",
    "no_detailed_race = no['detailed_race'].value_counts()\n",
    "all_categories = set(yes_detailed_race.index).union(set(no_detailed_race.index))\n",
    "yes_aligned = yes_detailed_race.reindex(all_categories, fill_value=0)\n",
    "no_aligned = no_detailed_race.reindex(all_categories, fill_value=0)\n",
    "detailed_race = np.array([yes_aligned, no_aligned])\n",
    "print(yes_aligned / yes_aligned.sum())\n",
    "print(no_aligned / no_aligned.sum())\n",
    "chi2, p, dof, expected = chi2_contingency(detailed_race)\n",
    "print('Chi-squared test p-value:', p)"
   ]
  },
  {
   "cell_type": "code",
   "execution_count": 9,
   "id": "0ab0b1be",
   "metadata": {},
   "outputs": [
    {
     "name": "stdout",
     "output_type": "stream",
     "text": [
      "language\n",
      "Spanish    0.171569\n",
      "Other      0.019608\n",
      "English    0.808824\n",
      "Name: count, dtype: float64\n",
      "language\n",
      "Spanish    0.34\n",
      "Other      0.06\n",
      "English    0.60\n",
      "Name: count, dtype: float64\n",
      "Chi-squared test p-value: 0.006026807028311744\n"
     ]
    }
   ],
   "source": [
    "# language\n",
    "\n",
    "yes_language = yes['language'].value_counts()\n",
    "no_language = no['language'].value_counts()\n",
    "all_categories = set(yes_language.index).union(set(no_language.index))\n",
    "yes_aligned = yes_language.reindex(all_categories, fill_value=0)\n",
    "no_aligned = no_language.reindex(all_categories, fill_value=0)\n",
    "language = np.array([yes_aligned, no_aligned])\n",
    "print(yes_aligned / yes_aligned.sum())\n",
    "print(no_aligned / no_aligned.sum())\n",
    "chi2, p, dof, expected = chi2_contingency(language)\n",
    "print('Chi-squared test p-value:', p)"
   ]
  },
  {
   "cell_type": "code",
   "execution_count": 10,
   "id": "61df4c6c",
   "metadata": {},
   "outputs": [
    {
     "name": "stdout",
     "output_type": "stream",
     "text": [
      "insurance_type\n",
      "SELFPAY     0.049020\n",
      "PRIVATE     0.529412\n",
      "MEDICARE    0.151961\n",
      "OTHER       0.004902\n",
      "MEDICAID    0.264706\n",
      "Name: count, dtype: float64\n",
      "insurance_type\n",
      "SELFPAY     0.18\n",
      "PRIVATE     0.22\n",
      "MEDICARE    0.08\n",
      "OTHER       0.00\n",
      "MEDICAID    0.52\n",
      "Name: count, dtype: float64\n",
      "Chi-squared test p-value: 1.5896543265022498e-05\n"
     ]
    }
   ],
   "source": [
    "# insurance_type\n",
    "\n",
    "yes_insurance_type = yes['insurance_type'].value_counts()\n",
    "no_insurance_type = no['insurance_type'].value_counts()\n",
    "all_categories = set(yes_insurance_type.index).union(set(no_insurance_type.index))\n",
    "yes_aligned = yes_insurance_type.reindex(all_categories, fill_value=0)\n",
    "no_aligned = no_insurance_type.reindex(all_categories, fill_value=0)\n",
    "insurance_type = np.array([yes_aligned, no_aligned])\n",
    "print(yes_aligned / yes_aligned.sum())\n",
    "print(no_aligned / no_aligned.sum())\n",
    "chi2, p, dof, expected = chi2_contingency(insurance_type)\n",
    "print('Chi-squared test p-value:', p)"
   ]
  },
  {
   "cell_type": "code",
   "execution_count": 11,
   "id": "7c67a0ca",
   "metadata": {},
   "outputs": [
    {
     "name": "stdout",
     "output_type": "stream",
     "text": [
      "follow up mean bmi: 34.7\n",
      "no follow up mean bmi: 33.4\n",
      "bmi p-value: 0.28781223974297954\n"
     ]
    }
   ],
   "source": [
    "# bmi \n",
    "\n",
    "yes_bmi = yes['bmi'].dropna().to_numpy()\n",
    "no_bmi = no['bmi'].dropna().to_numpy()\n",
    "t_stat, p_value = ttest_ind(yes_bmi, no_bmi, equal_var=True) \n",
    "print('follow up mean bmi:', yes_bmi.mean().round(1))\n",
    "print('no follow up mean bmi:', no_bmi.mean().round(1))\n",
    "print('bmi p-value:', p_value)"
   ]
  },
  {
   "cell_type": "code",
   "execution_count": 12,
   "id": "17dbe0dd",
   "metadata": {},
   "outputs": [
    {
     "name": "stdout",
     "output_type": "stream",
     "text": [
      "follow up mean height: 5.6\n",
      "no follow up mean height: 5.5\n",
      "height p-value: 0.6129339194172966\n"
     ]
    }
   ],
   "source": [
    "# height \n",
    "\n",
    "yes_height = yes['height'].dropna().to_numpy()\n",
    "no_height = no['height'].dropna().to_numpy()\n",
    "t_stat, p_value = ttest_ind(yes_height, no_height, equal_var=True) \n",
    "print('follow up mean height:', yes_height.mean().round(1))\n",
    "print('no follow up mean height:', no_height.mean().round(1))\n",
    "print('height p-value:', p_value)"
   ]
  },
  {
   "cell_type": "code",
   "execution_count": 13,
   "id": "69d75319",
   "metadata": {},
   "outputs": [
    {
     "name": "stdout",
     "output_type": "stream",
     "text": [
      "follow up mean weight: 224.3\n",
      "no follow up mean weight: 210.1\n",
      "weight p-value: 0.13377476123175452\n"
     ]
    }
   ],
   "source": [
    "# weight \n",
    "\n",
    "yes_weight = yes['weight'].dropna().to_numpy()\n",
    "no_weight = no['weight'].dropna().to_numpy()\n",
    "t_stat, p_value = ttest_ind(yes_weight, no_weight, equal_var=True) \n",
    "print('follow up mean weight:', yes_weight.mean().round(1))\n",
    "print('no follow up mean weight:', no_weight.mean().round(1))\n",
    "print('weight p-value:', p_value)"
   ]
  },
  {
   "cell_type": "code",
   "execution_count": 14,
   "id": "2bcc0792",
   "metadata": {},
   "outputs": [
    {
     "name": "stdout",
     "output_type": "stream",
     "text": [
      "dm_on_pl\n",
      "No     0.95098\n",
      "Yes    0.04902\n",
      "Name: count, dtype: float64\n",
      "dm_on_pl\n",
      "No     0.9\n",
      "Yes    0.1\n",
      "Name: count, dtype: float64\n",
      "Chi-squared test p-value: 0.3003078819424843\n"
     ]
    }
   ],
   "source": [
    "# dm_on_pl\n",
    "\n",
    "yes_dm_on_pl = yes['dm_on_pl'].value_counts()\n",
    "no_dm_on_pl = no['dm_on_pl'].value_counts()\n",
    "all_categories = set(yes_dm_on_pl.index).union(set(no_dm_on_pl.index))\n",
    "yes_aligned = yes_dm_on_pl.reindex(all_categories, fill_value=0)\n",
    "no_aligned = no_dm_on_pl.reindex(all_categories, fill_value=0)\n",
    "dm_on_pl = np.array([yes_aligned, no_aligned])\n",
    "print(yes_aligned / yes_aligned.sum())\n",
    "print(no_aligned / no_aligned.sum())\n",
    "chi2, p, dof, expected = chi2_contingency(dm_on_pl)\n",
    "print('Chi-squared test p-value:', p)"
   ]
  },
  {
   "cell_type": "code",
   "execution_count": 15,
   "id": "4e8d141e",
   "metadata": {},
   "outputs": [
    {
     "name": "stdout",
     "output_type": "stream",
     "text": [
      "dm_on_pmh\n",
      "No     0.862745\n",
      "Yes    0.137255\n",
      "Name: count, dtype: float64\n",
      "dm_on_pmh\n",
      "No     0.8\n",
      "Yes    0.2\n",
      "Name: count, dtype: float64\n",
      "Chi-squared test p-value: 0.37156644803743766\n"
     ]
    }
   ],
   "source": [
    "# dm_on_pmh\n",
    "\n",
    "yes_dm_on_pmh = yes['dm_on_pmh'].value_counts()\n",
    "no_dm_on_pmh = no['dm_on_pmh'].value_counts()\n",
    "all_categories = set(yes_dm_on_pmh.index).union(set(no_dm_on_pmh.index))\n",
    "yes_aligned = yes_dm_on_pmh.reindex(all_categories, fill_value=0)\n",
    "no_aligned = no_dm_on_pmh.reindex(all_categories, fill_value=0)\n",
    "dm_on_pmh = np.array([yes_aligned, no_aligned])\n",
    "print(yes_aligned / yes_aligned.sum())\n",
    "print(no_aligned / no_aligned.sum())\n",
    "chi2, p, dof, expected = chi2_contingency(dm_on_pmh)\n",
    "print('Chi-squared test p-value:', p)"
   ]
  },
  {
   "cell_type": "code",
   "execution_count": 16,
   "id": "4af428a4",
   "metadata": {},
   "outputs": [
    {
     "name": "stdout",
     "output_type": "stream",
     "text": [
      "htn_on_pl\n",
      "No     0.848039\n",
      "Yes    0.151961\n",
      "Name: count, dtype: float64\n",
      "htn_on_pl\n",
      "No     0.86\n",
      "Yes    0.14\n",
      "Name: count, dtype: float64\n",
      "Chi-squared test p-value: 1.0\n"
     ]
    }
   ],
   "source": [
    "# htn_on_pl\n",
    "\n",
    "yes_htn_on_pl = yes['htn_on_pl'].value_counts()\n",
    "no_htn_on_pl = no['htn_on_pl'].value_counts()\n",
    "all_categories = set(yes_htn_on_pl.index).union(set(no_htn_on_pl.index))\n",
    "yes_aligned = yes_htn_on_pl.reindex(all_categories, fill_value=0)\n",
    "no_aligned = no_htn_on_pl.reindex(all_categories, fill_value=0)\n",
    "htn_on_pl = np.array([yes_aligned, no_aligned])\n",
    "print(yes_aligned / yes_aligned.sum())\n",
    "print(no_aligned / no_aligned.sum())\n",
    "chi2, p, dof, expected = chi2_contingency(htn_on_pl)\n",
    "print('Chi-squared test p-value:', p)"
   ]
  },
  {
   "cell_type": "code",
   "execution_count": 17,
   "id": "4f9d76ea",
   "metadata": {},
   "outputs": [
    {
     "name": "stdout",
     "output_type": "stream",
     "text": [
      "htn_on_pmh\n",
      "No     0.598039\n",
      "Yes    0.401961\n",
      "Name: count, dtype: float64\n",
      "htn_on_pmh\n",
      "No     0.74\n",
      "Yes    0.26\n",
      "Name: count, dtype: float64\n",
      "Chi-squared test p-value: 0.08986119717756008\n"
     ]
    }
   ],
   "source": [
    "# htn_on_pmh\n",
    "\n",
    "yes_htn_on_pmh = yes['htn_on_pmh'].value_counts()\n",
    "no_htn_on_pmh = no['htn_on_pmh'].value_counts()\n",
    "all_categories = set(yes_htn_on_pmh.index).union(set(no_htn_on_pmh.index))\n",
    "yes_aligned = yes_htn_on_pmh.reindex(all_categories, fill_value=0)\n",
    "no_aligned = no_htn_on_pmh.reindex(all_categories, fill_value=0)\n",
    "htn_on_pmh = np.array([yes_aligned, no_aligned])\n",
    "print(yes_aligned / yes_aligned.sum())\n",
    "print(no_aligned / no_aligned.sum())\n",
    "chi2, p, dof, expected = chi2_contingency(htn_on_pmh)\n",
    "print('Chi-squared test p-value:', p)"
   ]
  },
  {
   "cell_type": "code",
   "execution_count": 18,
   "id": "cd6f7cf8",
   "metadata": {},
   "outputs": [
    {
     "name": "stdout",
     "output_type": "stream",
     "text": [
      "gdm_on_pl\n",
      "No    1.0\n",
      "Name: count, dtype: float64\n",
      "gdm_on_pl\n",
      "No    1.0\n",
      "Name: count, dtype: float64\n",
      "Chi-squared test p-value: 1.0\n"
     ]
    }
   ],
   "source": [
    "# gdm_on_pl\n",
    "\n",
    "yes_gdm_on_pl = yes['gdm_on_pl'].value_counts()\n",
    "no_gdm_on_pl = no['gdm_on_pl'].value_counts()\n",
    "all_categories = set(yes_gdm_on_pl.index).union(set(no_gdm_on_pl.index))\n",
    "yes_aligned = yes_gdm_on_pl.reindex(all_categories, fill_value=0)\n",
    "no_aligned = no_gdm_on_pl.reindex(all_categories, fill_value=0)\n",
    "gdm_on_pl = np.array([yes_aligned, no_aligned])\n",
    "print(yes_aligned / yes_aligned.sum())\n",
    "print(no_aligned / no_aligned.sum())\n",
    "chi2, p, dof, expected = chi2_contingency(gdm_on_pl)\n",
    "print('Chi-squared test p-value:', p)"
   ]
  },
  {
   "cell_type": "code",
   "execution_count": 19,
   "id": "c63a0c87",
   "metadata": {},
   "outputs": [
    {
     "name": "stdout",
     "output_type": "stream",
     "text": [
      "gdm_on_pmh\n",
      "No    1.0\n",
      "Name: count, dtype: float64\n",
      "gdm_on_pmh\n",
      "No    1.0\n",
      "Name: count, dtype: float64\n",
      "Chi-squared test p-value: 1.0\n"
     ]
    }
   ],
   "source": [
    "# gdm_on_pmh\n",
    "\n",
    "yes_gdm_on_pmh = yes['gdm_on_pmh'].value_counts()\n",
    "no_gdm_on_pmh = no['gdm_on_pmh'].value_counts()\n",
    "all_categories = set(yes_gdm_on_pmh.index).union(set(no_gdm_on_pmh.index))\n",
    "yes_aligned = yes_gdm_on_pmh.reindex(all_categories, fill_value=0)\n",
    "no_aligned = no_gdm_on_pmh.reindex(all_categories, fill_value=0)\n",
    "gdm_on_pmh = np.array([yes_aligned, no_aligned])\n",
    "print(yes_aligned / yes_aligned.sum())\n",
    "print(no_aligned / no_aligned.sum())\n",
    "chi2, p, dof, expected = chi2_contingency(gdm_on_pmh)\n",
    "print('Chi-squared test p-value:', p)"
   ]
  },
  {
   "cell_type": "code",
   "execution_count": 20,
   "id": "123e061d",
   "metadata": {},
   "outputs": [
    {
     "name": "stdout",
     "output_type": "stream",
     "text": [
      "pcos_on_pl\n",
      "No    1.0\n",
      "Name: count, dtype: float64\n",
      "pcos_on_pl\n",
      "No    1.0\n",
      "Name: count, dtype: float64\n",
      "Chi-squared test p-value: 1.0\n"
     ]
    }
   ],
   "source": [
    "# pcos_on_pl\n",
    "\n",
    "yes_pcos_on_pl = yes['pcos_on_pl'].value_counts()\n",
    "no_pcos_on_pl = no['pcos_on_pl'].value_counts()\n",
    "all_categories = set(yes_pcos_on_pl.index).union(set(no_pcos_on_pl.index))\n",
    "yes_aligned = yes_pcos_on_pl.reindex(all_categories, fill_value=0)\n",
    "no_aligned = no_pcos_on_pl.reindex(all_categories, fill_value=0)\n",
    "pcos_on_pl = np.array([yes_aligned, no_aligned])\n",
    "print(yes_aligned / yes_aligned.sum())\n",
    "print(no_aligned / no_aligned.sum())\n",
    "chi2, p, dof, expected = chi2_contingency(pcos_on_pl)\n",
    "print('Chi-squared test p-value:', p)"
   ]
  },
  {
   "cell_type": "code",
   "execution_count": 21,
   "id": "7cd572f6",
   "metadata": {},
   "outputs": [
    {
     "name": "stdout",
     "output_type": "stream",
     "text": [
      "pcos_on_pmh\n",
      "No     0.985294\n",
      "Yes    0.014706\n",
      "Name: count, dtype: float64\n",
      "pcos_on_pmh\n",
      "No     1.0\n",
      "Yes    0.0\n",
      "Name: count, dtype: float64\n",
      "Chi-squared test p-value: 0.8947741639643179\n"
     ]
    }
   ],
   "source": [
    "# pcos_on_pmh\n",
    "\n",
    "yes_pcos_on_pmh = yes['pcos_on_pmh'].value_counts()\n",
    "no_pcos_on_pmh = no['pcos_on_pmh'].value_counts()\n",
    "all_categories = set(yes_pcos_on_pmh.index).union(set(no_pcos_on_pmh.index))\n",
    "yes_aligned = yes_pcos_on_pmh.reindex(all_categories, fill_value=0)\n",
    "no_aligned = no_pcos_on_pmh.reindex(all_categories, fill_value=0)\n",
    "pcos_on_pmh = np.array([yes_aligned, no_aligned])\n",
    "print(yes_aligned / yes_aligned.sum())\n",
    "print(no_aligned / no_aligned.sum())\n",
    "chi2, p, dof, expected = chi2_contingency(pcos_on_pmh)\n",
    "print('Chi-squared test p-value:', p)"
   ]
  },
  {
   "cell_type": "code",
   "execution_count": 22,
   "id": "a6a84ebd",
   "metadata": {},
   "outputs": [
    {
     "name": "stdout",
     "output_type": "stream",
     "text": [
      "cad_on_pl\n",
      "No     0.97549\n",
      "Yes    0.02451\n",
      "Name: count, dtype: float64\n",
      "cad_on_pl\n",
      "No     0.98\n",
      "Yes    0.02\n",
      "Name: count, dtype: float64\n",
      "Chi-squared test p-value: 1.0\n"
     ]
    }
   ],
   "source": [
    "# cad_on_pl\n",
    "\n",
    "yes_cad_on_pl = yes['cad_on_pl'].value_counts()\n",
    "no_cad_on_pl = no['cad_on_pl'].value_counts()\n",
    "all_categories = set(yes_cad_on_pl.index).union(set(no_cad_on_pl.index))\n",
    "yes_aligned = yes_cad_on_pl.reindex(all_categories, fill_value=0)\n",
    "no_aligned = no_cad_on_pl.reindex(all_categories, fill_value=0)\n",
    "cad_on_pl = np.array([yes_aligned, no_aligned])\n",
    "print(yes_aligned / yes_aligned.sum())\n",
    "print(no_aligned / no_aligned.sum())\n",
    "chi2, p, dof, expected = chi2_contingency(cad_on_pl)\n",
    "print('Chi-squared test p-value:', p)"
   ]
  },
  {
   "cell_type": "code",
   "execution_count": 23,
   "id": "d448a000",
   "metadata": {},
   "outputs": [
    {
     "name": "stdout",
     "output_type": "stream",
     "text": [
      "cad_on_pmh\n",
      "No     0.97549\n",
      "Yes    0.02451\n",
      "Name: count, dtype: float64\n",
      "cad_on_pmh\n",
      "No     0.98\n",
      "Yes    0.02\n",
      "Name: count, dtype: float64\n",
      "Chi-squared test p-value: 1.0\n"
     ]
    }
   ],
   "source": [
    "# cad_on_pmh\n",
    "\n",
    "yes_cad_on_pmh = yes['cad_on_pmh'].value_counts()\n",
    "no_cad_on_pmh = no['cad_on_pmh'].value_counts()\n",
    "all_categories = set(yes_cad_on_pmh.index).union(set(no_cad_on_pmh.index))\n",
    "yes_aligned = yes_cad_on_pmh.reindex(all_categories, fill_value=0)\n",
    "no_aligned = no_cad_on_pmh.reindex(all_categories, fill_value=0)\n",
    "cad_on_pmh = np.array([yes_aligned, no_aligned])\n",
    "print(yes_aligned / yes_aligned.sum())\n",
    "print(no_aligned / no_aligned.sum())\n",
    "chi2, p, dof, expected = chi2_contingency(cad_on_pmh)\n",
    "print('Chi-squared test p-value:', p)"
   ]
  },
  {
   "cell_type": "code",
   "execution_count": 24,
   "id": "183d55ec",
   "metadata": {},
   "outputs": [
    {
     "name": "stdout",
     "output_type": "stream",
     "text": [
      "chf_on_pl\n",
      "No     0.995098\n",
      "Yes    0.004902\n",
      "Name: count, dtype: float64\n",
      "chf_on_pl\n",
      "No     1.0\n",
      "Yes    0.0\n",
      "Name: count, dtype: float64\n",
      "Chi-squared test p-value: 1.0\n"
     ]
    }
   ],
   "source": [
    "# chf_on_pl\n",
    "\n",
    "yes_chf_on_pl = yes['chf_on_pl'].value_counts()\n",
    "no_chf_on_pl = no['chf_on_pl'].value_counts()\n",
    "all_categories = set(yes_chf_on_pl.index).union(set(no_chf_on_pl.index))\n",
    "yes_aligned = yes_chf_on_pl.reindex(all_categories, fill_value=0)\n",
    "no_aligned = no_chf_on_pl.reindex(all_categories, fill_value=0)\n",
    "chf_on_pl = np.array([yes_aligned, no_aligned])\n",
    "print(yes_aligned / yes_aligned.sum())\n",
    "print(no_aligned / no_aligned.sum())\n",
    "chi2, p, dof, expected = chi2_contingency(chf_on_pl)\n",
    "print('Chi-squared test p-value:', p)"
   ]
  },
  {
   "cell_type": "code",
   "execution_count": 25,
   "id": "e30f2956",
   "metadata": {},
   "outputs": [
    {
     "name": "stdout",
     "output_type": "stream",
     "text": [
      "chf_on_pmh\n",
      "No     0.980392\n",
      "Yes    0.019608\n",
      "Name: count, dtype: float64\n",
      "chf_on_pmh\n",
      "No     0.98\n",
      "Yes    0.02\n",
      "Name: count, dtype: float64\n",
      "Chi-squared test p-value: 1.0\n"
     ]
    }
   ],
   "source": [
    "# chf_on_pmh\n",
    "\n",
    "yes_chf_on_pmh = yes['chf_on_pmh'].value_counts()\n",
    "no_chf_on_pmh = no['chf_on_pmh'].value_counts()\n",
    "all_categories = set(yes_chf_on_pmh.index).union(set(no_chf_on_pmh.index))\n",
    "yes_aligned = yes_chf_on_pmh.reindex(all_categories, fill_value=0)\n",
    "no_aligned = no_chf_on_pmh.reindex(all_categories, fill_value=0)\n",
    "chf_on_pmh = np.array([yes_aligned, no_aligned])\n",
    "print(yes_aligned / yes_aligned.sum())\n",
    "print(no_aligned / no_aligned.sum())\n",
    "chi2, p, dof, expected = chi2_contingency(chf_on_pmh)\n",
    "print('Chi-squared test p-value:', p)"
   ]
  },
  {
   "cell_type": "code",
   "execution_count": 26,
   "id": "b6e1fa2a",
   "metadata": {},
   "outputs": [
    {
     "name": "stdout",
     "output_type": "stream",
     "text": [
      "depression_on_pl\n",
      "No     0.970588\n",
      "Yes    0.029412\n",
      "Name: count, dtype: float64\n",
      "depression_on_pl\n",
      "No     1.0\n",
      "Yes    0.0\n",
      "Name: count, dtype: float64\n",
      "Chi-squared test p-value: 0.4791192144625801\n"
     ]
    }
   ],
   "source": [
    "# depression_on_pl\n",
    "\n",
    "yes_depression_on_pl = yes['depression_on_pl'].value_counts()\n",
    "no_depression_on_pl = no['depression_on_pl'].value_counts()\n",
    "all_categories = set(yes_depression_on_pl.index).union(set(no_depression_on_pl.index))\n",
    "yes_aligned = yes_depression_on_pl.reindex(all_categories, fill_value=0)\n",
    "no_aligned = no_depression_on_pl.reindex(all_categories, fill_value=0)\n",
    "depression_on_pl = np.array([yes_aligned, no_aligned])\n",
    "print(yes_aligned / yes_aligned.sum())\n",
    "print(no_aligned / no_aligned.sum())\n",
    "chi2, p, dof, expected = chi2_contingency(depression_on_pl)\n",
    "print('Chi-squared test p-value:', p)"
   ]
  },
  {
   "cell_type": "code",
   "execution_count": 27,
   "id": "55bccf2d",
   "metadata": {},
   "outputs": [
    {
     "name": "stdout",
     "output_type": "stream",
     "text": [
      "depression_on_pmh\n",
      "No     0.95098\n",
      "Yes    0.04902\n",
      "Name: count, dtype: float64\n",
      "depression_on_pmh\n",
      "No     1.0\n",
      "Yes    0.0\n",
      "Name: count, dtype: float64\n",
      "Chi-squared test p-value: 0.23341791348654384\n"
     ]
    }
   ],
   "source": [
    "# depression_on_pmh\n",
    "\n",
    "yes_depression_on_pmh = yes['depression_on_pmh'].value_counts()\n",
    "no_depression_on_pmh = no['depression_on_pmh'].value_counts()\n",
    "all_categories = set(yes_depression_on_pmh.index).union(set(no_depression_on_pmh.index))\n",
    "yes_aligned = yes_depression_on_pmh.reindex(all_categories, fill_value=0)\n",
    "no_aligned = no_depression_on_pmh.reindex(all_categories, fill_value=0)\n",
    "depression_on_pmh = np.array([yes_aligned, no_aligned])\n",
    "print(yes_aligned / yes_aligned.sum())\n",
    "print(no_aligned / no_aligned.sum())\n",
    "chi2, p, dof, expected = chi2_contingency(depression_on_pmh)\n",
    "print('Chi-squared test p-value:', p)"
   ]
  },
  {
   "cell_type": "code",
   "execution_count": 28,
   "id": "4c3f7e06",
   "metadata": {},
   "outputs": [
    {
     "name": "stdout",
     "output_type": "stream",
     "text": [
      "cva_on_pl\n",
      "No    1.0\n",
      "Name: count, dtype: float64\n",
      "cva_on_pl\n",
      "No    1.0\n",
      "Name: count, dtype: float64\n",
      "Chi-squared test p-value: 1.0\n"
     ]
    }
   ],
   "source": [
    "# cva_on_pl\n",
    "\n",
    "yes_cva_on_pl = yes['cva_on_pl'].value_counts()\n",
    "no_cva_on_pl = no['cva_on_pl'].value_counts()\n",
    "all_categories = set(yes_cva_on_pl.index).union(set(no_cva_on_pl.index))\n",
    "yes_aligned = yes_cva_on_pl.reindex(all_categories, fill_value=0)\n",
    "no_aligned = no_cva_on_pl.reindex(all_categories, fill_value=0)\n",
    "cva_on_pl = np.array([yes_aligned, no_aligned])\n",
    "print(yes_aligned / yes_aligned.sum())\n",
    "print(no_aligned / no_aligned.sum())\n",
    "chi2, p, dof, expected = chi2_contingency(cva_on_pl)\n",
    "print('Chi-squared test p-value:', p)"
   ]
  },
  {
   "cell_type": "code",
   "execution_count": 29,
   "id": "aec5856a",
   "metadata": {},
   "outputs": [
    {
     "name": "stdout",
     "output_type": "stream",
     "text": [
      "cva_on_pmh\n",
      "No     0.97549\n",
      "Yes    0.02451\n",
      "Name: count, dtype: float64\n",
      "cva_on_pmh\n",
      "No     1.0\n",
      "Yes    0.0\n",
      "Name: count, dtype: float64\n",
      "Chi-squared test p-value: 0.5822546410717091\n"
     ]
    }
   ],
   "source": [
    "# cva_on_pmh\n",
    "\n",
    "yes_cva_on_pmh = yes['cva_on_pmh'].value_counts()\n",
    "no_cva_on_pmh = no['cva_on_pmh'].value_counts()\n",
    "all_categories = set(yes_cva_on_pmh.index).union(set(no_cva_on_pmh.index))\n",
    "yes_aligned = yes_cva_on_pmh.reindex(all_categories, fill_value=0)\n",
    "no_aligned = no_cva_on_pmh.reindex(all_categories, fill_value=0)\n",
    "cva_on_pmh = np.array([yes_aligned, no_aligned])\n",
    "print(yes_aligned / yes_aligned.sum())\n",
    "print(no_aligned / no_aligned.sum())\n",
    "chi2, p, dof, expected = chi2_contingency(cva_on_pmh)\n",
    "print('Chi-squared test p-value:', p)"
   ]
  },
  {
   "cell_type": "code",
   "execution_count": 30,
   "id": "875286d1",
   "metadata": {},
   "outputs": [
    {
     "name": "stdout",
     "output_type": "stream",
     "text": [
      "follow up mean family_dm: 0.5\n",
      "no follow up mean family_dm: 0.7\n",
      "family_dm p-value: 0.48651850593482493\n"
     ]
    }
   ],
   "source": [
    "# family_dm\n",
    "\n",
    "yes_family_dm = yes['family_dm'].dropna().to_numpy()\n",
    "no_family_dm = no['family_dm'].dropna().to_numpy()\n",
    "t_stat, p_value = ttest_ind(yes_family_dm, no_family_dm, equal_var=True) \n",
    "print('follow up mean family_dm:', yes_family_dm.mean().round(1))\n",
    "print('no follow up mean family_dm:', no_family_dm.mean().round(1))\n",
    "print('family_dm p-value:', p_value)"
   ]
  },
  {
   "cell_type": "code",
   "execution_count": 31,
   "id": "cdb3dd01",
   "metadata": {},
   "outputs": [
    {
     "name": "stdout",
     "output_type": "stream",
     "text": [
      "tobacco_user\n",
      "Quit         0.178571\n",
      "Yes          0.064286\n",
      "Never        0.714286\n",
      "Not Asked    0.042857\n",
      "Name: count, dtype: float64\n",
      "tobacco_user\n",
      "Quit         0.148148\n",
      "Yes          0.185185\n",
      "Never        0.666667\n",
      "Not Asked    0.000000\n",
      "Name: count, dtype: float64\n",
      "Chi-squared test p-value: 0.15130170447230368\n"
     ]
    }
   ],
   "source": [
    "# tobacco_user\n",
    "\n",
    "yes_tobacco_user = yes['tobacco_user'].value_counts()\n",
    "no_tobacco_user = no['tobacco_user'].value_counts()\n",
    "all_categories = set(yes_tobacco_user.index).union(set(no_tobacco_user.index))\n",
    "yes_aligned = yes_tobacco_user.reindex(all_categories, fill_value=0)\n",
    "no_aligned = no_tobacco_user.reindex(all_categories, fill_value=0)\n",
    "tobacco_user = np.array([yes_aligned, no_aligned])\n",
    "print(yes_aligned / yes_aligned.sum())\n",
    "print(no_aligned / no_aligned.sum())\n",
    "chi2, p, dof, expected = chi2_contingency(tobacco_user)\n",
    "print('Chi-squared test p-value:', p)"
   ]
  },
  {
   "cell_type": "code",
   "execution_count": 34,
   "id": "d604db4d",
   "metadata": {},
   "outputs": [
    {
     "name": "stdout",
     "output_type": "stream",
     "text": [
      "dm_meds\n",
      "No     0.518325\n",
      "Yes    0.481675\n",
      "Name: count, dtype: float64\n",
      "dm_meds\n",
      "No     0.707317\n",
      "Yes    0.292683\n",
      "Name: count, dtype: float64\n",
      "Chi-squared test p-value: 0.041867998139034204\n"
     ]
    }
   ],
   "source": [
    "# dm_meds\n",
    "\n",
    "yes_dm_meds = yes['dm_meds'].value_counts()\n",
    "no_dm_meds = no['dm_meds'].value_counts()\n",
    "all_categories = set(yes_dm_meds.index).union(set(no_dm_meds.index))\n",
    "yes_aligned = yes_dm_meds.reindex(all_categories, fill_value=0)\n",
    "no_aligned = no_dm_meds.reindex(all_categories, fill_value=0)\n",
    "dm_meds = np.array([yes_aligned, no_aligned])\n",
    "print(yes_aligned / yes_aligned.sum())\n",
    "print(no_aligned / no_aligned.sum())\n",
    "chi2, p, dof, expected = chi2_contingency(dm_meds)\n",
    "print('Chi-squared test p-value:', p)"
   ]
  },
  {
   "cell_type": "code",
   "execution_count": 35,
   "id": "c980d9da",
   "metadata": {},
   "outputs": [
    {
     "name": "stdout",
     "output_type": "stream",
     "text": [
      "htn_meds\n",
      "No     0.774869\n",
      "Yes    0.225131\n",
      "Name: count, dtype: float64\n",
      "htn_meds\n",
      "No     0.902439\n",
      "Yes    0.097561\n",
      "Name: count, dtype: float64\n",
      "Chi-squared test p-value: 0.10312237098734389\n"
     ]
    }
   ],
   "source": [
    "# htn_meds\n",
    "\n",
    "yes_htn_meds = yes['htn_meds'].value_counts()\n",
    "no_htn_meds = no['htn_meds'].value_counts()\n",
    "all_categories = set(yes_htn_meds.index).union(set(no_htn_meds.index))\n",
    "yes_aligned = yes_htn_meds.reindex(all_categories, fill_value=0)\n",
    "no_aligned = no_htn_meds.reindex(all_categories, fill_value=0)\n",
    "htn_meds = np.array([yes_aligned, no_aligned])\n",
    "print(yes_aligned / yes_aligned.sum())\n",
    "print(no_aligned / no_aligned.sum())\n",
    "chi2, p, dof, expected = chi2_contingency(htn_meds)\n",
    "print('Chi-squared test p-value:', p)"
   ]
  },
  {
   "cell_type": "code",
   "execution_count": 36,
   "id": "aad9196c",
   "metadata": {},
   "outputs": [
    {
     "name": "stdout",
     "output_type": "stream",
     "text": [
      "statin_meds\n",
      "No     0.691099\n",
      "Yes    0.308901\n",
      "Name: count, dtype: float64\n",
      "statin_meds\n",
      "No     0.829268\n",
      "Yes    0.170732\n",
      "Name: count, dtype: float64\n",
      "Chi-squared test p-value: 0.11217391945443958\n"
     ]
    }
   ],
   "source": [
    "# statin_meds\n",
    "\n",
    "yes_statin_meds = yes['statin_meds'].value_counts()\n",
    "no_statin_meds = no['statin_meds'].value_counts()\n",
    "all_categories = set(yes_statin_meds.index).union(set(no_statin_meds.index))\n",
    "yes_aligned = yes_statin_meds.reindex(all_categories, fill_value=0)\n",
    "no_aligned = no_statin_meds.reindex(all_categories, fill_value=0)\n",
    "statin_meds = np.array([yes_aligned, no_aligned])\n",
    "print(yes_aligned / yes_aligned.sum())\n",
    "print(no_aligned / no_aligned.sum())\n",
    "chi2, p, dof, expected = chi2_contingency(statin_meds)\n",
    "print('Chi-squared test p-value:', p)"
   ]
  },
  {
   "cell_type": "code",
   "execution_count": 37,
   "id": "d2b84ca7",
   "metadata": {},
   "outputs": [
    {
     "name": "stdout",
     "output_type": "stream",
     "text": [
      "aspirin_meds\n",
      "No     0.842932\n",
      "Yes    0.157068\n",
      "Name: count, dtype: float64\n",
      "aspirin_meds\n",
      "No     0.902439\n",
      "Yes    0.097561\n",
      "Name: count, dtype: float64\n",
      "Chi-squared test p-value: 0.46280934939987206\n"
     ]
    }
   ],
   "source": [
    "# aspirin_meds\n",
    "\n",
    "yes_aspirin_meds = yes['aspirin_meds'].value_counts()\n",
    "no_aspirin_meds = no['aspirin_meds'].value_counts()\n",
    "all_categories = set(yes_aspirin_meds.index).union(set(no_aspirin_meds.index))\n",
    "yes_aligned = yes_aspirin_meds.reindex(all_categories, fill_value=0)\n",
    "no_aligned = no_aspirin_meds.reindex(all_categories, fill_value=0)\n",
    "aspirin_meds = np.array([yes_aligned, no_aligned])\n",
    "print(yes_aligned / yes_aligned.sum())\n",
    "print(no_aligned / no_aligned.sum())\n",
    "chi2, p, dof, expected = chi2_contingency(aspirin_meds)\n",
    "print('Chi-squared test p-value:', p)"
   ]
  },
  {
   "cell_type": "code",
   "execution_count": 38,
   "id": "1118ec8f",
   "metadata": {},
   "outputs": [
    {
     "name": "stdout",
     "output_type": "stream",
     "text": [
      "plavix_meds\n",
      "No     0.963351\n",
      "Yes    0.036649\n",
      "Name: count, dtype: float64\n",
      "plavix_meds\n",
      "No     0.97561\n",
      "Yes    0.02439\n",
      "Name: count, dtype: float64\n",
      "Chi-squared test p-value: 1.0\n"
     ]
    }
   ],
   "source": [
    "# plavix_meds\n",
    "\n",
    "yes_plavix_meds = yes['plavix_meds'].value_counts()\n",
    "no_plavix_meds = no['plavix_meds'].value_counts()\n",
    "all_categories = set(yes_plavix_meds.index).union(set(no_plavix_meds.index))\n",
    "yes_aligned = yes_plavix_meds.reindex(all_categories, fill_value=0)\n",
    "no_aligned = no_plavix_meds.reindex(all_categories, fill_value=0)\n",
    "plavix_meds = np.array([yes_aligned, no_aligned])\n",
    "print(yes_aligned / yes_aligned.sum())\n",
    "print(no_aligned / no_aligned.sum())\n",
    "chi2, p, dof, expected = chi2_contingency(plavix_meds)\n",
    "print('Chi-squared test p-value:', p)"
   ]
  },
  {
   "cell_type": "code",
   "execution_count": 39,
   "id": "53453c27",
   "metadata": {},
   "outputs": [
    {
     "name": "stdout",
     "output_type": "stream",
     "text": [
      "lasix_meds\n",
      "No     0.942408\n",
      "Yes    0.057592\n",
      "Name: count, dtype: float64\n",
      "lasix_meds\n",
      "No     1.0\n",
      "Yes    0.0\n",
      "Name: count, dtype: float64\n",
      "Chi-squared test p-value: 0.24221581489585203\n"
     ]
    }
   ],
   "source": [
    "# lasix_meds\n",
    "\n",
    "yes_lasix_meds = yes['lasix_meds'].value_counts()\n",
    "no_lasix_meds = no['lasix_meds'].value_counts()\n",
    "all_categories = set(yes_lasix_meds.index).union(set(no_lasix_meds.index))\n",
    "yes_aligned = yes_lasix_meds.reindex(all_categories, fill_value=0)\n",
    "no_aligned = no_lasix_meds.reindex(all_categories, fill_value=0)\n",
    "lasix_meds = np.array([yes_aligned, no_aligned])\n",
    "print(yes_aligned / yes_aligned.sum())\n",
    "print(no_aligned / no_aligned.sum())\n",
    "chi2, p, dof, expected = chi2_contingency(lasix_meds)\n",
    "print('Chi-squared test p-value:', p)"
   ]
  },
  {
   "cell_type": "code",
   "execution_count": 41,
   "id": "8126320b",
   "metadata": {},
   "outputs": [
    {
     "name": "stdout",
     "output_type": "stream",
     "text": [
      "disposition\n",
      "AMA                           0.024510\n",
      "Transfer to Procedure Area    0.004902\n",
      "Admit                         0.450980\n",
      "Discharge                     0.514706\n",
      "LWBS after Triage             0.004902\n",
      "Name: count, dtype: float64\n",
      "disposition\n",
      "AMA                           0.00\n",
      "Transfer to Procedure Area    0.02\n",
      "Admit                         0.26\n",
      "Discharge                     0.72\n",
      "LWBS after Triage             0.00\n",
      "Name: count, dtype: float64\n",
      "Chi-squared test p-value: 0.05571250170433469\n"
     ]
    }
   ],
   "source": [
    "# disposition\n",
    "\n",
    "yes_disposition = yes['disposition'].value_counts()\n",
    "no_disposition = no['disposition'].value_counts()\n",
    "all_categories = set(yes_disposition.index).union(set(no_disposition.index))\n",
    "yes_aligned = yes_disposition.reindex(all_categories, fill_value=0)\n",
    "no_aligned = no_disposition.reindex(all_categories, fill_value=0)\n",
    "disposition = np.array([yes_aligned, no_aligned])\n",
    "print(yes_aligned / yes_aligned.sum())\n",
    "print(no_aligned / no_aligned.sum())\n",
    "chi2, p, dof, expected = chi2_contingency(disposition)\n",
    "print('Chi-squared test p-value:', p)"
   ]
  },
  {
   "cell_type": "code",
   "execution_count": 49,
   "id": "e770d760",
   "metadata": {},
   "outputs": [
    {
     "name": "stdout",
     "output_type": "stream",
     "text": [
      "ed_name\n",
      "NYU BROOKLYN       0.279412\n",
      "NYU COBBLE HILL    0.147059\n",
      "NYU LONG ISLAND    0.372549\n",
      "NYU MANHATTAN      0.200980\n",
      "Name: count, dtype: float64\n",
      "ed_name\n",
      "NYU BROOKLYN       0.48\n",
      "NYU COBBLE HILL    0.04\n",
      "NYU LONG ISLAND    0.30\n",
      "NYU MANHATTAN      0.18\n",
      "Name: count, dtype: float64\n",
      "Chi-squared test p-value: 0.02442103140024817\n"
     ]
    }
   ],
   "source": [
    "# ed_name\n",
    "\n",
    "yes_ed_name = yes['ed_name'].value_counts()\n",
    "no_ed_name = no['ed_name'].value_counts()\n",
    "all_categories = set(yes_ed_name.index).union(set(no_ed_name.index))\n",
    "yes_aligned = yes_ed_name.reindex(all_categories, fill_value=0)\n",
    "no_aligned = no_ed_name.reindex(all_categories, fill_value=0)\n",
    "ed_name = np.array([yes_aligned, no_aligned])\n",
    "print(yes_aligned / yes_aligned.sum())\n",
    "print(no_aligned / no_aligned.sum())\n",
    "chi2, p, dof, expected = chi2_contingency(ed_name)\n",
    "print('Chi-squared test p-value:', p)"
   ]
  },
  {
   "cell_type": "code",
   "execution_count": 52,
   "id": "edb6dfe8",
   "metadata": {},
   "outputs": [
    {
     "name": "stdout",
     "output_type": "stream",
     "text": [
      "follow up mean sbp_1st: 148.7\n",
      "no follow up mean sbp_1st: 143.5\n",
      "sbp_1st p-value: 0.1584314128077748\n"
     ]
    }
   ],
   "source": [
    "# sbp_1st\n",
    "\n",
    "yes_sbp_1st = yes['sbp_1st'].dropna().to_numpy()\n",
    "no_sbp_1st = no['sbp_1st'].dropna().to_numpy()\n",
    "t_stat, p_value = ttest_ind(yes_sbp_1st, no_sbp_1st, equal_var=True) \n",
    "print('follow up mean sbp_1st:', yes_sbp_1st.mean().round(1))\n",
    "print('no follow up mean sbp_1st:', no_sbp_1st.mean().round(1))\n",
    "print('sbp_1st p-value:', p_value)"
   ]
  },
  {
   "cell_type": "code",
   "execution_count": 54,
   "id": "a7582b26",
   "metadata": {},
   "outputs": [
    {
     "name": "stdout",
     "output_type": "stream",
     "text": [
      "follow up mean dbp_1st: 88.5\n",
      "no follow up mean dbp_1st: 84.2\n",
      "dbp_1st p-value: 0.0804199089878003\n"
     ]
    }
   ],
   "source": [
    "# dbp_1st\n",
    "\n",
    "yes_dbp_1st = yes['dbp_1st'].dropna().to_numpy()\n",
    "no_dbp_1st = no['dbp_1st'].dropna().to_numpy()\n",
    "t_stat, p_value = ttest_ind(yes_dbp_1st, no_dbp_1st, equal_var=True) \n",
    "print('follow up mean dbp_1st:', yes_dbp_1st.mean().round(1))\n",
    "print('no follow up mean dbp_1st:', no_dbp_1st.mean().round(1))\n",
    "print('dbp_1st p-value:', p_value)"
   ]
  },
  {
   "cell_type": "code",
   "execution_count": 56,
   "id": "1fce268b",
   "metadata": {},
   "outputs": [
    {
     "name": "stdout",
     "output_type": "stream",
     "text": [
      "bpa_response\n",
      "Acknowledge/Override Warning    0.106557\n",
      "Single Order                    0.893443\n",
      "Name: count, dtype: float64\n",
      "bpa_response\n",
      "Acknowledge/Override Warning    0.185185\n",
      "Single Order                    0.814815\n",
      "Name: count, dtype: float64\n",
      "Chi-squared test p-value: 0.41904297839249594\n"
     ]
    }
   ],
   "source": [
    "# bpa_response\n",
    "\n",
    "yes_bpa_response = yes['bpa_response'].value_counts()\n",
    "no_bpa_response = no['bpa_response'].value_counts()\n",
    "all_categories = set(yes_bpa_response.index).union(set(no_bpa_response.index))\n",
    "yes_aligned = yes_bpa_response.reindex(all_categories, fill_value=0)\n",
    "no_aligned = no_bpa_response.reindex(all_categories, fill_value=0)\n",
    "bpa_response = np.array([yes_aligned, no_aligned])\n",
    "print(yes_aligned / yes_aligned.sum())\n",
    "print(no_aligned / no_aligned.sum())\n",
    "chi2, p, dof, expected = chi2_contingency(bpa_response)\n",
    "print('Chi-squared test p-value:', p)"
   ]
  },
  {
   "cell_type": "code",
   "execution_count": 57,
   "id": "696bf7d8",
   "metadata": {},
   "outputs": [
    {
     "name": "stdout",
     "output_type": "stream",
     "text": [
      "primary_care\n",
      "YES    0.536145\n",
      "NO     0.463855\n",
      "Name: count, dtype: float64\n",
      "primary_care\n",
      "YES    0.578947\n",
      "NO     0.421053\n",
      "Name: count, dtype: float64\n",
      "Chi-squared test p-value: 0.7661953314069995\n"
     ]
    }
   ],
   "source": [
    "# primary_care\n",
    "\n",
    "yes_primary_care = yes['primary_care'].value_counts()\n",
    "no_primary_care = no['primary_care'].value_counts()\n",
    "all_categories = set(yes_primary_care.index).union(set(no_primary_care.index))\n",
    "yes_aligned = yes_primary_care.reindex(all_categories, fill_value=0)\n",
    "no_aligned = no_primary_care.reindex(all_categories, fill_value=0)\n",
    "primary_care = np.array([yes_aligned, no_aligned])\n",
    "print(yes_aligned / yes_aligned.sum())\n",
    "print(no_aligned / no_aligned.sum())\n",
    "chi2, p, dof, expected = chi2_contingency(primary_care)\n",
    "print('Chi-squared test p-value:', p)"
   ]
  },
  {
   "cell_type": "code",
   "execution_count": 58,
   "id": "03c64c60",
   "metadata": {},
   "outputs": [
    {
     "name": "stdout",
     "output_type": "stream",
     "text": [
      "follow up mean hba1c: 9.1\n",
      "no follow up mean hba1c: 8.9\n",
      "hba1c p-value: 0.6745409245576182\n"
     ]
    }
   ],
   "source": [
    "# hba1c\n",
    "\n",
    "yes_hba1c = yes['hba1c'].dropna().to_numpy()\n",
    "no_hba1c = no['hba1c'].dropna().to_numpy()\n",
    "t_stat, p_value = ttest_ind(yes_hba1c, no_hba1c, equal_var=True) \n",
    "print('follow up mean hba1c:', yes_hba1c.mean().round(1))\n",
    "print('no follow up mean hba1c:', no_hba1c.mean().round(1))\n",
    "print('hba1c p-value:', p_value)"
   ]
  },
  {
   "cell_type": "code",
   "execution_count": 60,
   "id": "b7831ef3",
   "metadata": {},
   "outputs": [
    {
     "name": "stdout",
     "output_type": "stream",
     "text": [
      "follow up mean poct_gluc: 320.5\n",
      "no follow up mean poct_gluc: 258.8\n",
      "poct_gluc p-value: 0.08860960289610122\n"
     ]
    }
   ],
   "source": [
    "# poct_gluc\n",
    "\n",
    "yes_poct_gluc = yes['poct_gluc'].dropna().to_numpy()\n",
    "no_poct_gluc = no['poct_gluc'].dropna().to_numpy()\n",
    "t_stat, p_value = ttest_ind(yes_poct_gluc, no_poct_gluc, equal_var=True) \n",
    "print('follow up mean poct_gluc:', yes_poct_gluc.mean().round(1))\n",
    "print('no follow up mean poct_gluc:', no_poct_gluc.mean().round(1))\n",
    "print('poct_gluc p-value:', p_value)"
   ]
  },
  {
   "cell_type": "code",
   "execution_count": 61,
   "id": "694a3400",
   "metadata": {},
   "outputs": [
    {
     "name": "stdout",
     "output_type": "stream",
     "text": [
      "follow up mean chem_gluc: 258.4\n",
      "no follow up mean chem_gluc: 250.7\n",
      "chem_gluc p-value: 0.807035620738979\n"
     ]
    }
   ],
   "source": [
    "# chem_gluc\n",
    "\n",
    "yes_chem_gluc = yes['chem_gluc'].dropna().to_numpy()\n",
    "no_chem_gluc = no['chem_gluc'].dropna().to_numpy()\n",
    "t_stat, p_value = ttest_ind(yes_chem_gluc, no_chem_gluc, equal_var=True) \n",
    "print('follow up mean chem_gluc:', yes_chem_gluc.mean().round(1))\n",
    "print('no follow up mean chem_gluc:', no_chem_gluc.mean().round(1))\n",
    "print('chem_gluc p-value:', p_value)"
   ]
  },
  {
   "cell_type": "code",
   "execution_count": 62,
   "id": "8bac9e29",
   "metadata": {},
   "outputs": [
    {
     "name": "stdout",
     "output_type": "stream",
     "text": [
      "follow up mean chem_creat: 1.1\n",
      "no follow up mean chem_creat: 1.1\n",
      "chem_creat p-value: 0.9485599549035529\n"
     ]
    }
   ],
   "source": [
    "# chem_creat\n",
    "\n",
    "yes_chem_creat = yes['chem_creat'].dropna().to_numpy()\n",
    "no_chem_creat = no['chem_creat'].dropna().to_numpy()\n",
    "t_stat, p_value = ttest_ind(yes_chem_creat, no_chem_creat, equal_var=True) \n",
    "print('follow up mean chem_creat:', yes_chem_creat.mean().round(1))\n",
    "print('no follow up mean chem_creat:', no_chem_creat.mean().round(1))\n",
    "print('chem_creat p-value:', p_value)"
   ]
  }
 ],
 "metadata": {
  "kernelspec": {
   "display_name": "capstone",
   "language": "python",
   "name": "python3"
  },
  "language_info": {
   "codemirror_mode": {
    "name": "ipython",
    "version": 3
   },
   "file_extension": ".py",
   "mimetype": "text/x-python",
   "name": "python",
   "nbconvert_exporter": "python",
   "pygments_lexer": "ipython3",
   "version": "3.13.1"
  }
 },
 "nbformat": 4,
 "nbformat_minor": 5
}
