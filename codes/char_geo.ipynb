{
 "cells": [
  {
   "cell_type": "code",
   "execution_count": 29,
   "id": "cb3925ce",
   "metadata": {},
   "outputs": [],
   "source": [
    "import pandas as pd\n",
    "import numpy as np\n",
    "from scipy.stats import ttest_ind,chi2_contingency\n",
    "import seaborn as sns\n",
    "import matplotlib.pyplot as plt\n",
    "\n",
    "import warnings\n",
    "warnings.filterwarnings(\"ignore\")"
   ]
  },
  {
   "cell_type": "code",
   "execution_count": 30,
   "id": "06c1adde",
   "metadata": {},
   "outputs": [
    {
     "data": {
      "text/html": [
       "<div>\n",
       "<style scoped>\n",
       "    .dataframe tbody tr th:only-of-type {\n",
       "        vertical-align: middle;\n",
       "    }\n",
       "\n",
       "    .dataframe tbody tr th {\n",
       "        vertical-align: top;\n",
       "    }\n",
       "\n",
       "    .dataframe thead th {\n",
       "        text-align: right;\n",
       "    }\n",
       "</style>\n",
       "<table border=\"1\" class=\"dataframe\">\n",
       "  <thead>\n",
       "    <tr style=\"text-align: right;\">\n",
       "      <th></th>\n",
       "      <th>encrypt_mrn</th>\n",
       "      <th>ed_screened</th>\n",
       "      <th>visit_date</th>\n",
       "      <th>new_diagnosis</th>\n",
       "      <th>pcp_followup</th>\n",
       "      <th>max_sbp</th>\n",
       "      <th>min_sbp</th>\n",
       "      <th>max_dbp</th>\n",
       "      <th>min_dbp</th>\n",
       "      <th>max_diff</th>\n",
       "      <th>...</th>\n",
       "      <th>max_value_HEMOGLOBIN A1C</th>\n",
       "      <th>max_value_LDL CHOLESTEROL, CALCULATED</th>\n",
       "      <th>min_value_CHOLESTEROL, TOTAL</th>\n",
       "      <th>min_value_CREATININE</th>\n",
       "      <th>min_value_GLUCOSE</th>\n",
       "      <th>min_value_GLUCOSE, POC</th>\n",
       "      <th>min_value_HDL CHOLESTEROL</th>\n",
       "      <th>min_value_HEMOGLOBIN A1C</th>\n",
       "      <th>min_value_LDL CHOLESTEROL, CALCULATED</th>\n",
       "      <th>visit_type</th>\n",
       "    </tr>\n",
       "  </thead>\n",
       "  <tbody>\n",
       "    <tr>\n",
       "      <th>0</th>\n",
       "      <td>2303579</td>\n",
       "      <td>NYU Brooklyn</td>\n",
       "      <td>2023-01-10</td>\n",
       "      <td>Yes</td>\n",
       "      <td>Yes</td>\n",
       "      <td>133.0</td>\n",
       "      <td>114.0</td>\n",
       "      <td>96.0</td>\n",
       "      <td>64.0</td>\n",
       "      <td>52.0</td>\n",
       "      <td>...</td>\n",
       "      <td>9.3</td>\n",
       "      <td>176.0</td>\n",
       "      <td>268.0</td>\n",
       "      <td>0.74</td>\n",
       "      <td>305.0</td>\n",
       "      <td>230.0</td>\n",
       "      <td>31.0</td>\n",
       "      <td>9.3</td>\n",
       "      <td>176.0</td>\n",
       "      <td>Hospitalization</td>\n",
       "    </tr>\n",
       "    <tr>\n",
       "      <th>1</th>\n",
       "      <td>2117042</td>\n",
       "      <td>NYU Long Island</td>\n",
       "      <td>2022-01-13</td>\n",
       "      <td>Yes</td>\n",
       "      <td>Yes</td>\n",
       "      <td>102.0</td>\n",
       "      <td>102.0</td>\n",
       "      <td>69.0</td>\n",
       "      <td>69.0</td>\n",
       "      <td>33.0</td>\n",
       "      <td>...</td>\n",
       "      <td>NaN</td>\n",
       "      <td>NaN</td>\n",
       "      <td>NaN</td>\n",
       "      <td>NaN</td>\n",
       "      <td>NaN</td>\n",
       "      <td>443.0</td>\n",
       "      <td>NaN</td>\n",
       "      <td>NaN</td>\n",
       "      <td>NaN</td>\n",
       "      <td>Hospitalization</td>\n",
       "    </tr>\n",
       "    <tr>\n",
       "      <th>2</th>\n",
       "      <td>2117326</td>\n",
       "      <td>NYU Brooklyn</td>\n",
       "      <td>2022-01-14</td>\n",
       "      <td>Yes</td>\n",
       "      <td>No</td>\n",
       "      <td>158.0</td>\n",
       "      <td>148.0</td>\n",
       "      <td>88.0</td>\n",
       "      <td>82.0</td>\n",
       "      <td>76.0</td>\n",
       "      <td>...</td>\n",
       "      <td>11.2</td>\n",
       "      <td>NaN</td>\n",
       "      <td>NaN</td>\n",
       "      <td>0.70</td>\n",
       "      <td>423.0</td>\n",
       "      <td>404.0</td>\n",
       "      <td>NaN</td>\n",
       "      <td>11.2</td>\n",
       "      <td>NaN</td>\n",
       "      <td>Emergency</td>\n",
       "    </tr>\n",
       "    <tr>\n",
       "      <th>3</th>\n",
       "      <td>2112782</td>\n",
       "      <td>NYU Brooklyn</td>\n",
       "      <td>2022-01-16</td>\n",
       "      <td>Yes</td>\n",
       "      <td>No</td>\n",
       "      <td>181.0</td>\n",
       "      <td>146.0</td>\n",
       "      <td>93.0</td>\n",
       "      <td>87.0</td>\n",
       "      <td>88.0</td>\n",
       "      <td>...</td>\n",
       "      <td>11.6</td>\n",
       "      <td>NaN</td>\n",
       "      <td>NaN</td>\n",
       "      <td>1.03</td>\n",
       "      <td>418.0</td>\n",
       "      <td>491.0</td>\n",
       "      <td>NaN</td>\n",
       "      <td>11.6</td>\n",
       "      <td>NaN</td>\n",
       "      <td>Emergency</td>\n",
       "    </tr>\n",
       "    <tr>\n",
       "      <th>4</th>\n",
       "      <td>2062174</td>\n",
       "      <td>NYU Cobble Hill</td>\n",
       "      <td>2022-01-19</td>\n",
       "      <td>Yes</td>\n",
       "      <td>Yes</td>\n",
       "      <td>177.0</td>\n",
       "      <td>135.0</td>\n",
       "      <td>100.0</td>\n",
       "      <td>68.0</td>\n",
       "      <td>77.0</td>\n",
       "      <td>...</td>\n",
       "      <td>8.3</td>\n",
       "      <td>NaN</td>\n",
       "      <td>NaN</td>\n",
       "      <td>NaN</td>\n",
       "      <td>NaN</td>\n",
       "      <td>181.0</td>\n",
       "      <td>NaN</td>\n",
       "      <td>8.3</td>\n",
       "      <td>NaN</td>\n",
       "      <td>Emergency</td>\n",
       "    </tr>\n",
       "  </tbody>\n",
       "</table>\n",
       "<p>5 rows × 154 columns</p>\n",
       "</div>"
      ],
      "text/plain": [
       "   encrypt_mrn      ed_screened  visit_date new_diagnosis pcp_followup  \\\n",
       "0      2303579     NYU Brooklyn  2023-01-10           Yes          Yes   \n",
       "1      2117042  NYU Long Island  2022-01-13           Yes          Yes   \n",
       "2      2117326     NYU Brooklyn  2022-01-14           Yes           No   \n",
       "3      2112782     NYU Brooklyn  2022-01-16           Yes           No   \n",
       "4      2062174  NYU Cobble Hill  2022-01-19           Yes          Yes   \n",
       "\n",
       "   max_sbp  min_sbp  max_dbp  min_dbp  max_diff  ...  \\\n",
       "0    133.0    114.0     96.0     64.0      52.0  ...   \n",
       "1    102.0    102.0     69.0     69.0      33.0  ...   \n",
       "2    158.0    148.0     88.0     82.0      76.0  ...   \n",
       "3    181.0    146.0     93.0     87.0      88.0  ...   \n",
       "4    177.0    135.0    100.0     68.0      77.0  ...   \n",
       "\n",
       "   max_value_HEMOGLOBIN A1C  max_value_LDL CHOLESTEROL, CALCULATED  \\\n",
       "0                       9.3                                  176.0   \n",
       "1                       NaN                                    NaN   \n",
       "2                      11.2                                    NaN   \n",
       "3                      11.6                                    NaN   \n",
       "4                       8.3                                    NaN   \n",
       "\n",
       "   min_value_CHOLESTEROL, TOTAL  min_value_CREATININE  min_value_GLUCOSE  \\\n",
       "0                         268.0                  0.74              305.0   \n",
       "1                           NaN                   NaN                NaN   \n",
       "2                           NaN                  0.70              423.0   \n",
       "3                           NaN                  1.03              418.0   \n",
       "4                           NaN                   NaN                NaN   \n",
       "\n",
       "   min_value_GLUCOSE, POC min_value_HDL CHOLESTEROL min_value_HEMOGLOBIN A1C  \\\n",
       "0                   230.0                      31.0                      9.3   \n",
       "1                   443.0                       NaN                      NaN   \n",
       "2                   404.0                       NaN                     11.2   \n",
       "3                   491.0                       NaN                     11.6   \n",
       "4                   181.0                       NaN                      8.3   \n",
       "\n",
       "  min_value_LDL CHOLESTEROL, CALCULATED       visit_type  \n",
       "0                                 176.0  Hospitalization  \n",
       "1                                   NaN  Hospitalization  \n",
       "2                                   NaN        Emergency  \n",
       "3                                   NaN        Emergency  \n",
       "4                                   NaN        Emergency  \n",
       "\n",
       "[5 rows x 154 columns]"
      ]
     },
     "execution_count": 30,
     "metadata": {},
     "output_type": "execute_result"
    }
   ],
   "source": [
    "data = pd.read_csv('../processed_data/merged_data.csv')\n",
    "data.head()"
   ]
  },
  {
   "cell_type": "code",
   "execution_count": 31,
   "id": "34b6768a",
   "metadata": {},
   "outputs": [],
   "source": [
    "# follow up / no follow up\n",
    "yes = data[data['pcp_followup'] == 'Yes']\n",
    "no = data[data['pcp_followup'] == 'No']"
   ]
  },
  {
   "cell_type": "code",
   "execution_count": 32,
   "id": "f6cb7cf0",
   "metadata": {},
   "outputs": [
    {
     "name": "stdout",
     "output_type": "stream",
     "text": [
      "nyc_tract\n",
      "0.0    0.376238\n",
      "1.0    0.623762\n",
      "Name: count, dtype: float64\n",
      "nyc_tract\n",
      "0.0    0.28\n",
      "1.0    0.72\n",
      "Name: count, dtype: float64\n",
      "Chi-squared test p-value: 0.2684222506280162\n"
     ]
    }
   ],
   "source": [
    "# nyc_tract\n",
    "\n",
    "yes_nyc_tract = yes['nyc_tract'].value_counts()\n",
    "no_nyc_tract = no['nyc_tract'].value_counts()\n",
    "all_categories = set(yes_nyc_tract.index).union(set(no_nyc_tract.index))\n",
    "yes_aligned = yes_nyc_tract.reindex(all_categories, fill_value=0)\n",
    "no_aligned = no_nyc_tract.reindex(all_categories, fill_value=0)\n",
    "nyc_tract = np.array([yes_aligned, no_aligned])\n",
    "print(yes_aligned / yes_aligned.sum())\n",
    "print(no_aligned / no_aligned.sum())\n",
    "chi2, p, dof, expected = chi2_contingency(nyc_tract)\n",
    "print('Chi-squared test p-value:', p)"
   ]
  },
  {
   "cell_type": "code",
   "execution_count": 33,
   "id": "4de98bfe",
   "metadata": {},
   "outputs": [
    {
     "name": "stdout",
     "output_type": "stream",
     "text": [
      "follow up mean total_pop: 4698.138613861386\n",
      "no follow up mean total_pop: 4949.74\n",
      "total_pop p-value: 0.3930052951179164\n"
     ]
    }
   ],
   "source": [
    "# total_pop\n",
    "\n",
    "yes_total_pop = yes['total_pop'].dropna().to_numpy()\n",
    "no_total_pop = no['total_pop'].dropna().to_numpy()\n",
    "t_stat, p_value = ttest_ind(yes_total_pop, no_total_pop, equal_var=True) \n",
    "print('follow up mean total_pop:', yes_total_pop.mean())\n",
    "print('no follow up mean total_pop:', no_total_pop.mean())\n",
    "print('total_pop p-value:', p_value)"
   ]
  },
  {
   "cell_type": "code",
   "execution_count": 34,
   "id": "c5743af4",
   "metadata": {},
   "outputs": [
    {
     "name": "stdout",
     "output_type": "stream",
     "text": [
      "follow up mean households: 1663.3910891089108\n",
      "no follow up mean households: 1657.74\n",
      "households p-value: 0.9643000169255532\n"
     ]
    }
   ],
   "source": [
    "# households\n",
    "\n",
    "yes_households = yes['households'].dropna().to_numpy()\n",
    "no_households = no['households'].dropna().to_numpy()\n",
    "t_stat, p_value = ttest_ind(yes_households, no_households, equal_var=True) \n",
    "print('follow up mean households:', yes_households.mean())\n",
    "print('no follow up mean households:', no_households.mean())\n",
    "print('households p-value:', p_value)"
   ]
  },
  {
   "cell_type": "code",
   "execution_count": 35,
   "id": "e96f544a",
   "metadata": {},
   "outputs": [
    {
     "name": "stdout",
     "output_type": "stream",
     "text": [
      "follow up mean housing_units: 1804.3168316831684\n",
      "no follow up mean housing_units: 1791.76\n",
      "housing_units p-value: 0.9314740914850441\n"
     ]
    }
   ],
   "source": [
    "# housing_units\n",
    "\n",
    "yes_housing_units = yes['housing_units'].dropna().to_numpy()\n",
    "no_housing_units = no['housing_units'].dropna().to_numpy()\n",
    "t_stat, p_value = ttest_ind(yes_housing_units, no_housing_units, equal_var=True) \n",
    "print('follow up mean housing_units:', yes_housing_units.mean())\n",
    "print('no follow up mean housing_units:', no_housing_units.mean())\n",
    "print('housing_units p-value:', p_value)"
   ]
  },
  {
   "cell_type": "code",
   "execution_count": 36,
   "id": "931b6c13",
   "metadata": {},
   "outputs": [
    {
     "name": "stdout",
     "output_type": "stream",
     "text": [
      "follow up mean p_children: 0.21818145613366333\n",
      "no follow up mean p_children: 0.22982541490000002\n",
      "p_children p-value: 0.3308343702150246\n"
     ]
    }
   ],
   "source": [
    "# p_children\n",
    "\n",
    "yes_p_children = yes['p_children'].dropna().to_numpy()\n",
    "no_p_children = no['p_children'].dropna().to_numpy()\n",
    "t_stat, p_value = ttest_ind(yes_p_children, no_p_children, equal_var=True) \n",
    "print('follow up mean p_children:', yes_p_children.mean())\n",
    "print('no follow up mean p_children:', no_p_children.mean())\n",
    "print('p_children p-value:', p_value)"
   ]
  },
  {
   "cell_type": "code",
   "execution_count": 37,
   "id": "1af22fa8",
   "metadata": {},
   "outputs": [
    {
     "name": "stdout",
     "output_type": "stream",
     "text": [
      "follow up mean p_elderly: 0.14965579773514853\n",
      "no follow up mean p_elderly: 0.131295710224\n",
      "p_elderly p-value: 0.051262473365082224\n"
     ]
    }
   ],
   "source": [
    "# p_elderly\n",
    "\n",
    "yes_p_elderly = yes['p_elderly'].dropna().to_numpy()\n",
    "no_p_elderly = no['p_elderly'].dropna().to_numpy()\n",
    "t_stat, p_value = ttest_ind(yes_p_elderly, no_p_elderly, equal_var=True) \n",
    "print('follow up mean p_elderly:', yes_p_elderly.mean())\n",
    "print('no follow up mean p_elderly:', no_p_elderly.mean())\n",
    "print('p_elderly p-value:', p_value)"
   ]
  },
  {
   "cell_type": "code",
   "execution_count": 38,
   "id": "732a6dc9",
   "metadata": {},
   "outputs": [
    {
     "name": "stdout",
     "output_type": "stream",
     "text": [
      "follow up mean p_adults: 0.6321627466336632\n",
      "no follow up mean p_adults: 0.6388788766\n",
      "p_adults p-value: 0.5854107096957211\n"
     ]
    }
   ],
   "source": [
    "# p_adults\n",
    "\n",
    "yes_p_adults = yes['p_adults'].dropna().to_numpy()\n",
    "no_p_adults = no['p_adults'].dropna().to_numpy()\n",
    "t_stat, p_value = ttest_ind(yes_p_adults, no_p_adults, equal_var=True) \n",
    "print('follow up mean p_adults:', yes_p_adults.mean())\n",
    "print('no follow up mean p_adults:', no_p_adults.mean())\n",
    "print('p_adults p-value:', p_value)"
   ]
  },
  {
   "cell_type": "code",
   "execution_count": 39,
   "id": "e995ba9e",
   "metadata": {},
   "outputs": [
    {
     "name": "stdout",
     "output_type": "stream",
     "text": [
      "follow up mean p_female: 0.5202583525742575\n",
      "no follow up mean p_female: 0.5186353838\n",
      "p_female p-value: 0.8154372331090781\n"
     ]
    }
   ],
   "source": [
    "# p_female\n",
    "\n",
    "yes_p_female = yes['p_female'].dropna().to_numpy()\n",
    "no_p_female = no['p_female'].dropna().to_numpy()\n",
    "t_stat, p_value = ttest_ind(yes_p_female, no_p_female, equal_var=True) \n",
    "print('follow up mean p_female:', yes_p_female.mean())\n",
    "print('no follow up mean p_female:', no_p_female.mean())\n",
    "print('p_female p-value:', p_value)"
   ]
  },
  {
   "cell_type": "code",
   "execution_count": 40,
   "id": "022b87d0",
   "metadata": {},
   "outputs": [
    {
     "name": "stdout",
     "output_type": "stream",
     "text": [
      "follow up mean mdn_age: 38.429702920792074\n",
      "no follow up mean mdn_age: 36.60600004\n",
      "mdn_age p-value: 0.06979499678998277\n"
     ]
    }
   ],
   "source": [
    "# mdn_age\n",
    "\n",
    "yes_mdn_age = yes['mdn_age'].dropna().to_numpy()\n",
    "no_mdn_age = no['mdn_age'].dropna().to_numpy()\n",
    "t_stat, p_value = ttest_ind(yes_mdn_age, no_mdn_age, equal_var=True) \n",
    "print('follow up mean mdn_age:', yes_mdn_age.mean())\n",
    "print('no follow up mean mdn_age:', no_mdn_age.mean())\n",
    "print('mdn_age p-value:', p_value)"
   ]
  },
  {
   "cell_type": "code",
   "execution_count": 41,
   "id": "6a92a1ed",
   "metadata": {},
   "outputs": [
    {
     "name": "stdout",
     "output_type": "stream",
     "text": [
      "follow up mean p_nhwhite: 0.4106139625705446\n",
      "no follow up mean p_nhwhite: 0.28645493445\n",
      "p_nhwhite p-value: 0.007186049417806996\n"
     ]
    }
   ],
   "source": [
    "# p_nhwhite\n",
    "\n",
    "yes_p_nhwhite = yes['p_nhwhite'].dropna().to_numpy()\n",
    "no_p_nhwhite = no['p_nhwhite'].dropna().to_numpy()\n",
    "t_stat, p_value = ttest_ind(yes_p_nhwhite, no_p_nhwhite, equal_var=True) \n",
    "print('follow up mean p_nhwhite:', yes_p_nhwhite.mean())\n",
    "print('no follow up mean p_nhwhite:', no_p_nhwhite.mean())\n",
    "print('p_nhwhite p-value:', p_value)"
   ]
  },
  {
   "cell_type": "code",
   "execution_count": 42,
   "id": "72b74f02",
   "metadata": {},
   "outputs": [
    {
     "name": "stdout",
     "output_type": "stream",
     "text": [
      "follow up mean p_nhblack: 0.1934355873269307\n",
      "no follow up mean p_nhblack: 0.17554934482599996\n",
      "p_nhblack p-value: 0.6362545038330165\n"
     ]
    }
   ],
   "source": [
    "# p_nhblack\n",
    "\n",
    "yes_p_nhblack = yes['p_nhblack'].dropna().to_numpy()\n",
    "no_p_nhblack = no['p_nhblack'].dropna().to_numpy()\n",
    "t_stat, p_value = ttest_ind(yes_p_nhblack, no_p_nhblack, equal_var=True) \n",
    "print('follow up mean p_nhblack:', yes_p_nhblack.mean())\n",
    "print('no follow up mean p_nhblack:', no_p_nhblack.mean())\n",
    "print('p_nhblack p-value:', p_value)"
   ]
  },
  {
   "cell_type": "code",
   "execution_count": 43,
   "id": "5ef2e528",
   "metadata": {},
   "outputs": [
    {
     "name": "stdout",
     "output_type": "stream",
     "text": [
      "follow up mean p_hispanic: 0.23694309061237623\n",
      "no follow up mean p_hispanic: 0.31668379463999996\n",
      "p_hispanic p-value: 0.012585728175877964\n"
     ]
    }
   ],
   "source": [
    "# p_hispanic\n",
    "\n",
    "yes_p_hispanic = yes['p_hispanic'].dropna().to_numpy()\n",
    "no_p_hispanic = no['p_hispanic'].dropna().to_numpy()\n",
    "t_stat, p_value = ttest_ind(yes_p_hispanic, no_p_hispanic, equal_var=True) \n",
    "print('follow up mean p_hispanic:', yes_p_hispanic.mean())\n",
    "print('no follow up mean p_hispanic:', no_p_hispanic.mean())\n",
    "print('p_hispanic p-value:', p_value)"
   ]
  },
  {
   "cell_type": "code",
   "execution_count": 44,
   "id": "96e1da16",
   "metadata": {},
   "outputs": [
    {
     "name": "stdout",
     "output_type": "stream",
     "text": [
      "follow up mean p_nhasian: 0.11979168779034653\n",
      "no follow up mean p_nhasian: 0.178762203364\n",
      "p_nhasian p-value: 0.009846837598544104\n"
     ]
    }
   ],
   "source": [
    "# p_nhasian\n",
    "\n",
    "yes_p_nhasian = yes['p_nhasian'].dropna().to_numpy()\n",
    "no_p_nhasian = no['p_nhasian'].dropna().to_numpy()\n",
    "t_stat, p_value = ttest_ind(yes_p_nhasian, no_p_nhasian, equal_var=True) \n",
    "print('follow up mean p_nhasian:', yes_p_nhasian.mean())\n",
    "print('no follow up mean p_nhasian:', no_p_nhasian.mean())\n",
    "print('p_nhasian p-value:', p_value)"
   ]
  },
  {
   "cell_type": "code",
   "execution_count": 45,
   "id": "685bca4e",
   "metadata": {},
   "outputs": [
    {
     "name": "stdout",
     "output_type": "stream",
     "text": [
      "follow up mean p_other: 0.03921567160172948\n",
      "no follow up mean p_other: 0.042549723033770324\n",
      "p_other p-value: 0.6145723116450477\n"
     ]
    }
   ],
   "source": [
    "# p_other\n",
    "\n",
    "yes_p_other = yes['p_other'].dropna().to_numpy()\n",
    "no_p_other = no['p_other'].dropna().to_numpy()\n",
    "t_stat, p_value = ttest_ind(yes_p_other, no_p_other, equal_var=True) \n",
    "print('follow up mean p_other:', yes_p_other.mean())\n",
    "print('no follow up mean p_other:', no_p_other.mean())\n",
    "print('p_other p-value:', p_value)"
   ]
  },
  {
   "cell_type": "code",
   "execution_count": 46,
   "id": "31e29f8e",
   "metadata": {},
   "outputs": [
    {
     "name": "stdout",
     "output_type": "stream",
     "text": [
      "follow up mean p_moved: 0.08828295466138614\n",
      "no follow up mean p_moved: 0.09716681164\n",
      "p_moved p-value: 0.3644258748061199\n"
     ]
    }
   ],
   "source": [
    "# p_moved\n",
    "\n",
    "yes_p_moved = yes['p_moved'].dropna().to_numpy()\n",
    "no_p_moved = no['p_moved'].dropna().to_numpy()\n",
    "t_stat, p_value = ttest_ind(yes_p_moved, no_p_moved, equal_var=True) \n",
    "print('follow up mean p_moved:', yes_p_moved.mean())\n",
    "print('no follow up mean p_moved:', no_p_moved.mean())\n",
    "print('p_moved p-value:', p_value)"
   ]
  },
  {
   "cell_type": "code",
   "execution_count": 47,
   "id": "f4b27b47",
   "metadata": {},
   "outputs": [
    {
     "name": "stdout",
     "output_type": "stream",
     "text": [
      "follow up mean p_longcommute: 0.07164248420544554\n",
      "no follow up mean p_longcommute: 0.07089149956200001\n",
      "p_longcommute p-value: 0.9250102828722315\n"
     ]
    }
   ],
   "source": [
    "# p_longcommute\n",
    "\n",
    "yes_p_longcommute = yes['p_longcommute'].dropna().to_numpy()\n",
    "no_p_longcommute = no['p_longcommute'].dropna().to_numpy()\n",
    "t_stat, p_value = ttest_ind(yes_p_longcommute, no_p_longcommute, equal_var=True) \n",
    "print('follow up mean p_longcommute:', yes_p_longcommute.mean())\n",
    "print('no follow up mean p_longcommute:', no_p_longcommute.mean())\n",
    "print('p_longcommute p-value:', p_value)"
   ]
  },
  {
   "cell_type": "code",
   "execution_count": 48,
   "id": "7cfbb281",
   "metadata": {},
   "outputs": [
    {
     "name": "stdout",
     "output_type": "stream",
     "text": [
      "follow up mean p_marriednone: 0.25463179787128715\n",
      "no follow up mean p_marriednone: 0.22687062416\n",
      "p_marriednone p-value: 0.10344317139472445\n"
     ]
    }
   ],
   "source": [
    "# p_marriednone\n",
    "\n",
    "yes_p_marriednone = yes['p_marriednone'].dropna().to_numpy()\n",
    "no_p_marriednone = no['p_marriednone'].dropna().to_numpy()\n",
    "t_stat, p_value = ttest_ind(yes_p_marriednone, no_p_marriednone, equal_var=True) \n",
    "print('follow up mean p_marriednone:', yes_p_marriednone.mean())\n",
    "print('no follow up mean p_marriednone:', no_p_marriednone.mean())\n",
    "print('p_marriednone p-value:', p_value)"
   ]
  },
  {
   "cell_type": "code",
   "execution_count": 49,
   "id": "32da75ee",
   "metadata": {},
   "outputs": [
    {
     "name": "stdout",
     "output_type": "stream",
     "text": [
      "follow up mean p_marriedkids: 0.20039146238613864\n",
      "no follow up mean p_marriedkids: 0.20734773101999998\n",
      "p_marriedkids p-value: 0.6588666533826775\n"
     ]
    }
   ],
   "source": [
    "# p_marriedkids\n",
    "\n",
    "yes_p_marriedkids = yes['p_marriedkids'].dropna().to_numpy()\n",
    "no_p_marriedkids = no['p_marriedkids'].dropna().to_numpy()\n",
    "t_stat, p_value = ttest_ind(yes_p_marriedkids, no_p_marriedkids, equal_var=True) \n",
    "print('follow up mean p_marriedkids:', yes_p_marriedkids.mean())\n",
    "print('no follow up mean p_marriedkids:', no_p_marriedkids.mean())\n",
    "print('p_marriedkids p-value:', p_value)"
   ]
  },
  {
   "cell_type": "code",
   "execution_count": 50,
   "id": "187ac2eb",
   "metadata": {},
   "outputs": [
    {
     "name": "stdout",
     "output_type": "stream",
     "text": [
      "follow up mean p_singlenone: 0.4616781934158416\n",
      "no follow up mean p_singlenone: 0.4748783563999999\n",
      "p_singlenone p-value: 0.5917679812889618\n"
     ]
    }
   ],
   "source": [
    "# p_singlenone\n",
    "\n",
    "yes_p_singlenone = yes['p_singlenone'].dropna().to_numpy()\n",
    "no_p_singlenone = no['p_singlenone'].dropna().to_numpy()\n",
    "t_stat, p_value = ttest_ind(yes_p_singlenone, no_p_singlenone, equal_var=True) \n",
    "print('follow up mean p_singlenone:', yes_p_singlenone.mean())\n",
    "print('no follow up mean p_singlenone:', no_p_singlenone.mean())\n",
    "print('p_singlenone p-value:', p_value)"
   ]
  },
  {
   "cell_type": "code",
   "execution_count": 51,
   "id": "27e1ec47",
   "metadata": {},
   "outputs": [
    {
     "name": "stdout",
     "output_type": "stream",
     "text": [
      "follow up mean p_malekids: 0.009494221797524753\n",
      "no follow up mean p_malekids: 0.009227758686\n",
      "p_malekids p-value: 0.90555372758643\n"
     ]
    }
   ],
   "source": [
    "# p_malekids\n",
    "\n",
    "yes_p_malekids = yes['p_malekids'].dropna().to_numpy()\n",
    "no_p_malekids = no['p_malekids'].dropna().to_numpy()\n",
    "t_stat, p_value = ttest_ind(yes_p_malekids, no_p_malekids, equal_var=True) \n",
    "print('follow up mean p_malekids:', yes_p_malekids.mean())\n",
    "print('no follow up mean p_malekids:', no_p_malekids.mean())\n",
    "print('p_malekids p-value:', p_value)"
   ]
  },
  {
   "cell_type": "code",
   "execution_count": 52,
   "id": "c079ac47",
   "metadata": {},
   "outputs": [
    {
     "name": "stdout",
     "output_type": "stream",
     "text": [
      "follow up mean p_femalekids: 0.05470147263811882\n",
      "no follow up mean p_femalekids: 0.054260302914\n",
      "p_femalekids p-value: 0.9585281906849958\n"
     ]
    }
   ],
   "source": [
    "# p_femalekids\n",
    "\n",
    "yes_p_femalekids = yes['p_femalekids'].dropna().to_numpy()\n",
    "no_p_femalekids = no['p_femalekids'].dropna().to_numpy()\n",
    "t_stat, p_value = ttest_ind(yes_p_femalekids, no_p_femalekids, equal_var=True) \n",
    "print('follow up mean p_femalekids:', yes_p_femalekids.mean())\n",
    "print('no follow up mean p_femalekids:', no_p_femalekids.mean())\n",
    "print('p_femalekids p-value:', p_value)"
   ]
  },
  {
   "cell_type": "code",
   "execution_count": 53,
   "id": "3f24e2c3",
   "metadata": {},
   "outputs": [
    {
     "name": "stdout",
     "output_type": "stream",
     "text": [
      "follow up mean p_cohabitkids: 0.019102850653465345\n",
      "no follow up mean p_cohabitkids: 0.027415226128000004\n",
      "p_cohabitkids p-value: 0.027244197398262438\n"
     ]
    }
   ],
   "source": [
    "# p_cohabitkids\n",
    "\n",
    "yes_p_cohabitkids = yes['p_cohabitkids'].dropna().to_numpy()\n",
    "no_p_cohabitkids = no['p_cohabitkids'].dropna().to_numpy()\n",
    "t_stat, p_value = ttest_ind(yes_p_cohabitkids, no_p_cohabitkids, equal_var=True) \n",
    "print('follow up mean p_cohabitkids:', yes_p_cohabitkids.mean())\n",
    "print('no follow up mean p_cohabitkids:', no_p_cohabitkids.mean())\n",
    "print('p_cohabitkids p-value:', p_value)"
   ]
  },
  {
   "cell_type": "code",
   "execution_count": 54,
   "id": "ea0233af",
   "metadata": {},
   "outputs": [
    {
     "name": "stdout",
     "output_type": "stream",
     "text": [
      "follow up mean p_nohsdeg: 0.15588321309306927\n",
      "no follow up mean p_nohsdeg: 0.20844235536000003\n",
      "p_nohsdeg p-value: 0.005767990349410308\n"
     ]
    }
   ],
   "source": [
    "# p_nohsdeg\n",
    "\n",
    "yes_p_nohsdeg = yes['p_nohsdeg'].dropna().to_numpy()\n",
    "no_p_nohsdeg = no['p_nohsdeg'].dropna().to_numpy()\n",
    "t_stat, p_value = ttest_ind(yes_p_nohsdeg, no_p_nohsdeg, equal_var=True) \n",
    "print('follow up mean p_nohsdeg:', yes_p_nohsdeg.mean())\n",
    "print('no follow up mean p_nohsdeg:', no_p_nohsdeg.mean())\n",
    "print('p_nohsdeg p-value:', p_value)"
   ]
  },
  {
   "cell_type": "code",
   "execution_count": 55,
   "id": "ca6cf269",
   "metadata": {},
   "outputs": [
    {
     "name": "stdout",
     "output_type": "stream",
     "text": [
      "follow up mean p_hsonly: 0.23977880238465346\n",
      "no follow up mean p_hsonly: 0.25036971648\n",
      "p_hsonly p-value: 0.5222695162411077\n"
     ]
    }
   ],
   "source": [
    "# p_hsonly\n",
    "\n",
    "yes_p_hsonly = yes['p_hsonly'].dropna().to_numpy()\n",
    "no_p_hsonly = no['p_hsonly'].dropna().to_numpy()\n",
    "t_stat, p_value = ttest_ind(yes_p_hsonly, no_p_hsonly, equal_var=True) \n",
    "print('follow up mean p_hsonly:', yes_p_hsonly.mean())\n",
    "print('no follow up mean p_hsonly:', no_p_hsonly.mean())\n",
    "print('p_hsonly p-value:', p_value)"
   ]
  },
  {
   "cell_type": "code",
   "execution_count": 56,
   "id": "54dfa9f0",
   "metadata": {},
   "outputs": [
    {
     "name": "stdout",
     "output_type": "stream",
     "text": [
      "follow up mean p_somecollege: 0.1325216445891089\n",
      "no follow up mean p_somecollege: 0.13222630993999998\n",
      "p_somecollege p-value: 0.9727387517077359\n"
     ]
    }
   ],
   "source": [
    "# p_somecollege\n",
    "\n",
    "yes_p_somecollege = yes['p_somecollege'].dropna().to_numpy()\n",
    "no_p_somecollege = no['p_somecollege'].dropna().to_numpy()\n",
    "t_stat, p_value = ttest_ind(yes_p_somecollege, no_p_somecollege, equal_var=True) \n",
    "print('follow up mean p_somecollege:', yes_p_somecollege.mean())\n",
    "print('no follow up mean p_somecollege:', no_p_somecollege.mean())\n",
    "print('p_somecollege p-value:', p_value)"
   ]
  },
  {
   "cell_type": "code",
   "execution_count": 57,
   "id": "8899561d",
   "metadata": {},
   "outputs": [
    {
     "name": "stdout",
     "output_type": "stream",
     "text": [
      "follow up mean p_collegeplus: 0.4718163400990099\n",
      "no follow up mean p_collegeplus: 0.408961621\n",
      "p_collegeplus p-value: 0.049216382029972125\n"
     ]
    }
   ],
   "source": [
    "# p_collegeplus\n",
    "\n",
    "yes_p_collegeplus = yes['p_collegeplus'].dropna().to_numpy()\n",
    "no_p_collegeplus = no['p_collegeplus'].dropna().to_numpy()\n",
    "t_stat, p_value = ttest_ind(yes_p_collegeplus, no_p_collegeplus, equal_var=True) \n",
    "print('follow up mean p_collegeplus:', yes_p_collegeplus.mean())\n",
    "print('no follow up mean p_collegeplus:', no_p_collegeplus.mean())\n",
    "print('p_collegeplus p-value:', p_value)"
   ]
  },
  {
   "cell_type": "code",
   "execution_count": 58,
   "id": "240d8aa4",
   "metadata": {},
   "outputs": [
    {
     "name": "stdout",
     "output_type": "stream",
     "text": [
      "follow up mean p_onlyenglish: 0.5540028207722772\n",
      "no follow up mean p_onlyenglish: 0.4249028263\n",
      "p_onlyenglish p-value: 0.00018653248880466875\n"
     ]
    }
   ],
   "source": [
    "# p_onlyenglish\n",
    "\n",
    "yes_p_onlyenglish = yes['p_onlyenglish'].dropna().to_numpy()\n",
    "no_p_onlyenglish = no['p_onlyenglish'].dropna().to_numpy()\n",
    "t_stat, p_value = ttest_ind(yes_p_onlyenglish, no_p_onlyenglish, equal_var=True) \n",
    "print('follow up mean p_onlyenglish:', yes_p_onlyenglish.mean())\n",
    "print('no follow up mean p_onlyenglish:', no_p_onlyenglish.mean())\n",
    "print('p_onlyenglish p-value:', p_value)"
   ]
  },
  {
   "cell_type": "code",
   "execution_count": 59,
   "id": "958f1ee6",
   "metadata": {},
   "outputs": [
    {
     "name": "stdout",
     "output_type": "stream",
     "text": [
      "follow up mean p_spanishlimited: 0.0570984791580198\n",
      "no follow up mean p_spanishlimited: 0.087819292476\n",
      "p_spanishlimited p-value: 0.02586288193908005\n"
     ]
    }
   ],
   "source": [
    "# p_spanishlimited\n",
    "\n",
    "yes_p_spanishlimited = yes['p_spanishlimited'].dropna().to_numpy()\n",
    "no_p_spanishlimited = no['p_spanishlimited'].dropna().to_numpy()\n",
    "t_stat, p_value = ttest_ind(yes_p_spanishlimited, no_p_spanishlimited, equal_var=True) \n",
    "print('follow up mean p_spanishlimited:', yes_p_spanishlimited.mean())\n",
    "print('no follow up mean p_spanishlimited:', no_p_spanishlimited.mean())\n",
    "print('p_spanishlimited p-value:', p_value)"
   ]
  },
  {
   "cell_type": "code",
   "execution_count": 60,
   "id": "64b08b1e",
   "metadata": {},
   "outputs": [
    {
     "name": "stdout",
     "output_type": "stream",
     "text": [
      "follow up mean p_asianlimited: 0.026509982183663367\n",
      "no follow up mean p_asianlimited: 0.046673201508\n",
      "p_asianlimited p-value: 0.06515654839562542\n"
     ]
    }
   ],
   "source": [
    "# p_asianlimited\n",
    "\n",
    "yes_p_asianlimited = yes['p_asianlimited'].dropna().to_numpy()\n",
    "no_p_asianlimited = no['p_asianlimited'].dropna().to_numpy()\n",
    "t_stat, p_value = ttest_ind(yes_p_asianlimited, no_p_asianlimited, equal_var=True) \n",
    "print('follow up mean p_asianlimited:', yes_p_asianlimited.mean())\n",
    "print('no follow up mean p_asianlimited:', no_p_asianlimited.mean())\n",
    "print('p_asianlimited p-value:', p_value)"
   ]
  },
  {
   "cell_type": "code",
   "execution_count": 61,
   "id": "4ade3ddb",
   "metadata": {},
   "outputs": [
    {
     "name": "stdout",
     "output_type": "stream",
     "text": [
      "follow up mean p_otherlimited: 0.03456472793316832\n",
      "no follow up mean p_otherlimited: 0.059590947692\n",
      "p_otherlimited p-value: 0.018573195538837035\n"
     ]
    }
   ],
   "source": [
    "# p_otherlimited\n",
    "\n",
    "yes_p_otherlimited = yes['p_otherlimited'].dropna().to_numpy()\n",
    "no_p_otherlimited = no['p_otherlimited'].dropna().to_numpy()\n",
    "t_stat, p_value = ttest_ind(yes_p_otherlimited, no_p_otherlimited, equal_var=True) \n",
    "print('follow up mean p_otherlimited:', yes_p_otherlimited.mean())\n",
    "print('no follow up mean p_otherlimited:', no_p_otherlimited.mean())\n",
    "print('p_otherlimited p-value:', p_value)"
   ]
  },
  {
   "cell_type": "code",
   "execution_count": 64,
   "id": "75b77ef6",
   "metadata": {},
   "outputs": [
    {
     "name": "stdout",
     "output_type": "stream",
     "text": [
      "follow up mean p_limitedall: 0.11817318925742573\n",
      "no follow up mean p_limitedall: 0.19408344107399997\n",
      "p_limitedall p-value: 0.00047978040050503584\n"
     ]
    }
   ],
   "source": [
    "# p_limitedall\n",
    "\n",
    "yes_p_limitedall = yes['p_limitedall'].dropna().to_numpy()\n",
    "no_p_limitedall = no['p_limitedall'].dropna().to_numpy()\n",
    "t_stat, p_value = ttest_ind(yes_p_limitedall, no_p_limitedall, equal_var=True) \n",
    "print('follow up mean p_limitedall:', yes_p_limitedall.mean())\n",
    "print('no follow up mean p_limitedall:', no_p_limitedall.mean())\n",
    "print('p_limitedall p-value:', p_value)"
   ]
  },
  {
   "cell_type": "code",
   "execution_count": 66,
   "id": "6861a1f5",
   "metadata": {},
   "outputs": [
    {
     "name": "stdout",
     "output_type": "stream",
     "text": [
      "follow up mean p_notlimited: 0.327823988509901\n",
      "no follow up mean p_notlimited: 0.38101373600000005\n",
      "p_notlimited p-value: 0.011695941339047552\n"
     ]
    }
   ],
   "source": [
    "# p_notlimited\n",
    "\n",
    "yes_p_notlimited = yes['p_notlimited'].dropna().to_numpy()\n",
    "no_p_notlimited = no['p_notlimited'].dropna().to_numpy()\n",
    "t_stat, p_value = ttest_ind(yes_p_notlimited, no_p_notlimited, equal_var=True) \n",
    "print('follow up mean p_notlimited:', yes_p_notlimited.mean())\n",
    "print('no follow up mean p_notlimited:', no_p_notlimited.mean())\n",
    "print('p_notlimited p-value:', p_value)"
   ]
  },
  {
   "cell_type": "code",
   "execution_count": 67,
   "id": "bc6457cb",
   "metadata": {},
   "outputs": [
    {
     "name": "stdout",
     "output_type": "stream",
     "text": [
      "follow up mean p_popbelow1fpl: 0.1356102599950495\n",
      "no follow up mean p_popbelow1fpl: 0.17898155266\n",
      "p_popbelow1fpl p-value: 0.026050045226489776\n"
     ]
    }
   ],
   "source": [
    "# p_popbelow1fpl\n",
    "\n",
    "yes_p_popbelow1fpl = yes['p_popbelow1fpl'].dropna().to_numpy()\n",
    "no_p_popbelow1fpl = no['p_popbelow1fpl'].dropna().to_numpy()\n",
    "t_stat, p_value = ttest_ind(yes_p_popbelow1fpl, no_p_popbelow1fpl, equal_var=True) \n",
    "print('follow up mean p_popbelow1fpl:', yes_p_popbelow1fpl.mean())\n",
    "print('no follow up mean p_popbelow1fpl:', no_p_popbelow1fpl.mean())\n",
    "print('p_popbelow1fpl p-value:', p_value)"
   ]
  },
  {
   "cell_type": "code",
   "execution_count": 68,
   "id": "42faa455",
   "metadata": {},
   "outputs": [
    {
     "name": "stdout",
     "output_type": "stream",
     "text": [
      "follow up mean p_popbelow2fpl: 0.2797845124009901\n",
      "no follow up mean p_popbelow2fpl: 0.36294572826000004\n",
      "p_popbelow2fpl p-value: 0.004392580713773799\n"
     ]
    }
   ],
   "source": [
    "# p_popbelow2fpl\n",
    "\n",
    "yes_p_popbelow2fpl = yes['p_popbelow2fpl'].dropna().to_numpy()\n",
    "no_p_popbelow2fpl = no['p_popbelow2fpl'].dropna().to_numpy()\n",
    "t_stat, p_value = ttest_ind(yes_p_popbelow2fpl, no_p_popbelow2fpl, equal_var=True) \n",
    "print('follow up mean p_popbelow2fpl:', yes_p_popbelow2fpl.mean())\n",
    "print('no follow up mean p_popbelow2fpl:', no_p_popbelow2fpl.mean())\n",
    "print('p_popbelow2fpl p-value:', p_value)"
   ]
  },
  {
   "cell_type": "code",
   "execution_count": 69,
   "id": "a976758b",
   "metadata": {},
   "outputs": [
    {
     "name": "stdout",
     "output_type": "stream",
     "text": [
      "follow up mean p_povmarriedfam: 0.02700624154306931\n",
      "no follow up mean p_povmarriedfam: 0.05020877951399999\n",
      "p_povmarriedfam p-value: 0.014201089135882132\n"
     ]
    }
   ],
   "source": [
    "# p_povmarriedfam\n",
    "\n",
    "yes_p_povmarriedfam = yes['p_povmarriedfam'].dropna().to_numpy()\n",
    "no_p_povmarriedfam = no['p_povmarriedfam'].dropna().to_numpy()\n",
    "t_stat, p_value = ttest_ind(yes_p_povmarriedfam, no_p_povmarriedfam, equal_var=True) \n",
    "print('follow up mean p_povmarriedfam:', yes_p_povmarriedfam.mean())\n",
    "print('no follow up mean p_povmarriedfam:', no_p_povmarriedfam.mean())\n",
    "print('p_povmarriedfam p-value:', p_value)"
   ]
  },
  {
   "cell_type": "code",
   "execution_count": 70,
   "id": "89c24994",
   "metadata": {},
   "outputs": [
    {
     "name": "stdout",
     "output_type": "stream",
     "text": [
      "follow up mean p_povmalefam: 0.0071548278866831695\n",
      "no follow up mean p_povmalefam: 0.005368148544\n",
      "p_povmalefam p-value: 0.45448021579360154\n"
     ]
    }
   ],
   "source": [
    "# p_povmalefam\n",
    "\n",
    "yes_p_povmalefam = yes['p_povmalefam'].dropna().to_numpy()\n",
    "no_p_povmalefam = no['p_povmalefam'].dropna().to_numpy()\n",
    "t_stat, p_value = ttest_ind(yes_p_povmalefam, no_p_povmalefam, equal_var=True) \n",
    "print('follow up mean p_povmalefam:', yes_p_povmalefam.mean())\n",
    "print('no follow up mean p_povmalefam:', no_p_povmalefam.mean())\n",
    "print('p_povmalefam p-value:', p_value)"
   ]
  },
  {
   "cell_type": "code",
   "execution_count": 71,
   "id": "0289106f",
   "metadata": {},
   "outputs": [
    {
     "name": "stdout",
     "output_type": "stream",
     "text": [
      "follow up mean p_povfemalefam: 0.038490707878217824\n",
      "no follow up mean p_povfemalefam: 0.04129077882200001\n",
      "p_povfemalefam p-value: 0.7693968035861455\n"
     ]
    }
   ],
   "source": [
    "# p_povfemalefam\n",
    "\n",
    "yes_p_povfemalefam = yes['p_povfemalefam'].dropna().to_numpy()\n",
    "no_p_povfemalefam = no['p_povfemalefam'].dropna().to_numpy()\n",
    "t_stat, p_value = ttest_ind(yes_p_povfemalefam, no_p_povfemalefam, equal_var=True) \n",
    "print('follow up mean p_povfemalefam:', yes_p_povfemalefam.mean())\n",
    "print('no follow up mean p_povfemalefam:', no_p_povfemalefam.mean())\n",
    "print('p_povfemalefam p-value:', p_value)"
   ]
  },
  {
   "cell_type": "code",
   "execution_count": 72,
   "id": "028a62a2",
   "metadata": {},
   "outputs": [
    {
     "name": "stdout",
     "output_type": "stream",
     "text": [
      "follow up mean hh_mdnincome: 95393.41293532339\n",
      "no follow up mean hh_mdnincome: 77582.48\n",
      "hh_mdnincome p-value: 0.011204983314145964\n"
     ]
    }
   ],
   "source": [
    "# hh_mdnincome\n",
    "\n",
    "yes_hh_mdnincome = yes['hh_mdnincome'].dropna().to_numpy()\n",
    "no_hh_mdnincome = no['hh_mdnincome'].dropna().to_numpy()\n",
    "t_stat, p_value = ttest_ind(yes_hh_mdnincome, no_hh_mdnincome, equal_var=True) \n",
    "print('follow up mean hh_mdnincome:', yes_hh_mdnincome.mean())\n",
    "print('no follow up mean hh_mdnincome:', no_hh_mdnincome.mean())\n",
    "print('hh_mdnincome p-value:', p_value)"
   ]
  },
  {
   "cell_type": "code",
   "execution_count": 73,
   "id": "9f2ca4f2",
   "metadata": {},
   "outputs": [
    {
     "name": "stdout",
     "output_type": "stream",
     "text": [
      "follow up mean p_pubassist: 0.9626811503465346\n",
      "no follow up mean p_pubassist: 0.9549708365999998\n",
      "p_pubassist p-value: 0.2671404902605956\n"
     ]
    }
   ],
   "source": [
    "# p_pubassist\n",
    "\n",
    "yes_p_pubassist = yes['p_pubassist'].dropna().to_numpy()\n",
    "no_p_pubassist = no['p_pubassist'].dropna().to_numpy()\n",
    "t_stat, p_value = ttest_ind(yes_p_pubassist, no_p_pubassist, equal_var=True) \n",
    "print('follow up mean p_pubassist:', yes_p_pubassist.mean())\n",
    "print('no follow up mean p_pubassist:', no_p_pubassist.mean())\n",
    "print('p_pubassist p-value:', p_value)"
   ]
  },
  {
   "cell_type": "code",
   "execution_count": 74,
   "id": "6a35a70e",
   "metadata": {},
   "outputs": [
    {
     "name": "stdout",
     "output_type": "stream",
     "text": [
      "follow up mean p_foodstamps: 0.15272412666881188\n",
      "no follow up mean p_foodstamps: 0.20654407094\n",
      "p_foodstamps p-value: 0.02867810046527987\n"
     ]
    }
   ],
   "source": [
    "# p_foodstamps\n",
    "\n",
    "yes_p_foodstamps = yes['p_foodstamps'].dropna().to_numpy()\n",
    "no_p_foodstamps = no['p_foodstamps'].dropna().to_numpy()\n",
    "t_stat, p_value = ttest_ind(yes_p_foodstamps, no_p_foodstamps, equal_var=True) \n",
    "print('follow up mean p_foodstamps:', yes_p_foodstamps.mean())\n",
    "print('no follow up mean p_foodstamps:', no_p_foodstamps.mean())\n",
    "print('p_foodstamps p-value:', p_value)"
   ]
  },
  {
   "cell_type": "code",
   "execution_count": 75,
   "id": "debfb721",
   "metadata": {},
   "outputs": [
    {
     "name": "stdout",
     "output_type": "stream",
     "text": [
      "follow up mean p_assistorfood: 0.8367731666831684\n",
      "no follow up mean p_assistorfood: 0.7836644423999999\n",
      "p_assistorfood p-value: 0.03159220272814488\n"
     ]
    }
   ],
   "source": [
    "# p_assistorfood\n",
    "\n",
    "yes_p_assistorfood = yes['p_assistorfood'].dropna().to_numpy()\n",
    "no_p_assistorfood = no['p_assistorfood'].dropna().to_numpy()\n",
    "t_stat, p_value = ttest_ind(yes_p_assistorfood, no_p_assistorfood, equal_var=True) \n",
    "print('follow up mean p_assistorfood:', yes_p_assistorfood.mean())\n",
    "print('no follow up mean p_assistorfood:', no_p_assistorfood.mean())\n",
    "print('p_assistorfood p-value:', p_value)"
   ]
  },
  {
   "cell_type": "code",
   "execution_count": 76,
   "id": "9b7a9012",
   "metadata": {},
   "outputs": [
    {
     "name": "stdout",
     "output_type": "stream",
     "text": [
      "follow up mean p_unemployed: 0.06329186250990099\n",
      "no follow up mean p_unemployed: 0.06763203584000001\n",
      "p_unemployed p-value: 0.5328247613259829\n"
     ]
    }
   ],
   "source": [
    "# p_unemployed\n",
    "\n",
    "yes_p_unemployed = yes['p_unemployed'].dropna().to_numpy()\n",
    "no_p_unemployed = no['p_unemployed'].dropna().to_numpy()\n",
    "t_stat, p_value = ttest_ind(yes_p_unemployed, no_p_unemployed, equal_var=True) \n",
    "print('follow up mean p_unemployed:', yes_p_unemployed.mean())\n",
    "print('no follow up mean p_unemployed:', no_p_unemployed.mean())\n",
    "print('p_unemployed p-value:', p_value)"
   ]
  },
  {
   "cell_type": "code",
   "execution_count": 77,
   "id": "6b8c9039",
   "metadata": {},
   "outputs": [
    {
     "name": "stdout",
     "output_type": "stream",
     "text": [
      "follow up mean h_vacant: 0.07271387069059405\n",
      "no follow up mean h_vacant: 0.07495217272\n",
      "h_vacant p-value: 0.7972777347936559\n"
     ]
    }
   ],
   "source": [
    "# h_vacant\n",
    "\n",
    "yes_h_vacant = yes['h_vacant'].dropna().to_numpy()\n",
    "no_h_vacant = no['h_vacant'].dropna().to_numpy()\n",
    "t_stat, p_value = ttest_ind(yes_h_vacant, no_h_vacant, equal_var=True) \n",
    "print('follow up mean h_vacant:', yes_h_vacant.mean())\n",
    "print('no follow up mean h_vacant:', no_h_vacant.mean())\n",
    "print('h_vacant p-value:', p_value)"
   ]
  },
  {
   "cell_type": "code",
   "execution_count": 78,
   "id": "a08a4365",
   "metadata": {},
   "outputs": [
    {
     "name": "stdout",
     "output_type": "stream",
     "text": [
      "follow up mean h_renter: 0.49786316770792083\n",
      "no follow up mean h_renter: 0.6331857423999999\n",
      "h_renter p-value: 0.00404516013240737\n"
     ]
    }
   ],
   "source": [
    "# h_renter\n",
    "\n",
    "yes_h_renter = yes['h_renter'].dropna().to_numpy()\n",
    "no_h_renter = no['h_renter'].dropna().to_numpy()\n",
    "t_stat, p_value = ttest_ind(yes_h_renter, no_h_renter, equal_var=True) \n",
    "print('follow up mean h_renter:', yes_h_renter.mean())\n",
    "print('no follow up mean h_renter:', no_h_renter.mean())\n",
    "print('h_renter p-value:', p_value)"
   ]
  },
  {
   "cell_type": "code",
   "execution_count": 79,
   "id": "a0d58cba",
   "metadata": {},
   "outputs": [
    {
     "name": "stdout",
     "output_type": "stream",
     "text": [
      "follow up mean h_occupants: 0.006488016681188119\n",
      "no follow up mean h_occupants: 0.010750185798\n",
      "h_occupants p-value: 0.04369278239249115\n"
     ]
    }
   ],
   "source": [
    "# h_occupants\n",
    "\n",
    "yes_h_occupants = yes['h_occupants'].dropna().to_numpy()\n",
    "no_h_occupants = no['h_occupants'].dropna().to_numpy()\n",
    "t_stat, p_value = ttest_ind(yes_h_occupants, no_h_occupants, equal_var=True) \n",
    "print('follow up mean h_occupants:', yes_h_occupants.mean())\n",
    "print('no follow up mean h_occupants:', no_h_occupants.mean())\n",
    "print('h_occupants p-value:', p_value)"
   ]
  },
  {
   "cell_type": "code",
   "execution_count": 80,
   "id": "ad7b05f0",
   "metadata": {},
   "outputs": [
    {
     "name": "stdout",
     "output_type": "stream",
     "text": [
      "follow up mean h_novehicles: 0.3649638334366337\n",
      "no follow up mean h_novehicles: 0.44906783782\n",
      "h_novehicles p-value: 0.061580477700744714\n"
     ]
    }
   ],
   "source": [
    "# h_novehicles\n",
    "\n",
    "yes_h_novehicles = yes['h_novehicles'].dropna().to_numpy()\n",
    "no_h_novehicles = no['h_novehicles'].dropna().to_numpy()\n",
    "t_stat, p_value = ttest_ind(yes_h_novehicles, no_h_novehicles, equal_var=True) \n",
    "print('follow up mean h_novehicles:', yes_h_novehicles.mean())\n",
    "print('no follow up mean h_novehicles:', no_h_novehicles.mean())\n",
    "print('h_novehicles p-value:', p_value)"
   ]
  },
  {
   "cell_type": "code",
   "execution_count": 81,
   "id": "6fbcc346",
   "metadata": {},
   "outputs": [
    {
     "name": "stdout",
     "output_type": "stream",
     "text": [
      "follow up mean h_mdnrent: 1848.1347150259066\n",
      "no follow up mean h_mdnrent: 1752.4583333333333\n",
      "h_mdnrent p-value: 0.3348777662057969\n"
     ]
    }
   ],
   "source": [
    "# h_mdnrent\n",
    "\n",
    "yes_h_mdnrent = yes['h_mdnrent'].dropna().to_numpy()\n",
    "no_h_mdnrent = no['h_mdnrent'].dropna().to_numpy()\n",
    "t_stat, p_value = ttest_ind(yes_h_mdnrent, no_h_mdnrent, equal_var=True) \n",
    "print('follow up mean h_mdnrent:', yes_h_mdnrent.mean())\n",
    "print('no follow up mean h_mdnrent:', no_h_mdnrent.mean())\n",
    "print('h_mdnrent p-value:', p_value)"
   ]
  },
  {
   "cell_type": "code",
   "execution_count": 82,
   "id": "f2c0b88d",
   "metadata": {},
   "outputs": [
    {
     "name": "stdout",
     "output_type": "stream",
     "text": [
      "follow up mean h_rentpercent: 0.33120102896907216\n",
      "no follow up mean h_rentpercent: 0.3495599988\n",
      "h_rentpercent p-value: 0.15395488289968978\n"
     ]
    }
   ],
   "source": [
    "# h_rentpercent\n",
    "\n",
    "yes_h_rentpercent = yes['h_rentpercent'].dropna().to_numpy()\n",
    "no_h_rentpercent = no['h_rentpercent'].dropna().to_numpy()\n",
    "t_stat, p_value = ttest_ind(yes_h_rentpercent, no_h_rentpercent, equal_var=True) \n",
    "print('follow up mean h_rentpercent:', yes_h_rentpercent.mean())\n",
    "print('no follow up mean h_rentpercent:', no_h_rentpercent.mean())\n",
    "print('h_rentpercent p-value:', p_value)"
   ]
  },
  {
   "cell_type": "code",
   "execution_count": 83,
   "id": "6a27ee38",
   "metadata": {},
   "outputs": [
    {
     "name": "stdout",
     "output_type": "stream",
     "text": [
      "follow up mean h_houseprice: 727349.241025641\n",
      "no follow up mean h_houseprice: 683117.0212765958\n",
      "h_houseprice p-value: 0.42125373788146325\n"
     ]
    }
   ],
   "source": [
    "# h_houseprice\n",
    "\n",
    "yes_h_houseprice = yes['h_houseprice'].dropna().to_numpy()\n",
    "no_h_houseprice = no['h_houseprice'].dropna().to_numpy()\n",
    "t_stat, p_value = ttest_ind(yes_h_houseprice, no_h_houseprice, equal_var=True) \n",
    "print('follow up mean h_houseprice:', yes_h_houseprice.mean())\n",
    "print('no follow up mean h_houseprice:', no_h_houseprice.mean())\n",
    "print('h_houseprice p-value:', p_value)"
   ]
  },
  {
   "cell_type": "code",
   "execution_count": 84,
   "id": "ef7ecf4d",
   "metadata": {},
   "outputs": [
    {
     "name": "stdout",
     "output_type": "stream",
     "text": [
      "follow up mean p_private: 0.4800259750792079\n",
      "no follow up mean p_private: 0.3948984266\n",
      "p_private p-value: 0.002543384624900946\n"
     ]
    }
   ],
   "source": [
    "# p_private\n",
    "\n",
    "yes_p_private = yes['p_private'].dropna().to_numpy()\n",
    "no_p_private = no['p_private'].dropna().to_numpy()\n",
    "t_stat, p_value = ttest_ind(yes_p_private, no_p_private, equal_var=True) \n",
    "print('follow up mean p_private:', yes_p_private.mean())\n",
    "print('no follow up mean p_private:', no_p_private.mean())\n",
    "print('p_private p-value:', p_value)"
   ]
  },
  {
   "cell_type": "code",
   "execution_count": 85,
   "id": "e840939d",
   "metadata": {},
   "outputs": [
    {
     "name": "stdout",
     "output_type": "stream",
     "text": [
      "follow up mean p_medicare: 0.09564838141534654\n",
      "no follow up mean p_medicare: 0.07540773412999999\n",
      "p_medicare p-value: 0.008830538378284819\n"
     ]
    }
   ],
   "source": [
    "# p_medicare\n",
    "\n",
    "yes_p_medicare = yes['p_medicare'].dropna().to_numpy()\n",
    "no_p_medicare = no['p_medicare'].dropna().to_numpy()\n",
    "t_stat, p_value = ttest_ind(yes_p_medicare, no_p_medicare, equal_var=True) \n",
    "print('follow up mean p_medicare:', yes_p_medicare.mean())\n",
    "print('no follow up mean p_medicare:', no_p_medicare.mean())\n",
    "print('p_medicare p-value:', p_value)"
   ]
  },
  {
   "cell_type": "code",
   "execution_count": 86,
   "id": "186cb7e7",
   "metadata": {},
   "outputs": [
    {
     "name": "stdout",
     "output_type": "stream",
     "text": [
      "follow up mean p_medicaid: 0.2432236716742574\n",
      "no follow up mean p_medicaid: 0.33130214194\n",
      "p_medicaid p-value: 0.0025988268308943657\n"
     ]
    }
   ],
   "source": [
    "# p_medicaid\n",
    "\n",
    "yes_p_medicaid = yes['p_medicaid'].dropna().to_numpy()\n",
    "no_p_medicaid = no['p_medicaid'].dropna().to_numpy()\n",
    "t_stat, p_value = ttest_ind(yes_p_medicaid, no_p_medicaid, equal_var=True) \n",
    "print('follow up mean p_medicaid:', yes_p_medicaid.mean())\n",
    "print('no follow up mean p_medicaid:', no_p_medicaid.mean())\n",
    "print('p_medicaid p-value:', p_value)"
   ]
  },
  {
   "cell_type": "code",
   "execution_count": 87,
   "id": "d716b2b0",
   "metadata": {},
   "outputs": [
    {
     "name": "stdout",
     "output_type": "stream",
     "text": [
      "follow up mean p_otherinsur: 0.11954375487623763\n",
      "no follow up mean p_otherinsur: 0.10532024738399999\n",
      "p_otherinsur p-value: 0.09052259802944301\n"
     ]
    }
   ],
   "source": [
    "# p_otherinsur\n",
    "\n",
    "yes_p_otherinsur = yes['p_otherinsur'].dropna().to_numpy()\n",
    "no_p_otherinsur = no['p_otherinsur'].dropna().to_numpy()\n",
    "t_stat, p_value = ttest_ind(yes_p_otherinsur, no_p_otherinsur, equal_var=True) \n",
    "print('follow up mean p_otherinsur:', yes_p_otherinsur.mean())\n",
    "print('no follow up mean p_otherinsur:', no_p_otherinsur.mean())\n",
    "print('p_otherinsur p-value:', p_value)"
   ]
  },
  {
   "cell_type": "code",
   "execution_count": 88,
   "id": "2bb8ed62",
   "metadata": {},
   "outputs": [
    {
     "name": "stdout",
     "output_type": "stream",
     "text": [
      "follow up mean p_uninsured: 0.061558216305445536\n",
      "no follow up mean p_uninsured: 0.09307145026000001\n",
      "p_uninsured p-value: 4.218348447939471e-05\n"
     ]
    }
   ],
   "source": [
    "# p_uninsured\n",
    "\n",
    "yes_p_uninsured = yes['p_uninsured'].dropna().to_numpy()\n",
    "no_p_uninsured = no['p_uninsured'].dropna().to_numpy()\n",
    "t_stat, p_value = ttest_ind(yes_p_uninsured, no_p_uninsured, equal_var=True) \n",
    "print('follow up mean p_uninsured:', yes_p_uninsured.mean())\n",
    "print('no follow up mean p_uninsured:', no_p_uninsured.mean())\n",
    "print('p_uninsured p-value:', p_value)"
   ]
  },
  {
   "cell_type": "code",
   "execution_count": 89,
   "id": "4675c02e",
   "metadata": {},
   "outputs": [
    {
     "name": "stdout",
     "output_type": "stream",
     "text": [
      "follow up mean h_nointernet: 0.10668857386584159\n",
      "no follow up mean h_nointernet: 0.11191166768000001\n",
      "h_nointernet p-value: 0.699228451605655\n"
     ]
    }
   ],
   "source": [
    "# h_nointernet\n",
    "\n",
    "yes_h_nointernet = yes['h_nointernet'].dropna().to_numpy()\n",
    "no_h_nointernet = no['h_nointernet'].dropna().to_numpy()\n",
    "t_stat, p_value = ttest_ind(yes_h_nointernet, no_h_nointernet, equal_var=True) \n",
    "print('follow up mean h_nointernet:', yes_h_nointernet.mean())\n",
    "print('no follow up mean h_nointernet:', no_h_nointernet.mean())\n",
    "print('h_nointernet p-value:', p_value)"
   ]
  },
  {
   "cell_type": "code",
   "execution_count": 90,
   "id": "675917e3",
   "metadata": {},
   "outputs": [
    {
     "name": "stdout",
     "output_type": "stream",
     "text": [
      "follow up mean h_nocomputer: 0.07499260331881188\n",
      "no follow up mean h_nocomputer: 0.08093668903600001\n",
      "h_nocomputer p-value: 0.5882146879254095\n"
     ]
    }
   ],
   "source": [
    "# h_nocomputer\n",
    "\n",
    "yes_h_nocomputer = yes['h_nocomputer'].dropna().to_numpy()\n",
    "no_h_nocomputer = no['h_nocomputer'].dropna().to_numpy()\n",
    "t_stat, p_value = ttest_ind(yes_h_nocomputer, no_h_nocomputer, equal_var=True) \n",
    "print('follow up mean h_nocomputer:', yes_h_nocomputer.mean())\n",
    "print('no follow up mean h_nocomputer:', no_h_nocomputer.mean())\n",
    "print('h_nocomputer p-value:', p_value)"
   ]
  },
  {
   "cell_type": "code",
   "execution_count": 91,
   "id": "6da5ddf9",
   "metadata": {},
   "outputs": [
    {
     "name": "stdout",
     "output_type": "stream",
     "text": [
      "follow up mean p_foreign: 0.3148432666188119\n",
      "no follow up mean p_foreign: 0.39080735240000003\n",
      "p_foreign p-value: 0.002016375096063836\n"
     ]
    }
   ],
   "source": [
    "# p_foreign\n",
    "\n",
    "yes_p_foreign = yes['p_foreign'].dropna().to_numpy()\n",
    "no_p_foreign = no['p_foreign'].dropna().to_numpy()\n",
    "t_stat, p_value = ttest_ind(yes_p_foreign, no_p_foreign, equal_var=True) \n",
    "print('follow up mean p_foreign:', yes_p_foreign.mean())\n",
    "print('no follow up mean p_foreign:', no_p_foreign.mean())\n",
    "print('p_foreign p-value:', p_value)"
   ]
  },
  {
   "cell_type": "code",
   "execution_count": 92,
   "id": "c04ba7ca",
   "metadata": {},
   "outputs": [
    {
     "name": "stdout",
     "output_type": "stream",
     "text": [
      "follow up mean p_disabled: 0.0920380483341584\n",
      "no follow up mean p_disabled: 0.09482295820000002\n",
      "p_disabled p-value: 0.678853112929203\n"
     ]
    }
   ],
   "source": [
    "# p_disabled\n",
    "\n",
    "yes_p_disabled = yes['p_disabled'].dropna().to_numpy()\n",
    "no_p_disabled = no['p_disabled'].dropna().to_numpy()\n",
    "t_stat, p_value = ttest_ind(yes_p_disabled, no_p_disabled, equal_var=True) \n",
    "print('follow up mean p_disabled:', yes_p_disabled.mean())\n",
    "print('no follow up mean p_disabled:', no_p_disabled.mean())\n",
    "print('p_disabled p-value:', p_value)"
   ]
  },
  {
   "cell_type": "code",
   "execution_count": null,
   "id": "660c7197",
   "metadata": {},
   "outputs": [],
   "source": []
  }
 ],
 "metadata": {
  "kernelspec": {
   "display_name": "capstone",
   "language": "python",
   "name": "python3"
  },
  "language_info": {
   "codemirror_mode": {
    "name": "ipython",
    "version": 3
   },
   "file_extension": ".py",
   "mimetype": "text/x-python",
   "name": "python",
   "nbconvert_exporter": "python",
   "pygments_lexer": "ipython3",
   "version": "3.13.1"
  }
 },
 "nbformat": 4,
 "nbformat_minor": 5
}
