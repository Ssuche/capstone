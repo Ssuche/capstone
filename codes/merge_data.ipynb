{
 "cells": [
  {
   "cell_type": "code",
   "execution_count": 1,
   "metadata": {},
   "outputs": [],
   "source": [
    "import pandas as pd\n"
   ]
  },
  {
   "cell_type": "code",
   "execution_count": 2,
   "metadata": {},
   "outputs": [],
   "source": [
    "bp = pd.read_csv('../processed_data/bp_data.csv')\n",
    "ed = pd.read_csv('../processed_data/ed_data.csv')\n",
    "geo = pd.read_csv('../processed_data/geo_data.csv')\n",
    "lab = pd.read_csv('../processed_data/lab_data.csv')\n",
    "visit = pd.read_csv('../processed_data/visit_data.csv')"
   ]
  },
  {
   "cell_type": "code",
   "execution_count": 3,
   "metadata": {},
   "outputs": [],
   "source": [
    "mergecolumns = ['encrypt_mrn', 'ed_screened', 'visit_date', 'new_diagnosis', 'pcp_followup']\n",
    "\n",
    "data = pd.merge(bp, ed, on=mergecolumns, how='left')\n",
    "data = pd.merge(data, geo, on=mergecolumns, how='left')\n",
    "data = pd.merge(data, lab, on=mergecolumns, how='left')\n",
    "data = pd.merge(data, visit, on=mergecolumns, how='left')\n"
   ]
  },
  {
   "cell_type": "code",
   "execution_count": 4,
   "metadata": {},
   "outputs": [
    {
     "data": {
      "text/plain": [
       "(254, 152)"
      ]
     },
     "execution_count": 4,
     "metadata": {},
     "output_type": "execute_result"
    }
   ],
   "source": [
    "data = data[data['new_diagnosis'] == 'Yes']\n",
    "data = data.dropna(subset=['pcp_followup'])\n",
    "data.shape"
   ]
  },
  {
   "cell_type": "code",
   "execution_count": 5,
   "metadata": {},
   "outputs": [],
   "source": [
    "data.to_csv('../processed_data/merged_data.csv', index=False)"
   ]
  }
 ],
 "metadata": {
  "kernelspec": {
   "display_name": "capstone",
   "language": "python",
   "name": "python3"
  },
  "language_info": {
   "codemirror_mode": {
    "name": "ipython",
    "version": 3
   },
   "file_extension": ".py",
   "mimetype": "text/x-python",
   "name": "python",
   "nbconvert_exporter": "python",
   "pygments_lexer": "ipython3",
   "version": "3.13.1"
  }
 },
 "nbformat": 4,
 "nbformat_minor": 2
}
