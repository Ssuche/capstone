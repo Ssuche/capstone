{
 "cells": [
  {
   "cell_type": "code",
   "execution_count": 1,
   "id": "660d222a",
   "metadata": {},
   "outputs": [],
   "source": [
    "import pandas as pd\n",
    "import numpy as np\n",
    "from scipy.stats import ttest_ind,chi2_contingency\n",
    "import seaborn as sns\n",
    "import matplotlib.pyplot as plt\n",
    "\n",
    "import warnings\n",
    "warnings.filterwarnings(\"ignore\")"
   ]
  },
  {
   "cell_type": "code",
   "execution_count": 2,
   "id": "55ce0897",
   "metadata": {},
   "outputs": [
    {
     "data": {
      "text/html": [
       "<div>\n",
       "<style scoped>\n",
       "    .dataframe tbody tr th:only-of-type {\n",
       "        vertical-align: middle;\n",
       "    }\n",
       "\n",
       "    .dataframe tbody tr th {\n",
       "        vertical-align: top;\n",
       "    }\n",
       "\n",
       "    .dataframe thead th {\n",
       "        text-align: right;\n",
       "    }\n",
       "</style>\n",
       "<table border=\"1\" class=\"dataframe\">\n",
       "  <thead>\n",
       "    <tr style=\"text-align: right;\">\n",
       "      <th></th>\n",
       "      <th>encrypt_mrn</th>\n",
       "      <th>ed_screened</th>\n",
       "      <th>visit_date</th>\n",
       "      <th>new_diagnosis</th>\n",
       "      <th>pcp_followup</th>\n",
       "      <th>max_sbp</th>\n",
       "      <th>min_sbp</th>\n",
       "      <th>max_dbp</th>\n",
       "      <th>min_dbp</th>\n",
       "      <th>max_diff</th>\n",
       "      <th>...</th>\n",
       "      <th>max_value_HEMOGLOBIN A1C</th>\n",
       "      <th>max_value_LDL CHOLESTEROL, CALCULATED</th>\n",
       "      <th>min_value_CHOLESTEROL, TOTAL</th>\n",
       "      <th>min_value_CREATININE</th>\n",
       "      <th>min_value_GLUCOSE</th>\n",
       "      <th>min_value_GLUCOSE, POC</th>\n",
       "      <th>min_value_HDL CHOLESTEROL</th>\n",
       "      <th>min_value_HEMOGLOBIN A1C</th>\n",
       "      <th>min_value_LDL CHOLESTEROL, CALCULATED</th>\n",
       "      <th>visit_type</th>\n",
       "    </tr>\n",
       "  </thead>\n",
       "  <tbody>\n",
       "    <tr>\n",
       "      <th>0</th>\n",
       "      <td>2303579</td>\n",
       "      <td>NYU Brooklyn</td>\n",
       "      <td>2023-01-10</td>\n",
       "      <td>Yes</td>\n",
       "      <td>Yes</td>\n",
       "      <td>133.0</td>\n",
       "      <td>114.0</td>\n",
       "      <td>96.0</td>\n",
       "      <td>64.0</td>\n",
       "      <td>52.0</td>\n",
       "      <td>...</td>\n",
       "      <td>9.3</td>\n",
       "      <td>176.0</td>\n",
       "      <td>268.0</td>\n",
       "      <td>0.74</td>\n",
       "      <td>305.0</td>\n",
       "      <td>230.0</td>\n",
       "      <td>31.0</td>\n",
       "      <td>9.3</td>\n",
       "      <td>176.0</td>\n",
       "      <td>Hospitalization</td>\n",
       "    </tr>\n",
       "    <tr>\n",
       "      <th>1</th>\n",
       "      <td>2117042</td>\n",
       "      <td>NYU Long Island</td>\n",
       "      <td>2022-01-13</td>\n",
       "      <td>Yes</td>\n",
       "      <td>Yes</td>\n",
       "      <td>102.0</td>\n",
       "      <td>102.0</td>\n",
       "      <td>69.0</td>\n",
       "      <td>69.0</td>\n",
       "      <td>33.0</td>\n",
       "      <td>...</td>\n",
       "      <td>NaN</td>\n",
       "      <td>NaN</td>\n",
       "      <td>NaN</td>\n",
       "      <td>NaN</td>\n",
       "      <td>NaN</td>\n",
       "      <td>443.0</td>\n",
       "      <td>NaN</td>\n",
       "      <td>NaN</td>\n",
       "      <td>NaN</td>\n",
       "      <td>Hospitalization</td>\n",
       "    </tr>\n",
       "    <tr>\n",
       "      <th>2</th>\n",
       "      <td>2117326</td>\n",
       "      <td>NYU Brooklyn</td>\n",
       "      <td>2022-01-14</td>\n",
       "      <td>Yes</td>\n",
       "      <td>No</td>\n",
       "      <td>158.0</td>\n",
       "      <td>148.0</td>\n",
       "      <td>88.0</td>\n",
       "      <td>82.0</td>\n",
       "      <td>76.0</td>\n",
       "      <td>...</td>\n",
       "      <td>11.2</td>\n",
       "      <td>NaN</td>\n",
       "      <td>NaN</td>\n",
       "      <td>0.70</td>\n",
       "      <td>423.0</td>\n",
       "      <td>404.0</td>\n",
       "      <td>NaN</td>\n",
       "      <td>11.2</td>\n",
       "      <td>NaN</td>\n",
       "      <td>Emergency</td>\n",
       "    </tr>\n",
       "    <tr>\n",
       "      <th>3</th>\n",
       "      <td>2112782</td>\n",
       "      <td>NYU Brooklyn</td>\n",
       "      <td>2022-01-16</td>\n",
       "      <td>Yes</td>\n",
       "      <td>No</td>\n",
       "      <td>181.0</td>\n",
       "      <td>146.0</td>\n",
       "      <td>93.0</td>\n",
       "      <td>87.0</td>\n",
       "      <td>88.0</td>\n",
       "      <td>...</td>\n",
       "      <td>11.6</td>\n",
       "      <td>NaN</td>\n",
       "      <td>NaN</td>\n",
       "      <td>1.03</td>\n",
       "      <td>418.0</td>\n",
       "      <td>491.0</td>\n",
       "      <td>NaN</td>\n",
       "      <td>11.6</td>\n",
       "      <td>NaN</td>\n",
       "      <td>Emergency</td>\n",
       "    </tr>\n",
       "    <tr>\n",
       "      <th>4</th>\n",
       "      <td>2062174</td>\n",
       "      <td>NYU Cobble Hill</td>\n",
       "      <td>2022-01-19</td>\n",
       "      <td>Yes</td>\n",
       "      <td>Yes</td>\n",
       "      <td>177.0</td>\n",
       "      <td>135.0</td>\n",
       "      <td>100.0</td>\n",
       "      <td>68.0</td>\n",
       "      <td>77.0</td>\n",
       "      <td>...</td>\n",
       "      <td>8.3</td>\n",
       "      <td>NaN</td>\n",
       "      <td>NaN</td>\n",
       "      <td>NaN</td>\n",
       "      <td>NaN</td>\n",
       "      <td>181.0</td>\n",
       "      <td>NaN</td>\n",
       "      <td>8.3</td>\n",
       "      <td>NaN</td>\n",
       "      <td>Emergency</td>\n",
       "    </tr>\n",
       "  </tbody>\n",
       "</table>\n",
       "<p>5 rows × 154 columns</p>\n",
       "</div>"
      ],
      "text/plain": [
       "   encrypt_mrn      ed_screened  visit_date new_diagnosis pcp_followup  \\\n",
       "0      2303579     NYU Brooklyn  2023-01-10           Yes          Yes   \n",
       "1      2117042  NYU Long Island  2022-01-13           Yes          Yes   \n",
       "2      2117326     NYU Brooklyn  2022-01-14           Yes           No   \n",
       "3      2112782     NYU Brooklyn  2022-01-16           Yes           No   \n",
       "4      2062174  NYU Cobble Hill  2022-01-19           Yes          Yes   \n",
       "\n",
       "   max_sbp  min_sbp  max_dbp  min_dbp  max_diff  ...  \\\n",
       "0    133.0    114.0     96.0     64.0      52.0  ...   \n",
       "1    102.0    102.0     69.0     69.0      33.0  ...   \n",
       "2    158.0    148.0     88.0     82.0      76.0  ...   \n",
       "3    181.0    146.0     93.0     87.0      88.0  ...   \n",
       "4    177.0    135.0    100.0     68.0      77.0  ...   \n",
       "\n",
       "   max_value_HEMOGLOBIN A1C  max_value_LDL CHOLESTEROL, CALCULATED  \\\n",
       "0                       9.3                                  176.0   \n",
       "1                       NaN                                    NaN   \n",
       "2                      11.2                                    NaN   \n",
       "3                      11.6                                    NaN   \n",
       "4                       8.3                                    NaN   \n",
       "\n",
       "   min_value_CHOLESTEROL, TOTAL  min_value_CREATININE  min_value_GLUCOSE  \\\n",
       "0                         268.0                  0.74              305.0   \n",
       "1                           NaN                   NaN                NaN   \n",
       "2                           NaN                  0.70              423.0   \n",
       "3                           NaN                  1.03              418.0   \n",
       "4                           NaN                   NaN                NaN   \n",
       "\n",
       "   min_value_GLUCOSE, POC min_value_HDL CHOLESTEROL min_value_HEMOGLOBIN A1C  \\\n",
       "0                   230.0                      31.0                      9.3   \n",
       "1                   443.0                       NaN                      NaN   \n",
       "2                   404.0                       NaN                     11.2   \n",
       "3                   491.0                       NaN                     11.6   \n",
       "4                   181.0                       NaN                      8.3   \n",
       "\n",
       "  min_value_LDL CHOLESTEROL, CALCULATED       visit_type  \n",
       "0                                 176.0  Hospitalization  \n",
       "1                                   NaN  Hospitalization  \n",
       "2                                   NaN        Emergency  \n",
       "3                                   NaN        Emergency  \n",
       "4                                   NaN        Emergency  \n",
       "\n",
       "[5 rows x 154 columns]"
      ]
     },
     "execution_count": 2,
     "metadata": {},
     "output_type": "execute_result"
    }
   ],
   "source": [
    "data = pd.read_csv('../processed_data/merged_data.csv')\n",
    "data.head()"
   ]
  },
  {
   "cell_type": "code",
   "execution_count": 3,
   "id": "3879dc16",
   "metadata": {},
   "outputs": [
    {
     "data": {
      "text/html": [
       "<div>\n",
       "<style scoped>\n",
       "    .dataframe tbody tr th:only-of-type {\n",
       "        vertical-align: middle;\n",
       "    }\n",
       "\n",
       "    .dataframe tbody tr th {\n",
       "        vertical-align: top;\n",
       "    }\n",
       "\n",
       "    .dataframe thead th {\n",
       "        text-align: right;\n",
       "    }\n",
       "</style>\n",
       "<table border=\"1\" class=\"dataframe\">\n",
       "  <thead>\n",
       "    <tr style=\"text-align: right;\">\n",
       "      <th></th>\n",
       "      <th>encrypt_mrn</th>\n",
       "      <th>ed_screened</th>\n",
       "      <th>visit_date</th>\n",
       "      <th>new_diagnosis</th>\n",
       "      <th>pcp_followup</th>\n",
       "      <th>max_sbp</th>\n",
       "      <th>min_sbp</th>\n",
       "      <th>max_dbp</th>\n",
       "      <th>min_dbp</th>\n",
       "      <th>max_diff</th>\n",
       "      <th>...</th>\n",
       "      <th>max_value_HEMOGLOBIN A1C</th>\n",
       "      <th>max_value_LDL CHOLESTEROL, CALCULATED</th>\n",
       "      <th>min_value_CHOLESTEROL, TOTAL</th>\n",
       "      <th>min_value_CREATININE</th>\n",
       "      <th>min_value_GLUCOSE</th>\n",
       "      <th>min_value_GLUCOSE, POC</th>\n",
       "      <th>min_value_HDL CHOLESTEROL</th>\n",
       "      <th>min_value_HEMOGLOBIN A1C</th>\n",
       "      <th>min_value_LDL CHOLESTEROL, CALCULATED</th>\n",
       "      <th>visit_type</th>\n",
       "    </tr>\n",
       "  </thead>\n",
       "  <tbody>\n",
       "    <tr>\n",
       "      <th>17</th>\n",
       "      <td>2113364</td>\n",
       "      <td>NYU Long Island</td>\n",
       "      <td>2022-01-06</td>\n",
       "      <td>Yes</td>\n",
       "      <td>Yes</td>\n",
       "      <td>164.0</td>\n",
       "      <td>145.0</td>\n",
       "      <td>95.0</td>\n",
       "      <td>82.0</td>\n",
       "      <td>75.0</td>\n",
       "      <td>...</td>\n",
       "      <td>13.0</td>\n",
       "      <td>NaN</td>\n",
       "      <td>NaN</td>\n",
       "      <td>0.86</td>\n",
       "      <td>200.0</td>\n",
       "      <td>214.0</td>\n",
       "      <td>NaN</td>\n",
       "      <td>13.0</td>\n",
       "      <td>NaN</td>\n",
       "      <td>Hospitalization</td>\n",
       "    </tr>\n",
       "    <tr>\n",
       "      <th>19</th>\n",
       "      <td>2115116</td>\n",
       "      <td>NYU Cobble Hill</td>\n",
       "      <td>2022-01-09</td>\n",
       "      <td>Yes</td>\n",
       "      <td>No</td>\n",
       "      <td>135.0</td>\n",
       "      <td>135.0</td>\n",
       "      <td>75.0</td>\n",
       "      <td>75.0</td>\n",
       "      <td>60.0</td>\n",
       "      <td>...</td>\n",
       "      <td>14.6</td>\n",
       "      <td>NaN</td>\n",
       "      <td>NaN</td>\n",
       "      <td>1.43</td>\n",
       "      <td>475.0</td>\n",
       "      <td>444.0</td>\n",
       "      <td>NaN</td>\n",
       "      <td>14.6</td>\n",
       "      <td>NaN</td>\n",
       "      <td>Hospitalization</td>\n",
       "    </tr>\n",
       "    <tr>\n",
       "      <th>1</th>\n",
       "      <td>2117042</td>\n",
       "      <td>NYU Long Island</td>\n",
       "      <td>2022-01-13</td>\n",
       "      <td>Yes</td>\n",
       "      <td>Yes</td>\n",
       "      <td>102.0</td>\n",
       "      <td>102.0</td>\n",
       "      <td>69.0</td>\n",
       "      <td>69.0</td>\n",
       "      <td>33.0</td>\n",
       "      <td>...</td>\n",
       "      <td>NaN</td>\n",
       "      <td>NaN</td>\n",
       "      <td>NaN</td>\n",
       "      <td>NaN</td>\n",
       "      <td>NaN</td>\n",
       "      <td>443.0</td>\n",
       "      <td>NaN</td>\n",
       "      <td>NaN</td>\n",
       "      <td>NaN</td>\n",
       "      <td>Hospitalization</td>\n",
       "    </tr>\n",
       "    <tr>\n",
       "      <th>2</th>\n",
       "      <td>2117326</td>\n",
       "      <td>NYU Brooklyn</td>\n",
       "      <td>2022-01-14</td>\n",
       "      <td>Yes</td>\n",
       "      <td>No</td>\n",
       "      <td>158.0</td>\n",
       "      <td>148.0</td>\n",
       "      <td>88.0</td>\n",
       "      <td>82.0</td>\n",
       "      <td>76.0</td>\n",
       "      <td>...</td>\n",
       "      <td>11.2</td>\n",
       "      <td>NaN</td>\n",
       "      <td>NaN</td>\n",
       "      <td>0.70</td>\n",
       "      <td>423.0</td>\n",
       "      <td>404.0</td>\n",
       "      <td>NaN</td>\n",
       "      <td>11.2</td>\n",
       "      <td>NaN</td>\n",
       "      <td>Emergency</td>\n",
       "    </tr>\n",
       "    <tr>\n",
       "      <th>3</th>\n",
       "      <td>2112782</td>\n",
       "      <td>NYU Brooklyn</td>\n",
       "      <td>2022-01-16</td>\n",
       "      <td>Yes</td>\n",
       "      <td>No</td>\n",
       "      <td>181.0</td>\n",
       "      <td>146.0</td>\n",
       "      <td>93.0</td>\n",
       "      <td>87.0</td>\n",
       "      <td>88.0</td>\n",
       "      <td>...</td>\n",
       "      <td>11.6</td>\n",
       "      <td>NaN</td>\n",
       "      <td>NaN</td>\n",
       "      <td>1.03</td>\n",
       "      <td>418.0</td>\n",
       "      <td>491.0</td>\n",
       "      <td>NaN</td>\n",
       "      <td>11.6</td>\n",
       "      <td>NaN</td>\n",
       "      <td>Emergency</td>\n",
       "    </tr>\n",
       "    <tr>\n",
       "      <th>...</th>\n",
       "      <td>...</td>\n",
       "      <td>...</td>\n",
       "      <td>...</td>\n",
       "      <td>...</td>\n",
       "      <td>...</td>\n",
       "      <td>...</td>\n",
       "      <td>...</td>\n",
       "      <td>...</td>\n",
       "      <td>...</td>\n",
       "      <td>...</td>\n",
       "      <td>...</td>\n",
       "      <td>...</td>\n",
       "      <td>...</td>\n",
       "      <td>...</td>\n",
       "      <td>...</td>\n",
       "      <td>...</td>\n",
       "      <td>...</td>\n",
       "      <td>...</td>\n",
       "      <td>...</td>\n",
       "      <td>...</td>\n",
       "      <td>...</td>\n",
       "    </tr>\n",
       "    <tr>\n",
       "      <th>70</th>\n",
       "      <td>2018657</td>\n",
       "      <td>NYU Brooklyn</td>\n",
       "      <td>2023-12-02</td>\n",
       "      <td>Yes</td>\n",
       "      <td>Yes</td>\n",
       "      <td>156.0</td>\n",
       "      <td>148.0</td>\n",
       "      <td>92.0</td>\n",
       "      <td>89.0</td>\n",
       "      <td>64.0</td>\n",
       "      <td>...</td>\n",
       "      <td>7.1</td>\n",
       "      <td>NaN</td>\n",
       "      <td>NaN</td>\n",
       "      <td>1.33</td>\n",
       "      <td>199.0</td>\n",
       "      <td>183.0</td>\n",
       "      <td>NaN</td>\n",
       "      <td>7.1</td>\n",
       "      <td>NaN</td>\n",
       "      <td>Emergency</td>\n",
       "    </tr>\n",
       "    <tr>\n",
       "      <th>81</th>\n",
       "      <td>2479927</td>\n",
       "      <td>NYU Cobble Hill</td>\n",
       "      <td>2023-12-05</td>\n",
       "      <td>Yes</td>\n",
       "      <td>Yes</td>\n",
       "      <td>182.0</td>\n",
       "      <td>138.0</td>\n",
       "      <td>106.0</td>\n",
       "      <td>92.0</td>\n",
       "      <td>76.0</td>\n",
       "      <td>...</td>\n",
       "      <td>8.2</td>\n",
       "      <td>NaN</td>\n",
       "      <td>NaN</td>\n",
       "      <td>0.80</td>\n",
       "      <td>260.0</td>\n",
       "      <td>258.0</td>\n",
       "      <td>NaN</td>\n",
       "      <td>8.2</td>\n",
       "      <td>NaN</td>\n",
       "      <td>Emergency</td>\n",
       "    </tr>\n",
       "    <tr>\n",
       "      <th>85</th>\n",
       "      <td>2481662</td>\n",
       "      <td>NYU Brooklyn</td>\n",
       "      <td>2023-12-09</td>\n",
       "      <td>Yes</td>\n",
       "      <td>Yes</td>\n",
       "      <td>145.0</td>\n",
       "      <td>137.0</td>\n",
       "      <td>76.0</td>\n",
       "      <td>75.0</td>\n",
       "      <td>70.0</td>\n",
       "      <td>...</td>\n",
       "      <td>NaN</td>\n",
       "      <td>NaN</td>\n",
       "      <td>NaN</td>\n",
       "      <td>NaN</td>\n",
       "      <td>NaN</td>\n",
       "      <td>NaN</td>\n",
       "      <td>NaN</td>\n",
       "      <td>NaN</td>\n",
       "      <td>NaN</td>\n",
       "      <td>Emergency</td>\n",
       "    </tr>\n",
       "    <tr>\n",
       "      <th>67</th>\n",
       "      <td>2405033</td>\n",
       "      <td>NYU Cobble Hill</td>\n",
       "      <td>2023-12-18</td>\n",
       "      <td>Yes</td>\n",
       "      <td>Yes</td>\n",
       "      <td>144.0</td>\n",
       "      <td>129.0</td>\n",
       "      <td>90.0</td>\n",
       "      <td>86.0</td>\n",
       "      <td>54.0</td>\n",
       "      <td>...</td>\n",
       "      <td>NaN</td>\n",
       "      <td>NaN</td>\n",
       "      <td>NaN</td>\n",
       "      <td>0.91</td>\n",
       "      <td>109.0</td>\n",
       "      <td>NaN</td>\n",
       "      <td>NaN</td>\n",
       "      <td>NaN</td>\n",
       "      <td>NaN</td>\n",
       "      <td>Emergency</td>\n",
       "    </tr>\n",
       "    <tr>\n",
       "      <th>78</th>\n",
       "      <td>2494001</td>\n",
       "      <td>NYU Cobble Hill</td>\n",
       "      <td>2023-12-31</td>\n",
       "      <td>Yes</td>\n",
       "      <td>Yes</td>\n",
       "      <td>149.0</td>\n",
       "      <td>92.0</td>\n",
       "      <td>108.0</td>\n",
       "      <td>70.0</td>\n",
       "      <td>41.0</td>\n",
       "      <td>...</td>\n",
       "      <td>14.0</td>\n",
       "      <td>NaN</td>\n",
       "      <td>NaN</td>\n",
       "      <td>0.63</td>\n",
       "      <td>116.0</td>\n",
       "      <td>100.0</td>\n",
       "      <td>NaN</td>\n",
       "      <td>14.0</td>\n",
       "      <td>NaN</td>\n",
       "      <td>Hospitalization</td>\n",
       "    </tr>\n",
       "  </tbody>\n",
       "</table>\n",
       "<p>254 rows × 154 columns</p>\n",
       "</div>"
      ],
      "text/plain": [
       "    encrypt_mrn      ed_screened visit_date new_diagnosis pcp_followup  \\\n",
       "17      2113364  NYU Long Island 2022-01-06           Yes          Yes   \n",
       "19      2115116  NYU Cobble Hill 2022-01-09           Yes           No   \n",
       "1       2117042  NYU Long Island 2022-01-13           Yes          Yes   \n",
       "2       2117326     NYU Brooklyn 2022-01-14           Yes           No   \n",
       "3       2112782     NYU Brooklyn 2022-01-16           Yes           No   \n",
       "..          ...              ...        ...           ...          ...   \n",
       "70      2018657     NYU Brooklyn 2023-12-02           Yes          Yes   \n",
       "81      2479927  NYU Cobble Hill 2023-12-05           Yes          Yes   \n",
       "85      2481662     NYU Brooklyn 2023-12-09           Yes          Yes   \n",
       "67      2405033  NYU Cobble Hill 2023-12-18           Yes          Yes   \n",
       "78      2494001  NYU Cobble Hill 2023-12-31           Yes          Yes   \n",
       "\n",
       "    max_sbp  min_sbp  max_dbp  min_dbp  max_diff  ...  \\\n",
       "17    164.0    145.0     95.0     82.0      75.0  ...   \n",
       "19    135.0    135.0     75.0     75.0      60.0  ...   \n",
       "1     102.0    102.0     69.0     69.0      33.0  ...   \n",
       "2     158.0    148.0     88.0     82.0      76.0  ...   \n",
       "3     181.0    146.0     93.0     87.0      88.0  ...   \n",
       "..      ...      ...      ...      ...       ...  ...   \n",
       "70    156.0    148.0     92.0     89.0      64.0  ...   \n",
       "81    182.0    138.0    106.0     92.0      76.0  ...   \n",
       "85    145.0    137.0     76.0     75.0      70.0  ...   \n",
       "67    144.0    129.0     90.0     86.0      54.0  ...   \n",
       "78    149.0     92.0    108.0     70.0      41.0  ...   \n",
       "\n",
       "    max_value_HEMOGLOBIN A1C  max_value_LDL CHOLESTEROL, CALCULATED  \\\n",
       "17                      13.0                                    NaN   \n",
       "19                      14.6                                    NaN   \n",
       "1                        NaN                                    NaN   \n",
       "2                       11.2                                    NaN   \n",
       "3                       11.6                                    NaN   \n",
       "..                       ...                                    ...   \n",
       "70                       7.1                                    NaN   \n",
       "81                       8.2                                    NaN   \n",
       "85                       NaN                                    NaN   \n",
       "67                       NaN                                    NaN   \n",
       "78                      14.0                                    NaN   \n",
       "\n",
       "    min_value_CHOLESTEROL, TOTAL  min_value_CREATININE  min_value_GLUCOSE  \\\n",
       "17                           NaN                  0.86              200.0   \n",
       "19                           NaN                  1.43              475.0   \n",
       "1                            NaN                   NaN                NaN   \n",
       "2                            NaN                  0.70              423.0   \n",
       "3                            NaN                  1.03              418.0   \n",
       "..                           ...                   ...                ...   \n",
       "70                           NaN                  1.33              199.0   \n",
       "81                           NaN                  0.80              260.0   \n",
       "85                           NaN                   NaN                NaN   \n",
       "67                           NaN                  0.91              109.0   \n",
       "78                           NaN                  0.63              116.0   \n",
       "\n",
       "    min_value_GLUCOSE, POC min_value_HDL CHOLESTEROL min_value_HEMOGLOBIN A1C  \\\n",
       "17                   214.0                       NaN                     13.0   \n",
       "19                   444.0                       NaN                     14.6   \n",
       "1                    443.0                       NaN                      NaN   \n",
       "2                    404.0                       NaN                     11.2   \n",
       "3                    491.0                       NaN                     11.6   \n",
       "..                     ...                       ...                      ...   \n",
       "70                   183.0                       NaN                      7.1   \n",
       "81                   258.0                       NaN                      8.2   \n",
       "85                     NaN                       NaN                      NaN   \n",
       "67                     NaN                       NaN                      NaN   \n",
       "78                   100.0                       NaN                     14.0   \n",
       "\n",
       "   min_value_LDL CHOLESTEROL, CALCULATED       visit_type  \n",
       "17                                   NaN  Hospitalization  \n",
       "19                                   NaN  Hospitalization  \n",
       "1                                    NaN  Hospitalization  \n",
       "2                                    NaN        Emergency  \n",
       "3                                    NaN        Emergency  \n",
       "..                                   ...              ...  \n",
       "70                                   NaN        Emergency  \n",
       "81                                   NaN        Emergency  \n",
       "85                                   NaN        Emergency  \n",
       "67                                   NaN        Emergency  \n",
       "78                                   NaN  Hospitalization  \n",
       "\n",
       "[254 rows x 154 columns]"
      ]
     },
     "execution_count": 3,
     "metadata": {},
     "output_type": "execute_result"
    }
   ],
   "source": [
    "# sort visit_date\n",
    "\n",
    "data['visit_date'] = pd.to_datetime(data['visit_date'], format='%Y-%m-%d')\n",
    "data = data.sort_values(by='visit_date')\n",
    "\n",
    "data"
   ]
  },
  {
   "cell_type": "code",
   "execution_count": 4,
   "id": "8386d3f2",
   "metadata": {},
   "outputs": [
    {
     "data": {
      "text/plain": [
       "pcp_followup\n",
       "Yes    204\n",
       "No      50\n",
       "Name: count, dtype: int64"
      ]
     },
     "execution_count": 4,
     "metadata": {},
     "output_type": "execute_result"
    }
   ],
   "source": [
    "data['pcp_followup'].value_counts()"
   ]
  },
  {
   "cell_type": "code",
   "execution_count": 5,
   "id": "ef56dd84",
   "metadata": {},
   "outputs": [],
   "source": [
    "# follow up / no follow up\n",
    "yes = data[data['pcp_followup'] == 'Yes']\n",
    "no = data[data['pcp_followup'] == 'No']\n"
   ]
  },
  {
   "cell_type": "code",
   "execution_count": 6,
   "id": "9e04ca17",
   "metadata": {},
   "outputs": [
    {
     "name": "stdout",
     "output_type": "stream",
     "text": [
      "follow up mean age: 52.96078431372549\n",
      "no follow up mean age: 51.3\n",
      "Age p-value: 0.2808737545923621\n"
     ]
    }
   ],
   "source": [
    "# age\n",
    "\n",
    "yes_age = yes['age'].to_numpy()\n",
    "no_age = no['age'].to_numpy()\n",
    "t_stat, p_value = ttest_ind(yes_age, no_age, equal_var=True) \n",
    "print('follow up mean age:', yes_age.mean())\n",
    "print('no follow up mean age:', no_age.mean())\n",
    "print('Age p-value:', p_value)\n"
   ]
  },
  {
   "cell_type": "code",
   "execution_count": 7,
   "id": "29bf88f4",
   "metadata": {},
   "outputs": [
    {
     "name": "stdout",
     "output_type": "stream",
     "text": [
      "follow up male proportion: 0.593\n",
      "no follow up male proportion: 0.66\n",
      "Chi-squared test p-value: 0.4803451287200199\n"
     ]
    }
   ],
   "source": [
    "# sex\n",
    "# sex (1: female, 2: male, 99: unknown, 951: other)\n",
    "\n",
    "# male\n",
    "yes_male = yes[yes['sex'] == 'Male'].shape[0]\n",
    "no_male = no[no['sex'] == 'Male'].shape[0]\n",
    "print('follow up male proportion:', round(yes_male / yes.shape[0], 3))\n",
    "print('no follow up male proportion:', round(no_male / no.shape[0], 3))\n",
    "\n",
    "yes_other = yes.shape[0] - yes_male\n",
    "no_other = no.shape[0] - no_male\n",
    "\n",
    "sex = np.array([[yes_male, yes_other], \n",
    "                 [no_male, no_other]])  \n",
    "\n",
    "chi2, p, dof, expected = chi2_contingency(sex)\n",
    "print('Chi-squared test p-value:', p)"
   ]
  },
  {
   "cell_type": "code",
   "execution_count": 8,
   "id": "dc65995d",
   "metadata": {},
   "outputs": [
    {
     "name": "stdout",
     "output_type": "stream",
     "text": [
      "detailed_race\n",
      "Black       0.240196\n",
      "Other       0.063725\n",
      "Asian       0.058824\n",
      "Hispanic    0.318627\n",
      "White       0.318627\n",
      "Name: count, dtype: float64\n",
      "detailed_race\n",
      "Black       0.26\n",
      "Other       0.12\n",
      "Asian       0.06\n",
      "Hispanic    0.42\n",
      "White       0.14\n",
      "Name: count, dtype: float64\n",
      "Chi-squared test p-value: 0.11150481115755405\n"
     ]
    }
   ],
   "source": [
    "# race\n",
    "\n",
    "yes_detailed_race = yes['detailed_race'].value_counts()\n",
    "no_detailed_race = no['detailed_race'].value_counts()\n",
    "all_categories = set(yes_detailed_race.index).union(set(no_detailed_race.index))\n",
    "yes_aligned = yes_detailed_race.reindex(all_categories, fill_value=0)\n",
    "no_aligned = no_detailed_race.reindex(all_categories, fill_value=0)\n",
    "detailed_race = np.array([yes_aligned, no_aligned])\n",
    "print(yes_aligned / yes_aligned.sum())\n",
    "print(no_aligned / no_aligned.sum())\n",
    "chi2, p, dof, expected = chi2_contingency(detailed_race)\n",
    "print('Chi-squared test p-value:', p)"
   ]
  },
  {
   "cell_type": "code",
   "execution_count": 9,
   "id": "0ab0b1be",
   "metadata": {},
   "outputs": [
    {
     "name": "stdout",
     "output_type": "stream",
     "text": [
      "language\n",
      "Spanish    0.171569\n",
      "English    0.808824\n",
      "Other      0.019608\n",
      "Name: count, dtype: float64\n",
      "language\n",
      "Spanish    0.34\n",
      "English    0.60\n",
      "Other      0.06\n",
      "Name: count, dtype: float64\n",
      "Chi-squared test p-value: 0.006026807028311744\n"
     ]
    }
   ],
   "source": [
    "# language\n",
    "\n",
    "yes_language = yes['language'].value_counts()\n",
    "no_language = no['language'].value_counts()\n",
    "all_categories = set(yes_language.index).union(set(no_language.index))\n",
    "yes_aligned = yes_language.reindex(all_categories, fill_value=0)\n",
    "no_aligned = no_language.reindex(all_categories, fill_value=0)\n",
    "language = np.array([yes_aligned, no_aligned])\n",
    "print(yes_aligned / yes_aligned.sum())\n",
    "print(no_aligned / no_aligned.sum())\n",
    "chi2, p, dof, expected = chi2_contingency(language)\n",
    "print('Chi-squared test p-value:', p)"
   ]
  },
  {
   "cell_type": "code",
   "execution_count": 10,
   "id": "61df4c6c",
   "metadata": {},
   "outputs": [
    {
     "name": "stdout",
     "output_type": "stream",
     "text": [
      "insurance_type\n",
      "SELFPAY     0.049020\n",
      "MEDICAID    0.264706\n",
      "PRIVATE     0.529412\n",
      "OTHER       0.004902\n",
      "MEDICARE    0.151961\n",
      "Name: count, dtype: float64\n",
      "insurance_type\n",
      "SELFPAY     0.18\n",
      "MEDICAID    0.52\n",
      "PRIVATE     0.22\n",
      "OTHER       0.00\n",
      "MEDICARE    0.08\n",
      "Name: count, dtype: float64\n",
      "Chi-squared test p-value: 1.5896543265022498e-05\n"
     ]
    }
   ],
   "source": [
    "# insurance_type\n",
    "\n",
    "yes_insurance_type = yes['insurance_type'].value_counts()\n",
    "no_insurance_type = no['insurance_type'].value_counts()\n",
    "all_categories = set(yes_insurance_type.index).union(set(no_insurance_type.index))\n",
    "yes_aligned = yes_insurance_type.reindex(all_categories, fill_value=0)\n",
    "no_aligned = no_insurance_type.reindex(all_categories, fill_value=0)\n",
    "insurance_type = np.array([yes_aligned, no_aligned])\n",
    "print(yes_aligned / yes_aligned.sum())\n",
    "print(no_aligned / no_aligned.sum())\n",
    "chi2, p, dof, expected = chi2_contingency(insurance_type)\n",
    "print('Chi-squared test p-value:', p)"
   ]
  },
  {
   "cell_type": "code",
   "execution_count": 11,
   "id": "7c67a0ca",
   "metadata": {},
   "outputs": [
    {
     "name": "stdout",
     "output_type": "stream",
     "text": [
      "follow up mean bmi: 34.73151044791667\n",
      "no follow up mean bmi: 33.436521847826086\n",
      "bmi p-value: 0.28781223974297426\n"
     ]
    }
   ],
   "source": [
    "# bmi \n",
    "\n",
    "yes_bmi = yes['bmi'].dropna().to_numpy()\n",
    "no_bmi = no['bmi'].dropna().to_numpy()\n",
    "t_stat, p_value = ttest_ind(yes_bmi, no_bmi, equal_var=True) \n",
    "print('follow up mean bmi:', yes_bmi.mean())\n",
    "print('no follow up mean bmi:', no_bmi.mean())\n",
    "print('bmi p-value:', p_value)"
   ]
  },
  {
   "cell_type": "code",
   "execution_count": 12,
   "id": "17dbe0dd",
   "metadata": {},
   "outputs": [
    {
     "name": "stdout",
     "output_type": "stream",
     "text": [
      "follow up mean height: 5.569385474860335\n",
      "no follow up mean height: 5.534523809523809\n",
      "height p-value: 0.6129339194172966\n"
     ]
    }
   ],
   "source": [
    "# height \n",
    "\n",
    "yes_height = yes['height'].dropna().to_numpy()\n",
    "no_height = no['height'].dropna().to_numpy()\n",
    "t_stat, p_value = ttest_ind(yes_height, no_height, equal_var=True) \n",
    "print('follow up mean height:', yes_height.mean())\n",
    "print('no follow up mean height:', no_height.mean())\n",
    "print('height p-value:', p_value)"
   ]
  },
  {
   "cell_type": "code",
   "execution_count": 13,
   "id": "69d75319",
   "metadata": {},
   "outputs": [
    {
     "name": "stdout",
     "output_type": "stream",
     "text": [
      "follow up mean weight: 224.2537244897959\n",
      "no follow up mean weight: 210.07913043478263\n",
      "weight p-value: 0.13377476123175527\n"
     ]
    }
   ],
   "source": [
    "# weight \n",
    "\n",
    "yes_weight = yes['weight'].dropna().to_numpy()\n",
    "no_weight = no['weight'].dropna().to_numpy()\n",
    "t_stat, p_value = ttest_ind(yes_weight, no_weight, equal_var=True) \n",
    "print('follow up mean weight:', yes_weight.mean())\n",
    "print('no follow up mean weight:', no_weight.mean())\n",
    "print('weight p-value:', p_value)"
   ]
  },
  {
   "cell_type": "code",
   "execution_count": 14,
   "id": "2bcc0792",
   "metadata": {},
   "outputs": [
    {
     "name": "stdout",
     "output_type": "stream",
     "text": [
      "dm_on_pl\n",
      "Yes    0.04902\n",
      "No     0.95098\n",
      "Name: count, dtype: float64\n",
      "dm_on_pl\n",
      "Yes    0.1\n",
      "No     0.9\n",
      "Name: count, dtype: float64\n",
      "Chi-squared test p-value: 0.30030788194248437\n"
     ]
    }
   ],
   "source": [
    "# dm_on_pl\n",
    "\n",
    "yes_dm_on_pl = yes['dm_on_pl'].value_counts()\n",
    "no_dm_on_pl = no['dm_on_pl'].value_counts()\n",
    "all_categories = set(yes_dm_on_pl.index).union(set(no_dm_on_pl.index))\n",
    "yes_aligned = yes_dm_on_pl.reindex(all_categories, fill_value=0)\n",
    "no_aligned = no_dm_on_pl.reindex(all_categories, fill_value=0)\n",
    "dm_on_pl = np.array([yes_aligned, no_aligned])\n",
    "print(yes_aligned / yes_aligned.sum())\n",
    "print(no_aligned / no_aligned.sum())\n",
    "chi2, p, dof, expected = chi2_contingency(dm_on_pl)\n",
    "print('Chi-squared test p-value:', p)"
   ]
  },
  {
   "cell_type": "code",
   "execution_count": 15,
   "id": "4e8d141e",
   "metadata": {},
   "outputs": [
    {
     "name": "stdout",
     "output_type": "stream",
     "text": [
      "dm_on_pmh\n",
      "Yes    0.137255\n",
      "No     0.862745\n",
      "Name: count, dtype: float64\n",
      "dm_on_pmh\n",
      "Yes    0.2\n",
      "No     0.8\n",
      "Name: count, dtype: float64\n",
      "Chi-squared test p-value: 0.37156644803743766\n"
     ]
    }
   ],
   "source": [
    "# dm_on_pmh\n",
    "\n",
    "yes_dm_on_pmh = yes['dm_on_pmh'].value_counts()\n",
    "no_dm_on_pmh = no['dm_on_pmh'].value_counts()\n",
    "all_categories = set(yes_dm_on_pmh.index).union(set(no_dm_on_pmh.index))\n",
    "yes_aligned = yes_dm_on_pmh.reindex(all_categories, fill_value=0)\n",
    "no_aligned = no_dm_on_pmh.reindex(all_categories, fill_value=0)\n",
    "dm_on_pmh = np.array([yes_aligned, no_aligned])\n",
    "print(yes_aligned / yes_aligned.sum())\n",
    "print(no_aligned / no_aligned.sum())\n",
    "chi2, p, dof, expected = chi2_contingency(dm_on_pmh)\n",
    "print('Chi-squared test p-value:', p)"
   ]
  },
  {
   "cell_type": "code",
   "execution_count": 16,
   "id": "4af428a4",
   "metadata": {},
   "outputs": [
    {
     "name": "stdout",
     "output_type": "stream",
     "text": [
      "htn_on_pl\n",
      "Yes    0.151961\n",
      "No     0.848039\n",
      "Name: count, dtype: float64\n",
      "htn_on_pl\n",
      "Yes    0.14\n",
      "No     0.86\n",
      "Name: count, dtype: float64\n",
      "Chi-squared test p-value: 1.0\n"
     ]
    }
   ],
   "source": [
    "# htn_on_pl\n",
    "\n",
    "yes_htn_on_pl = yes['htn_on_pl'].value_counts()\n",
    "no_htn_on_pl = no['htn_on_pl'].value_counts()\n",
    "all_categories = set(yes_htn_on_pl.index).union(set(no_htn_on_pl.index))\n",
    "yes_aligned = yes_htn_on_pl.reindex(all_categories, fill_value=0)\n",
    "no_aligned = no_htn_on_pl.reindex(all_categories, fill_value=0)\n",
    "htn_on_pl = np.array([yes_aligned, no_aligned])\n",
    "print(yes_aligned / yes_aligned.sum())\n",
    "print(no_aligned / no_aligned.sum())\n",
    "chi2, p, dof, expected = chi2_contingency(htn_on_pl)\n",
    "print('Chi-squared test p-value:', p)"
   ]
  },
  {
   "cell_type": "code",
   "execution_count": 17,
   "id": "4f9d76ea",
   "metadata": {},
   "outputs": [
    {
     "name": "stdout",
     "output_type": "stream",
     "text": [
      "htn_on_pmh\n",
      "Yes    0.401961\n",
      "No     0.598039\n",
      "Name: count, dtype: float64\n",
      "htn_on_pmh\n",
      "Yes    0.26\n",
      "No     0.74\n",
      "Name: count, dtype: float64\n",
      "Chi-squared test p-value: 0.08986119717756094\n"
     ]
    }
   ],
   "source": [
    "# htn_on_pmh\n",
    "\n",
    "yes_htn_on_pmh = yes['htn_on_pmh'].value_counts()\n",
    "no_htn_on_pmh = no['htn_on_pmh'].value_counts()\n",
    "all_categories = set(yes_htn_on_pmh.index).union(set(no_htn_on_pmh.index))\n",
    "yes_aligned = yes_htn_on_pmh.reindex(all_categories, fill_value=0)\n",
    "no_aligned = no_htn_on_pmh.reindex(all_categories, fill_value=0)\n",
    "htn_on_pmh = np.array([yes_aligned, no_aligned])\n",
    "print(yes_aligned / yes_aligned.sum())\n",
    "print(no_aligned / no_aligned.sum())\n",
    "chi2, p, dof, expected = chi2_contingency(htn_on_pmh)\n",
    "print('Chi-squared test p-value:', p)"
   ]
  },
  {
   "cell_type": "code",
   "execution_count": 18,
   "id": "c140d5be",
   "metadata": {},
   "outputs": [
    {
     "name": "stdout",
     "output_type": "stream",
     "text": [
      "hld_on_pl\n",
      "Yes    0.088235\n",
      "No     0.911765\n",
      "Name: count, dtype: float64\n",
      "hld_on_pl\n",
      "Yes    0.06\n",
      "No     0.94\n",
      "Name: count, dtype: float64\n",
      "Chi-squared test p-value: 0.7164497400700032\n"
     ]
    }
   ],
   "source": [
    "# hld_on_pl\n",
    "\n",
    "yes_hld_on_pl = yes['hld_on_pl'].value_counts()\n",
    "no_hld_on_pl = no['hld_on_pl'].value_counts()\n",
    "all_categories = set(yes_hld_on_pl.index).union(set(no_hld_on_pl.index))\n",
    "yes_aligned = yes_hld_on_pl.reindex(all_categories, fill_value=0)\n",
    "no_aligned = no_hld_on_pl.reindex(all_categories, fill_value=0)\n",
    "hld_on_pl = np.array([yes_aligned, no_aligned])\n",
    "print(yes_aligned / yes_aligned.sum())\n",
    "print(no_aligned / no_aligned.sum())\n",
    "chi2, p, dof, expected = chi2_contingency(hld_on_pl)\n",
    "print('Chi-squared test p-value:', p)"
   ]
  },
  {
   "cell_type": "code",
   "execution_count": 19,
   "id": "57e0ac3b",
   "metadata": {},
   "outputs": [
    {
     "name": "stdout",
     "output_type": "stream",
     "text": [
      "hld_on_pmh\n",
      "Yes    0.20098\n",
      "No     0.79902\n",
      "Name: count, dtype: float64\n",
      "hld_on_pmh\n",
      "Yes    0.18\n",
      "No     0.82\n",
      "Name: count, dtype: float64\n",
      "Chi-squared test p-value: 0.8918715162468956\n"
     ]
    }
   ],
   "source": [
    "# hld_on_pmh\n",
    "\n",
    "yes_hld_on_pmh = yes['hld_on_pmh'].value_counts()\n",
    "no_hld_on_pmh = no['hld_on_pmh'].value_counts()\n",
    "all_categories = set(yes_hld_on_pmh.index).union(set(no_hld_on_pmh.index))\n",
    "yes_aligned = yes_hld_on_pmh.reindex(all_categories, fill_value=0)\n",
    "no_aligned = no_hld_on_pmh.reindex(all_categories, fill_value=0)\n",
    "hld_on_pmh = np.array([yes_aligned, no_aligned])\n",
    "print(yes_aligned / yes_aligned.sum())\n",
    "print(no_aligned / no_aligned.sum())\n",
    "chi2, p, dof, expected = chi2_contingency(hld_on_pmh)\n",
    "print('Chi-squared test p-value:', p)"
   ]
  },
  {
   "cell_type": "code",
   "execution_count": 20,
   "id": "cd6f7cf8",
   "metadata": {},
   "outputs": [
    {
     "name": "stdout",
     "output_type": "stream",
     "text": [
      "gdm_on_pl\n",
      "No    1.0\n",
      "Name: count, dtype: float64\n",
      "gdm_on_pl\n",
      "No    1.0\n",
      "Name: count, dtype: float64\n",
      "Chi-squared test p-value: 1.0\n"
     ]
    }
   ],
   "source": [
    "# gdm_on_pl\n",
    "\n",
    "yes_gdm_on_pl = yes['gdm_on_pl'].value_counts()\n",
    "no_gdm_on_pl = no['gdm_on_pl'].value_counts()\n",
    "all_categories = set(yes_gdm_on_pl.index).union(set(no_gdm_on_pl.index))\n",
    "yes_aligned = yes_gdm_on_pl.reindex(all_categories, fill_value=0)\n",
    "no_aligned = no_gdm_on_pl.reindex(all_categories, fill_value=0)\n",
    "gdm_on_pl = np.array([yes_aligned, no_aligned])\n",
    "print(yes_aligned / yes_aligned.sum())\n",
    "print(no_aligned / no_aligned.sum())\n",
    "chi2, p, dof, expected = chi2_contingency(gdm_on_pl)\n",
    "print('Chi-squared test p-value:', p)"
   ]
  },
  {
   "cell_type": "code",
   "execution_count": 21,
   "id": "c63a0c87",
   "metadata": {},
   "outputs": [
    {
     "name": "stdout",
     "output_type": "stream",
     "text": [
      "gdm_on_pmh\n",
      "No    1.0\n",
      "Name: count, dtype: float64\n",
      "gdm_on_pmh\n",
      "No    1.0\n",
      "Name: count, dtype: float64\n",
      "Chi-squared test p-value: 1.0\n"
     ]
    }
   ],
   "source": [
    "# gdm_on_pmh\n",
    "\n",
    "yes_gdm_on_pmh = yes['gdm_on_pmh'].value_counts()\n",
    "no_gdm_on_pmh = no['gdm_on_pmh'].value_counts()\n",
    "all_categories = set(yes_gdm_on_pmh.index).union(set(no_gdm_on_pmh.index))\n",
    "yes_aligned = yes_gdm_on_pmh.reindex(all_categories, fill_value=0)\n",
    "no_aligned = no_gdm_on_pmh.reindex(all_categories, fill_value=0)\n",
    "gdm_on_pmh = np.array([yes_aligned, no_aligned])\n",
    "print(yes_aligned / yes_aligned.sum())\n",
    "print(no_aligned / no_aligned.sum())\n",
    "chi2, p, dof, expected = chi2_contingency(gdm_on_pmh)\n",
    "print('Chi-squared test p-value:', p)"
   ]
  },
  {
   "cell_type": "code",
   "execution_count": 22,
   "id": "123e061d",
   "metadata": {},
   "outputs": [
    {
     "name": "stdout",
     "output_type": "stream",
     "text": [
      "pcos_on_pl\n",
      "No    1.0\n",
      "Name: count, dtype: float64\n",
      "pcos_on_pl\n",
      "No    1.0\n",
      "Name: count, dtype: float64\n",
      "Chi-squared test p-value: 1.0\n"
     ]
    }
   ],
   "source": [
    "# pcos_on_pl\n",
    "\n",
    "yes_pcos_on_pl = yes['pcos_on_pl'].value_counts()\n",
    "no_pcos_on_pl = no['pcos_on_pl'].value_counts()\n",
    "all_categories = set(yes_pcos_on_pl.index).union(set(no_pcos_on_pl.index))\n",
    "yes_aligned = yes_pcos_on_pl.reindex(all_categories, fill_value=0)\n",
    "no_aligned = no_pcos_on_pl.reindex(all_categories, fill_value=0)\n",
    "pcos_on_pl = np.array([yes_aligned, no_aligned])\n",
    "print(yes_aligned / yes_aligned.sum())\n",
    "print(no_aligned / no_aligned.sum())\n",
    "chi2, p, dof, expected = chi2_contingency(pcos_on_pl)\n",
    "print('Chi-squared test p-value:', p)"
   ]
  },
  {
   "cell_type": "code",
   "execution_count": 23,
   "id": "7cd572f6",
   "metadata": {},
   "outputs": [
    {
     "name": "stdout",
     "output_type": "stream",
     "text": [
      "pcos_on_pmh\n",
      "Yes    0.014706\n",
      "No     0.985294\n",
      "Name: count, dtype: float64\n",
      "pcos_on_pmh\n",
      "Yes    0.0\n",
      "No     1.0\n",
      "Name: count, dtype: float64\n",
      "Chi-squared test p-value: 0.8947741639643179\n"
     ]
    }
   ],
   "source": [
    "# pcos_on_pmh\n",
    "\n",
    "yes_pcos_on_pmh = yes['pcos_on_pmh'].value_counts()\n",
    "no_pcos_on_pmh = no['pcos_on_pmh'].value_counts()\n",
    "all_categories = set(yes_pcos_on_pmh.index).union(set(no_pcos_on_pmh.index))\n",
    "yes_aligned = yes_pcos_on_pmh.reindex(all_categories, fill_value=0)\n",
    "no_aligned = no_pcos_on_pmh.reindex(all_categories, fill_value=0)\n",
    "pcos_on_pmh = np.array([yes_aligned, no_aligned])\n",
    "print(yes_aligned / yes_aligned.sum())\n",
    "print(no_aligned / no_aligned.sum())\n",
    "chi2, p, dof, expected = chi2_contingency(pcos_on_pmh)\n",
    "print('Chi-squared test p-value:', p)"
   ]
  },
  {
   "cell_type": "code",
   "execution_count": 24,
   "id": "a6a84ebd",
   "metadata": {},
   "outputs": [
    {
     "name": "stdout",
     "output_type": "stream",
     "text": [
      "cad_on_pl\n",
      "Yes    0.02451\n",
      "No     0.97549\n",
      "Name: count, dtype: float64\n",
      "cad_on_pl\n",
      "Yes    0.02\n",
      "No     0.98\n",
      "Name: count, dtype: float64\n",
      "Chi-squared test p-value: 1.0\n"
     ]
    }
   ],
   "source": [
    "# cad_on_pl\n",
    "\n",
    "yes_cad_on_pl = yes['cad_on_pl'].value_counts()\n",
    "no_cad_on_pl = no['cad_on_pl'].value_counts()\n",
    "all_categories = set(yes_cad_on_pl.index).union(set(no_cad_on_pl.index))\n",
    "yes_aligned = yes_cad_on_pl.reindex(all_categories, fill_value=0)\n",
    "no_aligned = no_cad_on_pl.reindex(all_categories, fill_value=0)\n",
    "cad_on_pl = np.array([yes_aligned, no_aligned])\n",
    "print(yes_aligned / yes_aligned.sum())\n",
    "print(no_aligned / no_aligned.sum())\n",
    "chi2, p, dof, expected = chi2_contingency(cad_on_pl)\n",
    "print('Chi-squared test p-value:', p)"
   ]
  },
  {
   "cell_type": "code",
   "execution_count": 25,
   "id": "d448a000",
   "metadata": {},
   "outputs": [
    {
     "name": "stdout",
     "output_type": "stream",
     "text": [
      "cad_on_pmh\n",
      "Yes    0.02451\n",
      "No     0.97549\n",
      "Name: count, dtype: float64\n",
      "cad_on_pmh\n",
      "Yes    0.02\n",
      "No     0.98\n",
      "Name: count, dtype: float64\n",
      "Chi-squared test p-value: 1.0\n"
     ]
    }
   ],
   "source": [
    "# cad_on_pmh\n",
    "\n",
    "yes_cad_on_pmh = yes['cad_on_pmh'].value_counts()\n",
    "no_cad_on_pmh = no['cad_on_pmh'].value_counts()\n",
    "all_categories = set(yes_cad_on_pmh.index).union(set(no_cad_on_pmh.index))\n",
    "yes_aligned = yes_cad_on_pmh.reindex(all_categories, fill_value=0)\n",
    "no_aligned = no_cad_on_pmh.reindex(all_categories, fill_value=0)\n",
    "cad_on_pmh = np.array([yes_aligned, no_aligned])\n",
    "print(yes_aligned / yes_aligned.sum())\n",
    "print(no_aligned / no_aligned.sum())\n",
    "chi2, p, dof, expected = chi2_contingency(cad_on_pmh)\n",
    "print('Chi-squared test p-value:', p)"
   ]
  },
  {
   "cell_type": "code",
   "execution_count": 26,
   "id": "183d55ec",
   "metadata": {},
   "outputs": [
    {
     "name": "stdout",
     "output_type": "stream",
     "text": [
      "chf_on_pl\n",
      "Yes    0.004902\n",
      "No     0.995098\n",
      "Name: count, dtype: float64\n",
      "chf_on_pl\n",
      "Yes    0.0\n",
      "No     1.0\n",
      "Name: count, dtype: float64\n",
      "Chi-squared test p-value: 1.0\n"
     ]
    }
   ],
   "source": [
    "# chf_on_pl\n",
    "\n",
    "yes_chf_on_pl = yes['chf_on_pl'].value_counts()\n",
    "no_chf_on_pl = no['chf_on_pl'].value_counts()\n",
    "all_categories = set(yes_chf_on_pl.index).union(set(no_chf_on_pl.index))\n",
    "yes_aligned = yes_chf_on_pl.reindex(all_categories, fill_value=0)\n",
    "no_aligned = no_chf_on_pl.reindex(all_categories, fill_value=0)\n",
    "chf_on_pl = np.array([yes_aligned, no_aligned])\n",
    "print(yes_aligned / yes_aligned.sum())\n",
    "print(no_aligned / no_aligned.sum())\n",
    "chi2, p, dof, expected = chi2_contingency(chf_on_pl)\n",
    "print('Chi-squared test p-value:', p)"
   ]
  },
  {
   "cell_type": "code",
   "execution_count": 27,
   "id": "e30f2956",
   "metadata": {},
   "outputs": [
    {
     "name": "stdout",
     "output_type": "stream",
     "text": [
      "chf_on_pmh\n",
      "Yes    0.019608\n",
      "No     0.980392\n",
      "Name: count, dtype: float64\n",
      "chf_on_pmh\n",
      "Yes    0.02\n",
      "No     0.98\n",
      "Name: count, dtype: float64\n",
      "Chi-squared test p-value: 1.0\n"
     ]
    }
   ],
   "source": [
    "# chf_on_pmh\n",
    "\n",
    "yes_chf_on_pmh = yes['chf_on_pmh'].value_counts()\n",
    "no_chf_on_pmh = no['chf_on_pmh'].value_counts()\n",
    "all_categories = set(yes_chf_on_pmh.index).union(set(no_chf_on_pmh.index))\n",
    "yes_aligned = yes_chf_on_pmh.reindex(all_categories, fill_value=0)\n",
    "no_aligned = no_chf_on_pmh.reindex(all_categories, fill_value=0)\n",
    "chf_on_pmh = np.array([yes_aligned, no_aligned])\n",
    "print(yes_aligned / yes_aligned.sum())\n",
    "print(no_aligned / no_aligned.sum())\n",
    "chi2, p, dof, expected = chi2_contingency(chf_on_pmh)\n",
    "print('Chi-squared test p-value:', p)"
   ]
  },
  {
   "cell_type": "code",
   "execution_count": 28,
   "id": "b6e1fa2a",
   "metadata": {},
   "outputs": [
    {
     "name": "stdout",
     "output_type": "stream",
     "text": [
      "depression_on_pl\n",
      "Yes    0.029412\n",
      "No     0.970588\n",
      "Name: count, dtype: float64\n",
      "depression_on_pl\n",
      "Yes    0.0\n",
      "No     1.0\n",
      "Name: count, dtype: float64\n",
      "Chi-squared test p-value: 0.4791192144625801\n"
     ]
    }
   ],
   "source": [
    "# depression_on_pl\n",
    "\n",
    "yes_depression_on_pl = yes['depression_on_pl'].value_counts()\n",
    "no_depression_on_pl = no['depression_on_pl'].value_counts()\n",
    "all_categories = set(yes_depression_on_pl.index).union(set(no_depression_on_pl.index))\n",
    "yes_aligned = yes_depression_on_pl.reindex(all_categories, fill_value=0)\n",
    "no_aligned = no_depression_on_pl.reindex(all_categories, fill_value=0)\n",
    "depression_on_pl = np.array([yes_aligned, no_aligned])\n",
    "print(yes_aligned / yes_aligned.sum())\n",
    "print(no_aligned / no_aligned.sum())\n",
    "chi2, p, dof, expected = chi2_contingency(depression_on_pl)\n",
    "print('Chi-squared test p-value:', p)"
   ]
  },
  {
   "cell_type": "code",
   "execution_count": 29,
   "id": "55bccf2d",
   "metadata": {},
   "outputs": [
    {
     "name": "stdout",
     "output_type": "stream",
     "text": [
      "depression_on_pmh\n",
      "Yes    0.04902\n",
      "No     0.95098\n",
      "Name: count, dtype: float64\n",
      "depression_on_pmh\n",
      "Yes    0.0\n",
      "No     1.0\n",
      "Name: count, dtype: float64\n",
      "Chi-squared test p-value: 0.23341791348654384\n"
     ]
    }
   ],
   "source": [
    "# depression_on_pmh\n",
    "\n",
    "yes_depression_on_pmh = yes['depression_on_pmh'].value_counts()\n",
    "no_depression_on_pmh = no['depression_on_pmh'].value_counts()\n",
    "all_categories = set(yes_depression_on_pmh.index).union(set(no_depression_on_pmh.index))\n",
    "yes_aligned = yes_depression_on_pmh.reindex(all_categories, fill_value=0)\n",
    "no_aligned = no_depression_on_pmh.reindex(all_categories, fill_value=0)\n",
    "depression_on_pmh = np.array([yes_aligned, no_aligned])\n",
    "print(yes_aligned / yes_aligned.sum())\n",
    "print(no_aligned / no_aligned.sum())\n",
    "chi2, p, dof, expected = chi2_contingency(depression_on_pmh)\n",
    "print('Chi-squared test p-value:', p)"
   ]
  },
  {
   "cell_type": "code",
   "execution_count": 30,
   "id": "4c3f7e06",
   "metadata": {},
   "outputs": [
    {
     "name": "stdout",
     "output_type": "stream",
     "text": [
      "cva_on_pl\n",
      "No    1.0\n",
      "Name: count, dtype: float64\n",
      "cva_on_pl\n",
      "No    1.0\n",
      "Name: count, dtype: float64\n",
      "Chi-squared test p-value: 1.0\n"
     ]
    }
   ],
   "source": [
    "# cva_on_pl\n",
    "\n",
    "yes_cva_on_pl = yes['cva_on_pl'].value_counts()\n",
    "no_cva_on_pl = no['cva_on_pl'].value_counts()\n",
    "all_categories = set(yes_cva_on_pl.index).union(set(no_cva_on_pl.index))\n",
    "yes_aligned = yes_cva_on_pl.reindex(all_categories, fill_value=0)\n",
    "no_aligned = no_cva_on_pl.reindex(all_categories, fill_value=0)\n",
    "cva_on_pl = np.array([yes_aligned, no_aligned])\n",
    "print(yes_aligned / yes_aligned.sum())\n",
    "print(no_aligned / no_aligned.sum())\n",
    "chi2, p, dof, expected = chi2_contingency(cva_on_pl)\n",
    "print('Chi-squared test p-value:', p)"
   ]
  },
  {
   "cell_type": "code",
   "execution_count": 31,
   "id": "aec5856a",
   "metadata": {},
   "outputs": [
    {
     "name": "stdout",
     "output_type": "stream",
     "text": [
      "cva_on_pmh\n",
      "Yes    0.02451\n",
      "No     0.97549\n",
      "Name: count, dtype: float64\n",
      "cva_on_pmh\n",
      "Yes    0.0\n",
      "No     1.0\n",
      "Name: count, dtype: float64\n",
      "Chi-squared test p-value: 0.5822546410717091\n"
     ]
    }
   ],
   "source": [
    "# cva_on_pmh\n",
    "\n",
    "yes_cva_on_pmh = yes['cva_on_pmh'].value_counts()\n",
    "no_cva_on_pmh = no['cva_on_pmh'].value_counts()\n",
    "all_categories = set(yes_cva_on_pmh.index).union(set(no_cva_on_pmh.index))\n",
    "yes_aligned = yes_cva_on_pmh.reindex(all_categories, fill_value=0)\n",
    "no_aligned = no_cva_on_pmh.reindex(all_categories, fill_value=0)\n",
    "cva_on_pmh = np.array([yes_aligned, no_aligned])\n",
    "print(yes_aligned / yes_aligned.sum())\n",
    "print(no_aligned / no_aligned.sum())\n",
    "chi2, p, dof, expected = chi2_contingency(cva_on_pmh)\n",
    "print('Chi-squared test p-value:', p)"
   ]
  },
  {
   "cell_type": "code",
   "execution_count": 32,
   "id": "875286d1",
   "metadata": {},
   "outputs": [
    {
     "name": "stdout",
     "output_type": "stream",
     "text": [
      "follow up mean family_dm: 0.5063291139240507\n",
      "no follow up mean family_dm: 0.6666666666666666\n",
      "family_dm p-value: 0.48651850593482493\n"
     ]
    }
   ],
   "source": [
    "# family_dm\n",
    "\n",
    "yes_family_dm = yes['family_dm'].dropna().to_numpy()\n",
    "no_family_dm = no['family_dm'].dropna().to_numpy()\n",
    "t_stat, p_value = ttest_ind(yes_family_dm, no_family_dm, equal_var=True) \n",
    "print('follow up mean family_dm:', yes_family_dm.mean())\n",
    "print('no follow up mean family_dm:', no_family_dm.mean())\n",
    "print('family_dm p-value:', p_value)"
   ]
  },
  {
   "cell_type": "code",
   "execution_count": 33,
   "id": "cdb3dd01",
   "metadata": {},
   "outputs": [
    {
     "name": "stdout",
     "output_type": "stream",
     "text": [
      "tobacco_user\n",
      "Not Asked    0.042857\n",
      "Never        0.714286\n",
      "Yes          0.064286\n",
      "Quit         0.178571\n",
      "Name: count, dtype: float64\n",
      "tobacco_user\n",
      "Not Asked    0.000000\n",
      "Never        0.666667\n",
      "Yes          0.185185\n",
      "Quit         0.148148\n",
      "Name: count, dtype: float64\n",
      "Chi-squared test p-value: 0.15130170447230368\n"
     ]
    }
   ],
   "source": [
    "# tobacco_user\n",
    "\n",
    "yes_tobacco_user = yes['tobacco_user'].value_counts()\n",
    "no_tobacco_user = no['tobacco_user'].value_counts()\n",
    "all_categories = set(yes_tobacco_user.index).union(set(no_tobacco_user.index))\n",
    "yes_aligned = yes_tobacco_user.reindex(all_categories, fill_value=0)\n",
    "no_aligned = no_tobacco_user.reindex(all_categories, fill_value=0)\n",
    "tobacco_user = np.array([yes_aligned, no_aligned])\n",
    "print(yes_aligned / yes_aligned.sum())\n",
    "print(no_aligned / no_aligned.sum())\n",
    "chi2, p, dof, expected = chi2_contingency(tobacco_user)\n",
    "print('Chi-squared test p-value:', p)"
   ]
  },
  {
   "cell_type": "code",
   "execution_count": 34,
   "id": "d604db4d",
   "metadata": {},
   "outputs": [
    {
     "name": "stdout",
     "output_type": "stream",
     "text": [
      "dm_meds\n",
      "Yes    0.481675\n",
      "No     0.518325\n",
      "Name: count, dtype: float64\n",
      "dm_meds\n",
      "Yes    0.292683\n",
      "No     0.707317\n",
      "Name: count, dtype: float64\n",
      "Chi-squared test p-value: 0.041867998139034204\n"
     ]
    }
   ],
   "source": [
    "# dm_meds\n",
    "\n",
    "yes_dm_meds = yes['dm_meds'].value_counts()\n",
    "no_dm_meds = no['dm_meds'].value_counts()\n",
    "all_categories = set(yes_dm_meds.index).union(set(no_dm_meds.index))\n",
    "yes_aligned = yes_dm_meds.reindex(all_categories, fill_value=0)\n",
    "no_aligned = no_dm_meds.reindex(all_categories, fill_value=0)\n",
    "dm_meds = np.array([yes_aligned, no_aligned])\n",
    "print(yes_aligned / yes_aligned.sum())\n",
    "print(no_aligned / no_aligned.sum())\n",
    "chi2, p, dof, expected = chi2_contingency(dm_meds)\n",
    "print('Chi-squared test p-value:', p)"
   ]
  },
  {
   "cell_type": "code",
   "execution_count": 35,
   "id": "c980d9da",
   "metadata": {},
   "outputs": [
    {
     "name": "stdout",
     "output_type": "stream",
     "text": [
      "htn_meds\n",
      "Yes    0.225131\n",
      "No     0.774869\n",
      "Name: count, dtype: float64\n",
      "htn_meds\n",
      "Yes    0.097561\n",
      "No     0.902439\n",
      "Name: count, dtype: float64\n",
      "Chi-squared test p-value: 0.10312237098734389\n"
     ]
    }
   ],
   "source": [
    "# htn_meds\n",
    "\n",
    "yes_htn_meds = yes['htn_meds'].value_counts()\n",
    "no_htn_meds = no['htn_meds'].value_counts()\n",
    "all_categories = set(yes_htn_meds.index).union(set(no_htn_meds.index))\n",
    "yes_aligned = yes_htn_meds.reindex(all_categories, fill_value=0)\n",
    "no_aligned = no_htn_meds.reindex(all_categories, fill_value=0)\n",
    "htn_meds = np.array([yes_aligned, no_aligned])\n",
    "print(yes_aligned / yes_aligned.sum())\n",
    "print(no_aligned / no_aligned.sum())\n",
    "chi2, p, dof, expected = chi2_contingency(htn_meds)\n",
    "print('Chi-squared test p-value:', p)"
   ]
  },
  {
   "cell_type": "code",
   "execution_count": 36,
   "id": "aad9196c",
   "metadata": {},
   "outputs": [
    {
     "name": "stdout",
     "output_type": "stream",
     "text": [
      "statin_meds\n",
      "Yes    0.308901\n",
      "No     0.691099\n",
      "Name: count, dtype: float64\n",
      "statin_meds\n",
      "Yes    0.170732\n",
      "No     0.829268\n",
      "Name: count, dtype: float64\n",
      "Chi-squared test p-value: 0.11217391945443957\n"
     ]
    }
   ],
   "source": [
    "# statin_meds\n",
    "\n",
    "yes_statin_meds = yes['statin_meds'].value_counts()\n",
    "no_statin_meds = no['statin_meds'].value_counts()\n",
    "all_categories = set(yes_statin_meds.index).union(set(no_statin_meds.index))\n",
    "yes_aligned = yes_statin_meds.reindex(all_categories, fill_value=0)\n",
    "no_aligned = no_statin_meds.reindex(all_categories, fill_value=0)\n",
    "statin_meds = np.array([yes_aligned, no_aligned])\n",
    "print(yes_aligned / yes_aligned.sum())\n",
    "print(no_aligned / no_aligned.sum())\n",
    "chi2, p, dof, expected = chi2_contingency(statin_meds)\n",
    "print('Chi-squared test p-value:', p)"
   ]
  },
  {
   "cell_type": "code",
   "execution_count": 37,
   "id": "d2b84ca7",
   "metadata": {},
   "outputs": [
    {
     "name": "stdout",
     "output_type": "stream",
     "text": [
      "aspirin_meds\n",
      "Yes    0.157068\n",
      "No     0.842932\n",
      "Name: count, dtype: float64\n",
      "aspirin_meds\n",
      "Yes    0.097561\n",
      "No     0.902439\n",
      "Name: count, dtype: float64\n",
      "Chi-squared test p-value: 0.46280934939987206\n"
     ]
    }
   ],
   "source": [
    "# aspirin_meds\n",
    "\n",
    "yes_aspirin_meds = yes['aspirin_meds'].value_counts()\n",
    "no_aspirin_meds = no['aspirin_meds'].value_counts()\n",
    "all_categories = set(yes_aspirin_meds.index).union(set(no_aspirin_meds.index))\n",
    "yes_aligned = yes_aspirin_meds.reindex(all_categories, fill_value=0)\n",
    "no_aligned = no_aspirin_meds.reindex(all_categories, fill_value=0)\n",
    "aspirin_meds = np.array([yes_aligned, no_aligned])\n",
    "print(yes_aligned / yes_aligned.sum())\n",
    "print(no_aligned / no_aligned.sum())\n",
    "chi2, p, dof, expected = chi2_contingency(aspirin_meds)\n",
    "print('Chi-squared test p-value:', p)"
   ]
  },
  {
   "cell_type": "code",
   "execution_count": 38,
   "id": "1118ec8f",
   "metadata": {},
   "outputs": [
    {
     "name": "stdout",
     "output_type": "stream",
     "text": [
      "plavix_meds\n",
      "Yes    0.036649\n",
      "No     0.963351\n",
      "Name: count, dtype: float64\n",
      "plavix_meds\n",
      "Yes    0.02439\n",
      "No     0.97561\n",
      "Name: count, dtype: float64\n",
      "Chi-squared test p-value: 1.0\n"
     ]
    }
   ],
   "source": [
    "# plavix_meds\n",
    "\n",
    "yes_plavix_meds = yes['plavix_meds'].value_counts()\n",
    "no_plavix_meds = no['plavix_meds'].value_counts()\n",
    "all_categories = set(yes_plavix_meds.index).union(set(no_plavix_meds.index))\n",
    "yes_aligned = yes_plavix_meds.reindex(all_categories, fill_value=0)\n",
    "no_aligned = no_plavix_meds.reindex(all_categories, fill_value=0)\n",
    "plavix_meds = np.array([yes_aligned, no_aligned])\n",
    "print(yes_aligned / yes_aligned.sum())\n",
    "print(no_aligned / no_aligned.sum())\n",
    "chi2, p, dof, expected = chi2_contingency(plavix_meds)\n",
    "print('Chi-squared test p-value:', p)"
   ]
  },
  {
   "cell_type": "code",
   "execution_count": 39,
   "id": "53453c27",
   "metadata": {},
   "outputs": [
    {
     "name": "stdout",
     "output_type": "stream",
     "text": [
      "lasix_meds\n",
      "Yes    0.057592\n",
      "No     0.942408\n",
      "Name: count, dtype: float64\n",
      "lasix_meds\n",
      "Yes    0.0\n",
      "No     1.0\n",
      "Name: count, dtype: float64\n",
      "Chi-squared test p-value: 0.24221581489585198\n"
     ]
    }
   ],
   "source": [
    "# lasix_meds\n",
    "\n",
    "yes_lasix_meds = yes['lasix_meds'].value_counts()\n",
    "no_lasix_meds = no['lasix_meds'].value_counts()\n",
    "all_categories = set(yes_lasix_meds.index).union(set(no_lasix_meds.index))\n",
    "yes_aligned = yes_lasix_meds.reindex(all_categories, fill_value=0)\n",
    "no_aligned = no_lasix_meds.reindex(all_categories, fill_value=0)\n",
    "lasix_meds = np.array([yes_aligned, no_aligned])\n",
    "print(yes_aligned / yes_aligned.sum())\n",
    "print(no_aligned / no_aligned.sum())\n",
    "chi2, p, dof, expected = chi2_contingency(lasix_meds)\n",
    "print('Chi-squared test p-value:', p)"
   ]
  },
  {
   "cell_type": "code",
   "execution_count": 40,
   "id": "8126320b",
   "metadata": {},
   "outputs": [
    {
     "name": "stdout",
     "output_type": "stream",
     "text": [
      "disposition\n",
      "Discharge                     0.514706\n",
      "LWBS after Triage             0.004902\n",
      "Admit                         0.450980\n",
      "AMA                           0.024510\n",
      "Transfer to Procedure Area    0.004902\n",
      "Name: count, dtype: float64\n",
      "disposition\n",
      "Discharge                     0.72\n",
      "LWBS after Triage             0.00\n",
      "Admit                         0.26\n",
      "AMA                           0.00\n",
      "Transfer to Procedure Area    0.02\n",
      "Name: count, dtype: float64\n",
      "Chi-squared test p-value: 0.055712501704334734\n"
     ]
    }
   ],
   "source": [
    "# disposition\n",
    "\n",
    "yes_disposition = yes['disposition'].value_counts()\n",
    "no_disposition = no['disposition'].value_counts()\n",
    "all_categories = set(yes_disposition.index).union(set(no_disposition.index))\n",
    "yes_aligned = yes_disposition.reindex(all_categories, fill_value=0)\n",
    "no_aligned = no_disposition.reindex(all_categories, fill_value=0)\n",
    "disposition = np.array([yes_aligned, no_aligned])\n",
    "print(yes_aligned / yes_aligned.sum())\n",
    "print(no_aligned / no_aligned.sum())\n",
    "chi2, p, dof, expected = chi2_contingency(disposition)\n",
    "print('Chi-squared test p-value:', p)"
   ]
  },
  {
   "cell_type": "code",
   "execution_count": 41,
   "id": "e770d760",
   "metadata": {},
   "outputs": [
    {
     "name": "stdout",
     "output_type": "stream",
     "text": [
      "ed_name\n",
      "NYU COBBLE HILL    0.147059\n",
      "NYU BROOKLYN       0.279412\n",
      "NYU MANHATTAN      0.200980\n",
      "NYU LONG ISLAND    0.372549\n",
      "Name: count, dtype: float64\n",
      "ed_name\n",
      "NYU COBBLE HILL    0.04\n",
      "NYU BROOKLYN       0.48\n",
      "NYU MANHATTAN      0.18\n",
      "NYU LONG ISLAND    0.30\n",
      "Name: count, dtype: float64\n",
      "Chi-squared test p-value: 0.02442103140024817\n"
     ]
    }
   ],
   "source": [
    "# ed_name\n",
    "\n",
    "yes_ed_name = yes['ed_name'].value_counts()\n",
    "no_ed_name = no['ed_name'].value_counts()\n",
    "all_categories = set(yes_ed_name.index).union(set(no_ed_name.index))\n",
    "yes_aligned = yes_ed_name.reindex(all_categories, fill_value=0)\n",
    "no_aligned = no_ed_name.reindex(all_categories, fill_value=0)\n",
    "ed_name = np.array([yes_aligned, no_aligned])\n",
    "print(yes_aligned / yes_aligned.sum())\n",
    "print(no_aligned / no_aligned.sum())\n",
    "chi2, p, dof, expected = chi2_contingency(ed_name)\n",
    "print('Chi-squared test p-value:', p)"
   ]
  },
  {
   "cell_type": "code",
   "execution_count": 42,
   "id": "edb6dfe8",
   "metadata": {},
   "outputs": [
    {
     "name": "stdout",
     "output_type": "stream",
     "text": [
      "follow up mean sbp_1st: 148.67156862745097\n",
      "no follow up mean sbp_1st: 143.5\n",
      "sbp_1st p-value: 0.1584314128077748\n"
     ]
    }
   ],
   "source": [
    "# sbp_1st\n",
    "\n",
    "yes_sbp_1st = yes['sbp_1st'].dropna().to_numpy()\n",
    "no_sbp_1st = no['sbp_1st'].dropna().to_numpy()\n",
    "t_stat, p_value = ttest_ind(yes_sbp_1st, no_sbp_1st, equal_var=True) \n",
    "print('follow up mean sbp_1st:', yes_sbp_1st.mean())\n",
    "print('no follow up mean sbp_1st:', no_sbp_1st.mean())\n",
    "print('sbp_1st p-value:', p_value)"
   ]
  },
  {
   "cell_type": "code",
   "execution_count": 43,
   "id": "a7582b26",
   "metadata": {},
   "outputs": [
    {
     "name": "stdout",
     "output_type": "stream",
     "text": [
      "follow up mean dbp_1st: 88.51470588235294\n",
      "no follow up mean dbp_1st: 84.24\n",
      "dbp_1st p-value: 0.0804199089878003\n"
     ]
    }
   ],
   "source": [
    "# dbp_1st\n",
    "\n",
    "yes_dbp_1st = yes['dbp_1st'].dropna().to_numpy()\n",
    "no_dbp_1st = no['dbp_1st'].dropna().to_numpy()\n",
    "t_stat, p_value = ttest_ind(yes_dbp_1st, no_dbp_1st, equal_var=True) \n",
    "print('follow up mean dbp_1st:', yes_dbp_1st.mean())\n",
    "print('no follow up mean dbp_1st:', no_dbp_1st.mean())\n",
    "print('dbp_1st p-value:', p_value)"
   ]
  },
  {
   "cell_type": "code",
   "execution_count": 44,
   "id": "1fce268b",
   "metadata": {},
   "outputs": [
    {
     "name": "stdout",
     "output_type": "stream",
     "text": [
      "bpa_response\n",
      "Single Order                    0.893443\n",
      "Acknowledge/Override Warning    0.106557\n",
      "Name: count, dtype: float64\n",
      "bpa_response\n",
      "Single Order                    0.814815\n",
      "Acknowledge/Override Warning    0.185185\n",
      "Name: count, dtype: float64\n",
      "Chi-squared test p-value: 0.41904297839249594\n"
     ]
    }
   ],
   "source": [
    "# bpa_response\n",
    "\n",
    "yes_bpa_response = yes['bpa_response'].value_counts()\n",
    "no_bpa_response = no['bpa_response'].value_counts()\n",
    "all_categories = set(yes_bpa_response.index).union(set(no_bpa_response.index))\n",
    "yes_aligned = yes_bpa_response.reindex(all_categories, fill_value=0)\n",
    "no_aligned = no_bpa_response.reindex(all_categories, fill_value=0)\n",
    "bpa_response = np.array([yes_aligned, no_aligned])\n",
    "print(yes_aligned / yes_aligned.sum())\n",
    "print(no_aligned / no_aligned.sum())\n",
    "chi2, p, dof, expected = chi2_contingency(bpa_response)\n",
    "print('Chi-squared test p-value:', p)"
   ]
  },
  {
   "cell_type": "code",
   "execution_count": 45,
   "id": "696bf7d8",
   "metadata": {},
   "outputs": [
    {
     "name": "stdout",
     "output_type": "stream",
     "text": [
      "primary_care\n",
      "YES    0.536145\n",
      "NO     0.463855\n",
      "Name: count, dtype: float64\n",
      "primary_care\n",
      "YES    0.578947\n",
      "NO     0.421053\n",
      "Name: count, dtype: float64\n",
      "Chi-squared test p-value: 0.7661953314069995\n"
     ]
    }
   ],
   "source": [
    "# primary_care\n",
    "\n",
    "yes_primary_care = yes['primary_care'].value_counts()\n",
    "no_primary_care = no['primary_care'].value_counts()\n",
    "all_categories = set(yes_primary_care.index).union(set(no_primary_care.index))\n",
    "yes_aligned = yes_primary_care.reindex(all_categories, fill_value=0)\n",
    "no_aligned = no_primary_care.reindex(all_categories, fill_value=0)\n",
    "primary_care = np.array([yes_aligned, no_aligned])\n",
    "print(yes_aligned / yes_aligned.sum())\n",
    "print(no_aligned / no_aligned.sum())\n",
    "chi2, p, dof, expected = chi2_contingency(primary_care)\n",
    "print('Chi-squared test p-value:', p)"
   ]
  },
  {
   "cell_type": "code",
   "execution_count": 46,
   "id": "03c64c60",
   "metadata": {},
   "outputs": [
    {
     "name": "stdout",
     "output_type": "stream",
     "text": [
      "follow up mean hba1c: 9.099375008749998\n",
      "no follow up mean hba1c: 8.897142865714287\n",
      "hba1c p-value: 0.6745409245576235\n"
     ]
    }
   ],
   "source": [
    "# hba1c\n",
    "\n",
    "yes_hba1c = yes['hba1c'].dropna().to_numpy()\n",
    "no_hba1c = no['hba1c'].dropna().to_numpy()\n",
    "t_stat, p_value = ttest_ind(yes_hba1c, no_hba1c, equal_var=True) \n",
    "print('follow up mean hba1c:', yes_hba1c.mean())\n",
    "print('no follow up mean hba1c:', no_hba1c.mean())\n",
    "print('hba1c p-value:', p_value)"
   ]
  },
  {
   "cell_type": "code",
   "execution_count": 47,
   "id": "b7831ef3",
   "metadata": {},
   "outputs": [
    {
     "name": "stdout",
     "output_type": "stream",
     "text": [
      "follow up mean poct_gluc: 320.5061728395062\n",
      "no follow up mean poct_gluc: 258.85\n",
      "poct_gluc p-value: 0.08860960289610122\n"
     ]
    }
   ],
   "source": [
    "# poct_gluc\n",
    "\n",
    "yes_poct_gluc = yes['poct_gluc'].dropna().to_numpy()\n",
    "no_poct_gluc = no['poct_gluc'].dropna().to_numpy()\n",
    "t_stat, p_value = ttest_ind(yes_poct_gluc, no_poct_gluc, equal_var=True) \n",
    "print('follow up mean poct_gluc:', yes_poct_gluc.mean())\n",
    "print('no follow up mean poct_gluc:', no_poct_gluc.mean())\n",
    "print('poct_gluc p-value:', p_value)"
   ]
  },
  {
   "cell_type": "code",
   "execution_count": 48,
   "id": "694a3400",
   "metadata": {},
   "outputs": [
    {
     "name": "stdout",
     "output_type": "stream",
     "text": [
      "follow up mean chem_gluc: 258.4175824175824\n",
      "no follow up mean chem_gluc: 250.71794871794873\n",
      "chem_gluc p-value: 0.807035620738979\n"
     ]
    }
   ],
   "source": [
    "# chem_gluc\n",
    "\n",
    "yes_chem_gluc = yes['chem_gluc'].dropna().to_numpy()\n",
    "no_chem_gluc = no['chem_gluc'].dropna().to_numpy()\n",
    "t_stat, p_value = ttest_ind(yes_chem_gluc, no_chem_gluc, equal_var=True) \n",
    "print('follow up mean chem_gluc:', yes_chem_gluc.mean())\n",
    "print('no follow up mean chem_gluc:', no_chem_gluc.mean())\n",
    "print('chem_gluc p-value:', p_value)"
   ]
  },
  {
   "cell_type": "code",
   "execution_count": 49,
   "id": "8bac9e29",
   "metadata": {},
   "outputs": [
    {
     "name": "stdout",
     "output_type": "stream",
     "text": [
      "follow up mean chem_creat: 1.10142857510989\n",
      "no follow up mean chem_creat: 1.107948708717949\n",
      "chem_creat p-value: 0.9485599549035529\n"
     ]
    }
   ],
   "source": [
    "# chem_creat\n",
    "\n",
    "yes_chem_creat = yes['chem_creat'].dropna().to_numpy()\n",
    "no_chem_creat = no['chem_creat'].dropna().to_numpy()\n",
    "t_stat, p_value = ttest_ind(yes_chem_creat, no_chem_creat, equal_var=True) \n",
    "print('follow up mean chem_creat:', yes_chem_creat.mean())\n",
    "print('no follow up mean chem_creat:', no_chem_creat.mean())\n",
    "print('chem_creat p-value:', p_value)"
   ]
  },
  {
   "cell_type": "code",
   "execution_count": 50,
   "id": "9b4a0c01",
   "metadata": {},
   "outputs": [
    {
     "name": "stdout",
     "output_type": "stream",
     "text": [
      "visit_type\n",
      "Emergency               0.551724\n",
      "Specialty Outpatient    0.034483\n",
      "Hospitalization         0.413793\n",
      "Name: count, dtype: float64\n",
      "visit_type\n",
      "Emergency               0.60\n",
      "Specialty Outpatient    0.02\n",
      "Hospitalization         0.38\n",
      "Name: count, dtype: float64\n",
      "Chi-squared test p-value: 0.761381781370938\n"
     ]
    }
   ],
   "source": [
    "# visit_type\n",
    "\n",
    "yes_visit_type = yes['visit_type'].value_counts()\n",
    "no_visit_type = no['visit_type'].value_counts()\n",
    "all_categories = set(yes_visit_type.index).union(set(no_visit_type.index))\n",
    "yes_aligned = yes_visit_type.reindex(all_categories, fill_value=0)\n",
    "no_aligned = no_visit_type.reindex(all_categories, fill_value=0)\n",
    "visit_type = np.array([yes_aligned, no_aligned])\n",
    "print(yes_aligned / yes_aligned.sum())\n",
    "print(no_aligned / no_aligned.sum())\n",
    "chi2, p, dof, expected = chi2_contingency(visit_type)\n",
    "print('Chi-squared test p-value:', p)"
   ]
  },
  {
   "cell_type": "code",
   "execution_count": 51,
   "id": "caca733f",
   "metadata": {},
   "outputs": [
    {
     "name": "stdout",
     "output_type": "stream",
     "text": [
      "follow up mean max_sbp: 155.7029702970297\n",
      "no follow up mean max_sbp: 148.1\n",
      "max_sbp p-value: 0.034169874637864465\n"
     ]
    }
   ],
   "source": [
    "# max_sbp\n",
    "\n",
    "yes_max_sbp = yes['max_sbp'].dropna().to_numpy()\n",
    "no_max_sbp = no['max_sbp'].dropna().to_numpy()\n",
    "t_stat, p_value = ttest_ind(yes_max_sbp, no_max_sbp, equal_var=True) \n",
    "print('follow up mean max_sbp:', yes_max_sbp.mean())\n",
    "print('no follow up mean max_sbp:', no_max_sbp.mean())\n",
    "print('max_sbp p-value:', p_value)"
   ]
  },
  {
   "cell_type": "code",
   "execution_count": 52,
   "id": "9f386324",
   "metadata": {},
   "outputs": [
    {
     "name": "stdout",
     "output_type": "stream",
     "text": [
      "follow up mean min_sbp: 132.12871287128712\n",
      "no follow up mean min_sbp: 130.66\n",
      "min_sbp p-value: 0.6535218977649286\n"
     ]
    }
   ],
   "source": [
    "# min_sbp\n",
    "\n",
    "yes_min_sbp = yes['min_sbp'].dropna().to_numpy()\n",
    "no_min_sbp = no['min_sbp'].dropna().to_numpy()\n",
    "t_stat, p_value = ttest_ind(yes_min_sbp, no_min_sbp, equal_var=True) \n",
    "print('follow up mean min_sbp:', yes_min_sbp.mean())\n",
    "print('no follow up mean min_sbp:', no_min_sbp.mean())\n",
    "print('min_sbp p-value:', p_value)"
   ]
  },
  {
   "cell_type": "code",
   "execution_count": 53,
   "id": "2fff448a",
   "metadata": {},
   "outputs": [
    {
     "name": "stdout",
     "output_type": "stream",
     "text": [
      "follow up mean avg_sbp: 143.98430693069307\n",
      "no follow up mean avg_sbp: 138.4612\n",
      "avg_sbp p-value: 0.07501347126207704\n"
     ]
    }
   ],
   "source": [
    "# avg_sbp\n",
    "\n",
    "yes_avg_sbp = yes['avg_sbp'].dropna().to_numpy()\n",
    "no_avg_sbp = no['avg_sbp'].dropna().to_numpy()\n",
    "t_stat, p_value = ttest_ind(yes_avg_sbp, no_avg_sbp, equal_var=True) \n",
    "print('follow up mean avg_sbp:', yes_avg_sbp.mean())\n",
    "print('no follow up mean avg_sbp:', no_avg_sbp.mean())\n",
    "print('avg_sbp p-value:', p_value)"
   ]
  },
  {
   "cell_type": "code",
   "execution_count": 54,
   "id": "004af3b0",
   "metadata": {},
   "outputs": [
    {
     "name": "stdout",
     "output_type": "stream",
     "text": [
      "follow up mean max_dbp: 93.74752475247524\n",
      "no follow up mean max_dbp: 89.82\n",
      "max_dbp p-value: 0.10284313447951746\n"
     ]
    }
   ],
   "source": [
    "# max_dbp\n",
    "\n",
    "yes_max_dbp = yes['max_dbp'].dropna().to_numpy()\n",
    "no_max_dbp = no['max_dbp'].dropna().to_numpy()\n",
    "t_stat, p_value = ttest_ind(yes_max_dbp, no_max_dbp, equal_var=True) \n",
    "print('follow up mean max_dbp:', yes_max_dbp.mean())\n",
    "print('no follow up mean max_dbp:', no_max_dbp.mean())\n",
    "print('max_dbp p-value:', p_value)"
   ]
  },
  {
   "cell_type": "code",
   "execution_count": 55,
   "id": "698a4cf0",
   "metadata": {},
   "outputs": [
    {
     "name": "stdout",
     "output_type": "stream",
     "text": [
      "follow up mean min_dbp: 77.16831683168317\n",
      "no follow up mean min_dbp: 76.1\n",
      "min_dbp p-value: 0.6196873180429204\n"
     ]
    }
   ],
   "source": [
    "# min_dbp\n",
    "\n",
    "yes_min_dbp = yes['min_dbp'].dropna().to_numpy()\n",
    "no_min_dbp = no['min_dbp'].dropna().to_numpy()\n",
    "t_stat, p_value = ttest_ind(yes_min_dbp, no_min_dbp, equal_var=True) \n",
    "print('follow up mean min_dbp:', yes_min_dbp.mean())\n",
    "print('no follow up mean min_dbp:', no_min_dbp.mean())\n",
    "print('min_dbp p-value:', p_value)"
   ]
  },
  {
   "cell_type": "code",
   "execution_count": 56,
   "id": "749d1b99",
   "metadata": {},
   "outputs": [
    {
     "name": "stdout",
     "output_type": "stream",
     "text": [
      "follow up mean avg_dbp: 85.23678217821784\n",
      "no follow up mean avg_dbp: 82.8936\n",
      "avg_dbp p-value: 0.23196670936037644\n"
     ]
    }
   ],
   "source": [
    "# avg_dbp\n",
    "\n",
    "yes_avg_dbp = yes['avg_dbp'].dropna().to_numpy()\n",
    "no_avg_dbp = no['avg_dbp'].dropna().to_numpy()\n",
    "t_stat, p_value = ttest_ind(yes_avg_dbp, no_avg_dbp, equal_var=True) \n",
    "print('follow up mean avg_dbp:', yes_avg_dbp.mean())\n",
    "print('no follow up mean avg_dbp:', no_avg_dbp.mean())\n",
    "print('avg_dbp p-value:', p_value)"
   ]
  },
  {
   "cell_type": "code",
   "execution_count": 57,
   "id": "59ddaff5",
   "metadata": {},
   "outputs": [
    {
     "name": "stdout",
     "output_type": "stream",
     "text": [
      "follow up mean max_diff: 68.47524752475248\n",
      "no follow up mean max_diff: 64.74\n",
      "max_diff p-value: 0.198455715480667\n"
     ]
    }
   ],
   "source": [
    "# max_diff\n",
    "\n",
    "yes_max_diff = yes['max_diff'].dropna().to_numpy()\n",
    "no_max_diff = no['max_diff'].dropna().to_numpy()\n",
    "t_stat, p_value = ttest_ind(yes_max_diff, no_max_diff, equal_var=True) \n",
    "print('follow up mean max_diff:', yes_max_diff.mean())\n",
    "print('no follow up mean max_diff:', no_max_diff.mean())\n",
    "print('max_diff p-value:', p_value)"
   ]
  },
  {
   "cell_type": "code",
   "execution_count": 58,
   "id": "d391e46f",
   "metadata": {},
   "outputs": [
    {
     "name": "stdout",
     "output_type": "stream",
     "text": [
      "follow up mean avg_diff: 58.74777227722772\n",
      "no follow up mean avg_diff: 55.567\n",
      "avg_diff p-value: 0.18371706774609348\n"
     ]
    }
   ],
   "source": [
    "# avg_diff\n",
    "\n",
    "yes_avg_diff = yes['avg_diff'].dropna().to_numpy()\n",
    "no_avg_diff = no['avg_diff'].dropna().to_numpy()\n",
    "t_stat, p_value = ttest_ind(yes_avg_diff, no_avg_diff, equal_var=True) \n",
    "print('follow up mean avg_diff:', yes_avg_diff.mean())\n",
    "print('no follow up mean avg_diff:', no_avg_diff.mean())\n",
    "print('avg_diff p-value:', p_value)"
   ]
  },
  {
   "cell_type": "code",
   "execution_count": 59,
   "id": "47c08160",
   "metadata": {},
   "outputs": [
    {
     "name": "stdout",
     "output_type": "stream",
     "text": [
      "follow up mean avg_value_CHOLESTEROL_TOTAL: 215.92307692307693\n",
      "no follow up mean avg_value_CHOLESTEROL_TOTAL: 132.5\n",
      "avg_value_CHOLESTEROL_TOTAL p-value: 0.0820628403220119\n"
     ]
    }
   ],
   "source": [
    "# avg_value_CHOLESTEROL_TOTAL\n",
    "\n",
    "yes_avg_value_CHOLESTEROL_TOTAL = yes['avg_value_CHOLESTEROL, TOTAL'].dropna().to_numpy()\n",
    "no_avg_value_CHOLESTEROL_TOTAL = no['avg_value_CHOLESTEROL, TOTAL'].dropna().to_numpy()\n",
    "t_stat, p_value = ttest_ind(yes_avg_value_CHOLESTEROL_TOTAL, no_avg_value_CHOLESTEROL_TOTAL, equal_var=True) \n",
    "print('follow up mean avg_value_CHOLESTEROL_TOTAL:', yes_avg_value_CHOLESTEROL_TOTAL.mean())\n",
    "print('no follow up mean avg_value_CHOLESTEROL_TOTAL:', no_avg_value_CHOLESTEROL_TOTAL.mean())\n",
    "print('avg_value_CHOLESTEROL_TOTAL p-value:', p_value)"
   ]
  },
  {
   "cell_type": "code",
   "execution_count": 60,
   "id": "ccca4f3f",
   "metadata": {},
   "outputs": [
    {
     "name": "stdout",
     "output_type": "stream",
     "text": [
      "follow up mean max_value_CHOLESTEROL_TOTAL: 215.92307692307693\n",
      "no follow up mean max_value_CHOLESTEROL_TOTAL: 132.5\n",
      "max_value_CHOLESTEROL_TOTAL p-value: 0.0820628403220119\n"
     ]
    }
   ],
   "source": [
    "# max_value_CHOLESTEROL_TOTAL\n",
    "\n",
    "yes_max_value_CHOLESTEROL_TOTAL = yes['max_value_CHOLESTEROL, TOTAL'].dropna().to_numpy()\n",
    "no_max_value_CHOLESTEROL_TOTAL = no['max_value_CHOLESTEROL, TOTAL'].dropna().to_numpy()\n",
    "t_stat, p_value = ttest_ind(yes_max_value_CHOLESTEROL_TOTAL, no_max_value_CHOLESTEROL_TOTAL, equal_var=True) \n",
    "print('follow up mean max_value_CHOLESTEROL_TOTAL:', yes_max_value_CHOLESTEROL_TOTAL.mean())\n",
    "print('no follow up mean max_value_CHOLESTEROL_TOTAL:', no_max_value_CHOLESTEROL_TOTAL.mean())\n",
    "print('max_value_CHOLESTEROL_TOTAL p-value:', p_value)"
   ]
  },
  {
   "cell_type": "code",
   "execution_count": 61,
   "id": "a472ff02",
   "metadata": {},
   "outputs": [
    {
     "name": "stdout",
     "output_type": "stream",
     "text": [
      "follow up mean avg_value_CREATININE: 1.0690329909722223\n",
      "no follow up mean avg_value_CREATININE: 1.1040476180612246\n",
      "avg_value_CREATININE p-value: 0.6796224627916438\n"
     ]
    }
   ],
   "source": [
    "# avg_value_CREATININE\n",
    "\n",
    "yes_avg_value_CREATININE = yes['avg_value_CREATININE'].dropna().to_numpy()\n",
    "no_avg_value_CREATININE = no['avg_value_CREATININE'].dropna().to_numpy()\n",
    "t_stat, p_value = ttest_ind(yes_avg_value_CREATININE, no_avg_value_CREATININE, equal_var=True) \n",
    "print('follow up mean avg_value_CREATININE:', yes_avg_value_CREATININE.mean())\n",
    "print('no follow up mean avg_value_CREATININE:', no_avg_value_CREATININE.mean())\n",
    "print('avg_value_CREATININE p-value:', p_value)"
   ]
  },
  {
   "cell_type": "code",
   "execution_count": 62,
   "id": "04911669",
   "metadata": {},
   "outputs": [
    {
     "name": "stdout",
     "output_type": "stream",
     "text": [
      "follow up mean max_value_CREATININE: 1.09369792203125\n",
      "no follow up mean max_value_CREATININE: 1.1228571379591836\n",
      "max_value_CREATININE p-value: 0.7429907032285665\n"
     ]
    }
   ],
   "source": [
    "# max_value_CREATININE\n",
    "\n",
    "yes_max_value_CREATININE = yes['max_value_CREATININE'].dropna().to_numpy()\n",
    "no_max_value_CREATININE = no['max_value_CREATININE'].dropna().to_numpy()\n",
    "t_stat, p_value = ttest_ind(yes_max_value_CREATININE, no_max_value_CREATININE, equal_var=True) \n",
    "print('follow up mean max_value_CREATININE:', yes_max_value_CREATININE.mean())\n",
    "print('no follow up mean max_value_CREATININE:', no_max_value_CREATININE.mean())\n",
    "print('max_value_CREATININE p-value:', p_value)"
   ]
  },
  {
   "cell_type": "code",
   "execution_count": 63,
   "id": "5223f6d8",
   "metadata": {},
   "outputs": [
    {
     "name": "stdout",
     "output_type": "stream",
     "text": [
      "follow up mean avg_value_GLUCOSE: 252.5509548611111\n",
      "no follow up mean avg_value_GLUCOSE: 253.5408163265306\n",
      "avg_value_GLUCOSE p-value: 0.96706861476623\n"
     ]
    }
   ],
   "source": [
    "# avg_value_GLUCOSE\n",
    "\n",
    "yes_avg_value_GLUCOSE = yes['avg_value_GLUCOSE'].dropna().to_numpy()\n",
    "no_avg_value_GLUCOSE = no['avg_value_GLUCOSE'].dropna().to_numpy()\n",
    "t_stat, p_value = ttest_ind(yes_avg_value_GLUCOSE, no_avg_value_GLUCOSE, equal_var=True) \n",
    "print('follow up mean avg_value_GLUCOSE:', yes_avg_value_GLUCOSE.mean())\n",
    "print('no follow up mean avg_value_GLUCOSE:', no_avg_value_GLUCOSE.mean())\n",
    "print('avg_value_GLUCOSE p-value:', p_value)"
   ]
  },
  {
   "cell_type": "code",
   "execution_count": 64,
   "id": "4d858808",
   "metadata": {},
   "outputs": [
    {
     "name": "stdout",
     "output_type": "stream",
     "text": [
      "follow up mean max_value_GLUCOSE: 268.3020833333333\n",
      "no follow up mean max_value_GLUCOSE: 261.8775510204082\n",
      "max_value_GLUCOSE p-value: 0.8185889828358099\n"
     ]
    }
   ],
   "source": [
    "# max_value_GLUCOSE\n",
    "\n",
    "yes_max_value_GLUCOSE = yes['max_value_GLUCOSE'].dropna().to_numpy()\n",
    "no_max_value_GLUCOSE = no['max_value_GLUCOSE'].dropna().to_numpy()\n",
    "t_stat, p_value = ttest_ind(yes_max_value_GLUCOSE, no_max_value_GLUCOSE, equal_var=True) \n",
    "print('follow up mean max_value_GLUCOSE:', yes_max_value_GLUCOSE.mean())\n",
    "print('no follow up mean max_value_GLUCOSE:', no_max_value_GLUCOSE.mean())\n",
    "print('max_value_GLUCOSE p-value:', p_value)"
   ]
  },
  {
   "cell_type": "code",
   "execution_count": 65,
   "id": "274f57f6",
   "metadata": {},
   "outputs": [
    {
     "name": "stdout",
     "output_type": "stream",
     "text": [
      "follow up mean avg_value_GLUCOSE_POC: 274.91658099665983\n",
      "no follow up mean avg_value_GLUCOSE_POC: 274.3641025641026\n",
      "avg_value_GLUCOSE_POC p-value: 0.9822660957714858\n"
     ]
    }
   ],
   "source": [
    "# avg_value_GLUCOSE_POC\n",
    "\n",
    "yes_avg_value_GLUCOSE_POC = yes['avg_value_GLUCOSE, POC'].dropna().to_numpy()\n",
    "no_avg_value_GLUCOSE_POC = no['avg_value_GLUCOSE, POC'].dropna().to_numpy()\n",
    "t_stat, p_value = ttest_ind(yes_avg_value_GLUCOSE_POC, no_avg_value_GLUCOSE_POC, equal_var=True) \n",
    "print('follow up mean avg_value_GLUCOSE_POC:', yes_avg_value_GLUCOSE_POC.mean())\n",
    "print('no follow up mean avg_value_GLUCOSE_POC:', no_avg_value_GLUCOSE_POC.mean())\n",
    "print('avg_value_GLUCOSE_POC p-value:', p_value)"
   ]
  },
  {
   "cell_type": "code",
   "execution_count": 66,
   "id": "dc671314",
   "metadata": {},
   "outputs": [
    {
     "name": "stdout",
     "output_type": "stream",
     "text": [
      "follow up mean max_value_GLUCOSE_POC: 324.07216494845363\n",
      "no follow up mean max_value_GLUCOSE_POC: 292.7307692307692\n",
      "max_value_GLUCOSE_POC p-value: 0.31802174949461837\n"
     ]
    }
   ],
   "source": [
    "# max_value_GLUCOSE_POC\n",
    "\n",
    "yes_max_value_GLUCOSE_POC = yes['max_value_GLUCOSE, POC'].dropna().to_numpy()\n",
    "no_max_value_GLUCOSE_POC = no['max_value_GLUCOSE, POC'].dropna().to_numpy()\n",
    "t_stat, p_value = ttest_ind(yes_max_value_GLUCOSE_POC, no_max_value_GLUCOSE_POC, equal_var=True) \n",
    "print('follow up mean max_value_GLUCOSE_POC:', yes_max_value_GLUCOSE_POC.mean())\n",
    "print('no follow up mean max_value_GLUCOSE_POC:', no_max_value_GLUCOSE_POC.mean())\n",
    "print('max_value_GLUCOSE_POC p-value:', p_value)"
   ]
  },
  {
   "cell_type": "code",
   "execution_count": 67,
   "id": "dabcacea",
   "metadata": {},
   "outputs": [
    {
     "name": "stdout",
     "output_type": "stream",
     "text": [
      "follow up mean avg_value_HDL_CHOLESTEROL: 41.53846153846154\n",
      "no follow up mean avg_value_HDL_CHOLESTEROL: 35.5\n",
      "avg_value_HDL_CHOLESTEROL p-value: 0.4116105928268441\n"
     ]
    }
   ],
   "source": [
    "# avg_value_HDL_CHOLESTEROL\n",
    "\n",
    "yes_avg_value_HDL_CHOLESTEROL = yes['avg_value_HDL CHOLESTEROL'].dropna().to_numpy()\n",
    "no_avg_value_HDL_CHOLESTEROL = no['avg_value_HDL CHOLESTEROL'].dropna().to_numpy()\n",
    "t_stat, p_value = ttest_ind(yes_avg_value_HDL_CHOLESTEROL, no_avg_value_HDL_CHOLESTEROL, equal_var=True) \n",
    "print('follow up mean avg_value_HDL_CHOLESTEROL:', yes_avg_value_HDL_CHOLESTEROL.mean())\n",
    "print('no follow up mean avg_value_HDL_CHOLESTEROL:', no_avg_value_HDL_CHOLESTEROL.mean())\n",
    "print('avg_value_HDL_CHOLESTEROL p-value:', p_value)"
   ]
  },
  {
   "cell_type": "code",
   "execution_count": 68,
   "id": "00648ea5",
   "metadata": {},
   "outputs": [
    {
     "name": "stdout",
     "output_type": "stream",
     "text": [
      "follow up mean max_value_HDL_CHOLESTEROL: 41.53846153846154\n",
      "no follow up mean max_value_HDL_CHOLESTEROL: 35.5\n",
      "max_value_HDL_CHOLESTEROL p-value: 0.4116105928268441\n"
     ]
    }
   ],
   "source": [
    "# max_value_HDL_CHOLESTEROL\n",
    "\n",
    "yes_max_value_HDL_CHOLESTEROL = yes['max_value_HDL CHOLESTEROL'].dropna().to_numpy()\n",
    "no_max_value_HDL_CHOLESTEROL = no['max_value_HDL CHOLESTEROL'].dropna().to_numpy()\n",
    "t_stat, p_value = ttest_ind(yes_max_value_HDL_CHOLESTEROL, no_max_value_HDL_CHOLESTEROL, equal_var=True) \n",
    "print('follow up mean max_value_HDL_CHOLESTEROL:', yes_max_value_HDL_CHOLESTEROL.mean())\n",
    "print('no follow up mean max_value_HDL_CHOLESTEROL:', no_max_value_HDL_CHOLESTEROL.mean())\n",
    "print('max_value_HDL_CHOLESTEROL p-value:', p_value)"
   ]
  },
  {
   "cell_type": "code",
   "execution_count": 69,
   "id": "143b3c73",
   "metadata": {},
   "outputs": [
    {
     "name": "stdout",
     "output_type": "stream",
     "text": [
      "follow up mean avg_value_HEMOGLOBIN_A1C: 9.142076503825137\n",
      "no follow up mean avg_value_HEMOGLOBIN_A1C: 8.927659559574467\n",
      "avg_value_HEMOGLOBIN_A1C p-value: 0.6095460821180638\n"
     ]
    }
   ],
   "source": [
    "# avg_value_HEMOGLOBIN_A1C\n",
    "\n",
    "yes_avg_value_HEMOGLOBIN_A1C = yes['avg_value_HEMOGLOBIN A1C'].dropna().to_numpy()\n",
    "no_avg_value_HEMOGLOBIN_A1C = no['avg_value_HEMOGLOBIN A1C'].dropna().to_numpy()\n",
    "t_stat, p_value = ttest_ind(yes_avg_value_HEMOGLOBIN_A1C, no_avg_value_HEMOGLOBIN_A1C, equal_var=True) \n",
    "print('follow up mean avg_value_HEMOGLOBIN_A1C:', yes_avg_value_HEMOGLOBIN_A1C.mean())\n",
    "print('no follow up mean avg_value_HEMOGLOBIN_A1C:', no_avg_value_HEMOGLOBIN_A1C.mean())\n",
    "print('avg_value_HEMOGLOBIN_A1C p-value:', p_value)"
   ]
  },
  {
   "cell_type": "code",
   "execution_count": 70,
   "id": "2f87b3d2",
   "metadata": {},
   "outputs": [
    {
     "name": "stdout",
     "output_type": "stream",
     "text": [
      "follow up mean max_value_HEMOGLOBIN_A1C: 9.143169400546448\n",
      "no follow up mean max_value_HEMOGLOBIN_A1C: 8.927659559574467\n",
      "max_value_HEMOGLOBIN_A1C p-value: 0.6077010830415719\n"
     ]
    }
   ],
   "source": [
    "# max_value_HEMOGLOBIN_A1C\n",
    "\n",
    "yes_max_value_HEMOGLOBIN_A1C = yes['max_value_HEMOGLOBIN A1C'].dropna().to_numpy()\n",
    "no_max_value_HEMOGLOBIN_A1C = no['max_value_HEMOGLOBIN A1C'].dropna().to_numpy()\n",
    "t_stat, p_value = ttest_ind(yes_max_value_HEMOGLOBIN_A1C, no_max_value_HEMOGLOBIN_A1C, equal_var=True) \n",
    "print('follow up mean max_value_HEMOGLOBIN_A1C:', yes_max_value_HEMOGLOBIN_A1C.mean())\n",
    "print('no follow up mean max_value_HEMOGLOBIN_A1C:', no_max_value_HEMOGLOBIN_A1C.mean())\n",
    "print('max_value_HEMOGLOBIN_A1C p-value:', p_value)"
   ]
  },
  {
   "cell_type": "code",
   "execution_count": 71,
   "id": "6303ed1c",
   "metadata": {},
   "outputs": [
    {
     "name": "stdout",
     "output_type": "stream",
     "text": [
      "follow up mean avg_value_LDL_CHOLESTEROL_CALCULATED: 125.45454545454545\n",
      "no follow up mean avg_value_LDL_CHOLESTEROL_CALCULATED: 56.0\n",
      "avg_value_LDL_CHOLESTEROL_CALCULATED p-value: 0.1472963199060483\n"
     ]
    }
   ],
   "source": [
    "# avg_value_LDL_CHOLESTEROL_CALCULATED\n",
    "\n",
    "yes_avg_value_LDL_CHOLESTEROL_CALCULATED = yes['avg_value_LDL CHOLESTEROL, CALCULATED'].dropna().to_numpy()\n",
    "no_avg_value_LDL_CHOLESTEROL_CALCULATED = no['avg_value_LDL CHOLESTEROL, CALCULATED'].dropna().to_numpy()\n",
    "t_stat, p_value = ttest_ind(yes_avg_value_LDL_CHOLESTEROL_CALCULATED, no_avg_value_LDL_CHOLESTEROL_CALCULATED, equal_var=True) \n",
    "print('follow up mean avg_value_LDL_CHOLESTEROL_CALCULATED:', yes_avg_value_LDL_CHOLESTEROL_CALCULATED.mean())\n",
    "print('no follow up mean avg_value_LDL_CHOLESTEROL_CALCULATED:', no_avg_value_LDL_CHOLESTEROL_CALCULATED.mean())\n",
    "print('avg_value_LDL_CHOLESTEROL_CALCULATED p-value:', p_value)"
   ]
  },
  {
   "cell_type": "code",
   "execution_count": 72,
   "id": "02539762",
   "metadata": {},
   "outputs": [
    {
     "name": "stdout",
     "output_type": "stream",
     "text": [
      "follow up mean max_value_LDL_CHOLESTEROL_CALCULATED: 125.45454545454545\n",
      "no follow up mean max_value_LDL_CHOLESTEROL_CALCULATED: 56.0\n",
      "max_value_LDL_CHOLESTEROL_CALCULATED p-value: 0.1472963199060483\n"
     ]
    }
   ],
   "source": [
    "# max_value_LDL_CHOLESTEROL_CALCULATED\n",
    "\n",
    "yes_max_value_LDL_CHOLESTEROL_CALCULATED = yes['max_value_LDL CHOLESTEROL, CALCULATED'].dropna().to_numpy()\n",
    "no_max_value_LDL_CHOLESTEROL_CALCULATED = no['max_value_LDL CHOLESTEROL, CALCULATED'].dropna().to_numpy()\n",
    "t_stat, p_value = ttest_ind(yes_max_value_LDL_CHOLESTEROL_CALCULATED, no_max_value_LDL_CHOLESTEROL_CALCULATED, equal_var=True) \n",
    "print('follow up mean max_value_LDL_CHOLESTEROL_CALCULATED:', yes_max_value_LDL_CHOLESTEROL_CALCULATED.mean())\n",
    "print('no follow up mean max_value_LDL_CHOLESTEROL_CALCULATED:', no_max_value_LDL_CHOLESTEROL_CALCULATED.mean())\n",
    "print('max_value_LDL_CHOLESTEROL_CALCULATED p-value:', p_value)"
   ]
  }
 ],
 "metadata": {
  "kernelspec": {
   "display_name": "capstone",
   "language": "python",
   "name": "python3"
  },
  "language_info": {
   "codemirror_mode": {
    "name": "ipython",
    "version": 3
   },
   "file_extension": ".py",
   "mimetype": "text/x-python",
   "name": "python",
   "nbconvert_exporter": "python",
   "pygments_lexer": "ipython3",
   "version": "3.13.1"
  }
 },
 "nbformat": 4,
 "nbformat_minor": 5
}
