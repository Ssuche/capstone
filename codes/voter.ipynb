{
 "cells": [
  {
   "cell_type": "code",
   "execution_count": 1,
   "metadata": {},
   "outputs": [],
   "source": [
    "from sklearn.linear_model import LogisticRegression\n",
    "from sklearn.ensemble import RandomForestClassifier\n",
    "from sklearn.svm import SVC\n",
    "from xgboost import XGBClassifier\n",
    "import numpy as np \n",
    "import warnings\n",
    "warnings.filterwarnings(\"ignore\")"
   ]
  },
  {
   "cell_type": "code",
   "execution_count": 2,
   "metadata": {},
   "outputs": [],
   "source": [
    "# logistic regreesion\n",
    "\n",
    "# Best parameters: Best parameters: {'C': 0.001, 'class_weight': {0: 2, 1: 1}, 'fit_intercept': False, 'max_iter': 10000, 'multi_class': 'multinomial', 'penalty': 'l2', 'solver': 'newton-cg', 'tol': 1e-07}\n",
    "\n",
    "\n",
    "lr = LogisticRegression(\n",
    "    C=0.001,\n",
    "    class_weight={0: 2, 1: 1},\n",
    "    fit_intercept=False,\n",
    "    max_iter=10000,\n",
    "    multi_class='multinomial',\n",
    "    penalty='l2',\n",
    "    solver='newton-cg',\n",
    "    tol=1e-07\n",
    ")\n",
    "\n",
    "# random forest\n",
    "\n",
    "# Best parameters: {'class_weight': None, 'criterion': 'gini', 'max_depth': None, 'max_features': 1, 'min_samples_leaf': 1, 'min_samples_split': 2, 'n_estimators': 400}\n",
    "\n",
    "rf = RandomForestClassifier(\n",
    "    class_weight=None,\n",
    "    criterion='gini',\n",
    "    max_depth=None,\n",
    "    max_features=1,\n",
    "    min_samples_leaf=1,\n",
    "    min_samples_split=2,\n",
    "    n_estimators=400\n",
    ")\n",
    "\n",
    "# SVM\n",
    "\n",
    "# Best parameters: {'C': 100, 'class_weight': 'balanced', 'coef0': 0, 'degree': 2, 'gamma': 0.1, 'kernel': 'rbf', 'max_iter': 100000, 'tol': 1e-05}\n",
    "\n",
    "svc = SVC(\n",
    "    C=100,\n",
    "    class_weight='balanced',\n",
    "    coef0=0,\n",
    "    degree=2,\n",
    "    gamma=0.1,\n",
    "    kernel='rbf',\n",
    "    max_iter=100000,\n",
    "    tol=1e-05,\n",
    "    probability=True\n",
    ")\n",
    "\n",
    "# xgboost\n",
    "\n",
    "# Best parameters: {'alpha': 1, 'colsample_bytree': 1.0, 'gamma': 0, 'lambda': 1, 'learning_rate': 0.5, 'max_delta_step': 1, 'max_depth': 5, 'min_child_weight': 1, 'n_estimators':xx 1000, 'subsample': 1.0}\n",
    "\n",
    "xgb = XGBClassifier(\n",
    "    alpha=1,\n",
    "    colsample_bytree=1.0,\n",
    "    gamma=0,\n",
    "    lambda_=1,\n",
    "    learning_rate=0.5,\n",
    "    max_delta_step=1,\n",
    "    max_depth=5,\n",
    "    min_child_weight=1,\n",
    "    n_estimators=1000,\n",
    "    subsample=1.0\n",
    ")\n",
    "\n"
   ]
  },
  {
   "cell_type": "code",
   "execution_count": 3,
   "metadata": {},
   "outputs": [],
   "source": [
    "import one_hot\n",
    "X_train, X_test, y_train, y_test = one_hot.splits()"
   ]
  },
  {
   "cell_type": "code",
   "execution_count": null,
   "metadata": {},
   "outputs": [],
   "source": []
  },
  {
   "cell_type": "code",
   "execution_count": 4,
   "metadata": {},
   "outputs": [
    {
     "name": "stdout",
     "output_type": "stream",
     "text": [
      "\n"
     ]
    }
   ],
   "source": [
    "lr.fit(X_train, y_train)\n",
    "rf.fit(X_train, y_train)\n",
    "svc.fit(X_train, y_train)\n",
    "xgb.fit(X_train, y_train)\n",
    "\n",
    "print()"
   ]
  },
  {
   "cell_type": "code",
   "execution_count": 5,
   "metadata": {},
   "outputs": [
    {
     "name": "stdout",
     "output_type": "stream",
     "text": [
      "LogisticRegression: 0.5241\n",
      "RandomForest:       0.2950\n",
      "SVM:                0.3388\n",
      "XGBoost:            0.5866\n"
     ]
    }
   ],
   "source": [
    "# thresholds for each model\n",
    "\n",
    "import optimal_threshold\n",
    "lr_rate = optimal_threshold.f1score(lr, X_test, y_test)\n",
    "rf_rate = optimal_threshold.f1score(rf, X_test, y_test)\n",
    "svc_rate = optimal_threshold.f1score(svc, X_test, y_test)\n",
    "xgb_rate = optimal_threshold.f1score(xgb, X_test, y_test)\n",
    "\n",
    "print(f\"LogisticRegression: {lr_rate:.4f}\")\n",
    "print(f\"RandomForest:       {rf_rate:.4f}\")\n",
    "print(f\"SVM:                {svc_rate:.4f}\")\n",
    "print(f\"XGBoost:            {xgb_rate:.4f}\")\n",
    "\n",
    "thresholds = {\n",
    "    'lr': lr_rate,\n",
    "    'rf': rf_rate,\n",
    "    #'svc': svc_rate,\n",
    "    #'xgb': xgb_rate\n",
    "}"
   ]
  },
  {
   "cell_type": "code",
   "execution_count": 6,
   "metadata": {},
   "outputs": [],
   "source": [
    "proba_lr = lr.predict_proba(X_test)[:, 0]\n",
    "proba_rf = rf.predict_proba(X_test)[:, 0]\n",
    "proba_svc = svc.predict_proba(X_test)[:, 0]\n",
    "proba_xgb = xgb.predict_proba(X_test)[:, 0]\n",
    "\n",
    "preds_stacked = np.vstack([\n",
    "    np.where(proba_lr < thresholds['lr'], 1, 0),\n",
    "    np.where(proba_rf < thresholds['rf'], 1, 0),\n",
    "    #np.where(proba_svc < thresholds['svc'], 1, 0),\n",
    "    #np.where(proba_xgb < thresholds['xgb'], 1, 0)\n",
    "]).T"
   ]
  },
  {
   "cell_type": "code",
   "execution_count": 7,
   "metadata": {},
   "outputs": [
    {
     "name": "stdout",
     "output_type": "stream",
     "text": [
      "Classification Report:\n",
      "               precision    recall  f1-score   support\n",
      "\n",
      "           0       0.70      0.70      0.70        10\n",
      "           1       0.93      0.93      0.93        41\n",
      "\n",
      "    accuracy                           0.88        51\n",
      "   macro avg       0.81      0.81      0.81        51\n",
      "weighted avg       0.88      0.88      0.88        51\n",
      "\n",
      "ROC AUC: 0.8134146341463414\n"
     ]
    }
   ],
   "source": [
    "voting_preds = np.sum(preds_stacked, axis=1) == (len(thresholds))\n",
    "final_preds = voting_preds.astype(int)\n",
    "\n",
    "from sklearn.metrics import classification_report, f1_score, roc_auc_score\n",
    "\n",
    "print(\"Classification Report:\\n\", classification_report(y_test, final_preds))\n",
    "print(\"ROC AUC:\", roc_auc_score(y_test, final_preds))"
   ]
  }
 ],
 "metadata": {
  "kernelspec": {
   "display_name": "capstone",
   "language": "python",
   "name": "python3"
  },
  "language_info": {
   "codemirror_mode": {
    "name": "ipython",
    "version": 3
   },
   "file_extension": ".py",
   "mimetype": "text/x-python",
   "name": "python",
   "nbconvert_exporter": "python",
   "pygments_lexer": "ipython3",
   "version": "3.13.1"
  }
 },
 "nbformat": 4,
 "nbformat_minor": 2
}
