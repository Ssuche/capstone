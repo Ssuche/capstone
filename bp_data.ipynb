{
 "cells": [
  {
   "cell_type": "code",
   "execution_count": 1,
   "metadata": {},
   "outputs": [],
   "source": [
    "import pandas as pd\n",
    "import numpy as np\n",
    "import warnings\n",
    "warnings.filterwarnings(\"ignore\")\n",
    "\n",
    "path = 'data/'"
   ]
  },
  {
   "cell_type": "code",
   "execution_count": 2,
   "metadata": {},
   "outputs": [],
   "source": [
    "# import the redcap data\n",
    "# data\\Deidentified REDCap Survey Data 2024.08.26.csv\n",
    "redcap = pd.read_csv(path + 'Deidentified REDCap Survey Data 2024.08.26.csv')\n",
    "redcap['visit_date'] = pd.to_datetime(redcap['visit_date']).dt.strftime('%Y-%m-%d')\n",
    "temp = redcap.copy()\n",
    "temp['visit_date'] = pd.to_datetime(temp['visit_date'])\n",
    "temp = temp[['encrypt_mrn', 'ed_screened', 'visit_date', 'new_diagnosis', 'pcp_followup']]\n",
    "temp = temp.drop_duplicates(subset='encrypt_mrn', keep='first')"
   ]
  },
  {
   "cell_type": "code",
   "execution_count": 3,
   "metadata": {},
   "outputs": [],
   "source": [
    "# import boold pressure data\n",
    "# data\\Historical Blood Pressure Data File 2024.08.23.csv\n",
    "bp = pd.read_csv(path + 'Historical Blood Pressure Data File 2024.08.23.csv')\n",
    "bp['bp_date'] = pd.to_datetime(bp['bp_date'])\n",
    "bp = bp.rename(columns={'bp_date': 'visit_date'})\n",
    "bp['bp_difference'] = bp['sbp'] - bp['dbp']"
   ]
  },
  {
   "cell_type": "code",
   "execution_count": 4,
   "metadata": {},
   "outputs": [],
   "source": [
    "# group the blood pressure data by encrypt_mrn and visit_date\n",
    "bp_group = bp.groupby(['encrypt_mrn', 'visit_date']).agg(\n",
    "    max_sbp=('sbp', 'max'),\n",
    "    min_dbp=('dbp', 'min'),\n",
    "    max_diff=('bp_difference', 'max'),\n",
    "    avg_sbp=('sbp', 'mean'),\n",
    "    avg_dbp=('dbp', 'mean'),\n",
    "    avg_diff=('bp_difference', 'mean'),\n",
    "    test_nums=('encrypt_mrn','count')\n",
    ").reset_index()\n",
    "\n",
    "# keep two decimal places\n",
    "bp_group = bp_group.round({\n",
    "    'max_sbp': 2,\n",
    "    'min_dbp': 2,\n",
    "    'max_diff': 2,\n",
    "    'avg_sbp': 2,\n",
    "    'avg_dbp': 2,\n",
    "    'avg_diff': 2\n",
    "})\n",
    "\n",
    "bp_group['visit_date'] = pd.to_datetime(bp_group['visit_date'])"
   ]
  },
  {
   "cell_type": "code",
   "execution_count": 5,
   "metadata": {},
   "outputs": [],
   "source": [
    "# merge the redcap data with the blood pressure data\n",
    "merged = pd.merge(temp, bp_group, on=['encrypt_mrn', 'visit_date'], how='left')"
   ]
  },
  {
   "cell_type": "code",
   "execution_count": 6,
   "metadata": {},
   "outputs": [],
   "source": [
    "merged.to_csv('processed_data/bp_data.csv', index=False)"
   ]
  }
 ],
 "metadata": {
  "kernelspec": {
   "display_name": "capstone",
   "language": "python",
   "name": "python3"
  },
  "language_info": {
   "codemirror_mode": {
    "name": "ipython",
    "version": 3
   },
   "file_extension": ".py",
   "mimetype": "text/x-python",
   "name": "python",
   "nbconvert_exporter": "python",
   "pygments_lexer": "ipython3",
   "version": "3.12.7"
  }
 },
 "nbformat": 4,
 "nbformat_minor": 2
}
