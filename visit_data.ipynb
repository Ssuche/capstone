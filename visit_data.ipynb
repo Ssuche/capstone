{
 "cells": [
  {
   "cell_type": "code",
   "execution_count": 1,
   "metadata": {},
   "outputs": [],
   "source": [
    "import pandas as pd\n",
    "import warnings\n",
    "warnings.filterwarnings(\"ignore\")\n",
    "\n",
    "path = 'data/'"
   ]
  },
  {
   "cell_type": "code",
   "execution_count": 2,
   "metadata": {},
   "outputs": [],
   "source": [
    "# import the redcap data\n",
    "# data\\Deidentified REDCap Survey Data 2024.08.26.csv\n",
    "redcap = pd.read_csv(path + 'Deidentified REDCap Survey Data 2024.08.26.csv')\n",
    "redcap['visit_date'] = pd.to_datetime(redcap['visit_date']).dt.strftime('%Y-%m-%d')\n",
    "temp = redcap.copy()\n",
    "temp['visit_date'] = pd.to_datetime(temp['visit_date'])\n",
    "temp = temp[['encrypt_mrn', 'ed_screened', 'visit_date', 'new_diagnosis', 'pcp_followup']]"
   ]
  },
  {
   "cell_type": "code",
   "execution_count": 3,
   "metadata": {},
   "outputs": [],
   "source": [
    "# import the visit data\n",
    "# data\\Historical NYU Visit Data File 2024.08.26.csv\n",
    "visit = pd.read_csv(path + 'Historical NYU Visit Data File 2024.08.26.csv')"
   ]
  },
  {
   "cell_type": "code",
   "execution_count": 4,
   "metadata": {},
   "outputs": [
    {
     "data": {
      "text/plain": [
       "(514, 6)"
      ]
     },
     "execution_count": 4,
     "metadata": {},
     "output_type": "execute_result"
    }
   ],
   "source": [
    "# Perform the left merge\n",
    "\n",
    "temp['visit_date'] = pd.to_datetime(temp['visit_date'], errors='coerce')\n",
    "visit['visit_date'] = pd.to_datetime(visit['visit_date'], errors='coerce')\n",
    "merged = pd.merge(temp, visit, on=['encrypt_mrn','visit_date'], how='left')\n",
    "# drop rows duplicated by the merge by encrypt_mrn\n",
    "merged = merged.drop_duplicates(subset='encrypt_mrn')\n",
    "merged.shape"
   ]
  },
  {
   "cell_type": "code",
   "execution_count": 5,
   "metadata": {},
   "outputs": [],
   "source": [
    "merged.to_csv('processed_data/visit_data.csv', index=False)"
   ]
  }
 ],
 "metadata": {
  "kernelspec": {
   "display_name": "capstone",
   "language": "python",
   "name": "python3"
  },
  "language_info": {
   "codemirror_mode": {
    "name": "ipython",
    "version": 3
   },
   "file_extension": ".py",
   "mimetype": "text/x-python",
   "name": "python",
   "nbconvert_exporter": "python",
   "pygments_lexer": "ipython3",
   "version": "3.12.7"
  }
 },
 "nbformat": 4,
 "nbformat_minor": 2
}
